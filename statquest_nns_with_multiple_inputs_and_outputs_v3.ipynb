{
 "cells": [
  {
   "cell_type": "markdown",
   "id": "34006ee1-51e5-4a48-82de-021a71e1201a",
   "metadata": {
    "tags": []
   },
   "source": [
    "# StatQuest: Neural Networks with Multiple Inputs and Outputs!!!\n",
    "\n",
    "Copyright 2024, Joshua Starmer"
   ]
  },
  {
   "cell_type": "markdown",
   "id": "7cf0aedd-9400-4ce1-8885-d800f997cb6b",
   "metadata": {},
   "source": [
    "---- \n",
    "\n",
    "In this tutorial, we will use **[PyTorch](https://pytorch.org/) + [Lightning](https://www.lightning.ai/)** to create and optimize a simple neural network with multiple inputs and outputs, like the one shown in the picture below.\n",
    "\n",
    "<img src=\"./images/final_nn.png\" alt=\"a neural network with multiple inputs and outputs\" style=\"width: 600px;\">\n",
    "\n",
    "In this tutorial, you will...\n",
    "\n",
    "- **[Import and Format Data and Build a DataLoader From Scratch](#data)**\n",
    "- **[Build a Neural Network with Multiple Inputs and Outputs](#build)**\n",
    "- **[Train a Neural Network with Multiple Inputs and Outputs](#train)**\n",
    "- **[Make Predictions with New Data](#predict)**\n",
    "\n",
    "#### NOTE:\n",
    "This tutorial assumes that you already know the basics of coding in **Python** and are familiar with the theory behind **[Neural Networks](https://youtu.be/CqOfi41LfDw)** and  **[Backpropagation](https://youtu.be/IN2XmBhILt4)**. If not, check out the **StatQuests** by clicking on the links for each topic.\n",
    "\n",
    "#### ALSO NOTE:\n",
    "I strongly encourage you to play around with the code. Playing with the code is the best way to learn from it."
   ]
  },
  {
   "cell_type": "markdown",
   "id": "9c3669a0-284c-48f7-9c73-19812e2a8fac",
   "metadata": {},
   "source": [
    "-----"
   ]
  },
  {
   "cell_type": "markdown",
   "id": "5b4feccd-8472-4bb2-bc56-ea41e527d714",
   "metadata": {},
   "source": [
    "# Import the modules that will do all the work\n",
    "\n",
    "The very first thing we need to do is load a bunch of Python modules. Python itself is just a basic programming language. These modules give us extra functionality to create and train a Neural Network."
   ]
  },
  {
   "cell_type": "code",
   "execution_count": 1,
   "id": "2e6b9647-24a8-4c13-9665-a036d9a8e121",
   "metadata": {},
   "outputs": [],
   "source": [
    "import torch # torch will allow us to create tensors.\n",
    "import torch.nn as nn # torch.nn allows us to create a neural network.\n",
    "import torch.nn.functional as F # nn.functional give us access to the activation and loss functions.\n",
    "from torch.optim import Adam # optim contains many optimizers. This time we're using Adam\n",
    "\n",
    "import lightning as L # lightning has tons of cool tools that make neural networks easier\n",
    "from torch.utils.data import TensorDataset, DataLoader # these are needed for the training data\n",
    "\n",
    "import pandas as pd # We'll use pandas to read in the data and normalize it\n",
    "from sklearn.model_selection import train_test_split # We'll use this to create training and testing datasets\n",
    "from numpy.random import seed # to ensure the same train/test split each time."
   ]
  },
  {
   "cell_type": "markdown",
   "id": "e18e66ff-db47-4057-9f50-7c9576ec58ee",
   "metadata": {},
   "source": [
    "----"
   ]
  },
  {
   "cell_type": "markdown",
   "id": "d23672f4-c30e-42de-9d35-5fa6b9bfd0f5",
   "metadata": {},
   "source": [
    "<a id=\"data\"></a>\n",
    "# Import and Format Data and Build a DataLoader From Scratch.\n",
    "\n",
    "Once we have the Python modules imported, now we need to import the data that we will use to train and test our neural network. Specifically, we're going to use the **[Iris flower dataset](https://en.wikipedia.org/wiki/Iris_flower_data_set)**, which we will import from a comma-separated (CSV) text file so that we can learn how to build a DataLoader from scratch.\n",
    "\n",
    "The **[Iris flower dataset](https://en.wikipedia.org/wiki/Iris_flower_data_set)** is a classic dataset originally made famous by Rondal Fisher in 1936, and has since been used countless times to demonstrate the effectiveness of various classification algorithms. The dataset consists of 150 samples total, 50 for each of 3 species of Iris, **Setosa**, **Versicolor**, and **Virginica**. Each row in the dataset contains measurements for 4 variables: **[petal](https://en.wikipedia.org/wiki/Petal)** width and length and **[sepal](https://en.wikipedia.org/wiki/Sepal)** width and length."
   ]
  },
  {
   "cell_type": "markdown",
   "id": "3f49de94-6dfe-43d1-a97b-44b07b31b1c4",
   "metadata": {},
   "source": [
    "**NOTE:** The data file we are going import, `iris.txt`, was originally downloaded from the **[UC Irvine Machine Learning Repository](https://archive.ics.uci.edu/)**, which has a lot of great datasets that you can practice building Neural Networks (or any other machine learning algorithm) with. When you download the datasets from UCI, you get one file that has the data and another file that describes the data, including providing us with the names of each variable, or column, in the dataset. If you'd like to see the original data files, you can find them **[here](https://archive.ics.uci.edu/dataset/53/iris)**."
   ]
  },
  {
   "cell_type": "code",
   "execution_count": 2,
   "id": "2de83623",
   "metadata": {},
   "outputs": [
    {
     "name": "stdout",
     "output_type": "stream",
     "text": [
      "{'uci_id': 53, 'name': 'Iris', 'repository_url': 'https://archive.ics.uci.edu/dataset/53/iris', 'data_url': 'https://archive.ics.uci.edu/static/public/53/data.csv', 'abstract': 'A small classic dataset from Fisher, 1936. One of the earliest known datasets used for evaluating classification methods.\\n', 'area': 'Biology', 'tasks': ['Classification'], 'characteristics': ['Tabular'], 'num_instances': 150, 'num_features': 4, 'feature_types': ['Real'], 'demographics': [], 'target_col': ['class'], 'index_col': None, 'has_missing_values': 'no', 'missing_values_symbol': None, 'year_of_dataset_creation': 1936, 'last_updated': 'Tue Sep 12 2023', 'dataset_doi': '10.24432/C56C76', 'creators': ['R. A. Fisher'], 'intro_paper': {'title': 'The Iris data set: In search of the source of virginica', 'authors': 'A. Unwin, K. Kleinman', 'published_in': 'Significance, 2021', 'year': 2021, 'url': 'https://www.semanticscholar.org/paper/4599862ea877863669a6a8e63a3c707a787d5d7e', 'doi': '1740-9713.01589'}, 'additional_info': {'summary': 'This is one of the earliest datasets used in the literature on classification methods and widely used in statistics and machine learning.  The data set contains 3 classes of 50 instances each, where each class refers to a type of iris plant.  One class is linearly separable from the other 2; the latter are not linearly separable from each other.\\n\\nPredicted attribute: class of iris plant.\\n\\nThis is an exceedingly simple domain.\\n\\nThis data differs from the data presented in Fishers article (identified by Steve Chadwick,  spchadwick@espeedaz.net ).  The 35th sample should be: 4.9,3.1,1.5,0.2,\"Iris-setosa\" where the error is in the fourth feature. The 38th sample: 4.9,3.6,1.4,0.1,\"Iris-setosa\" where the errors are in the second and third features.  ', 'purpose': 'N/A', 'funded_by': None, 'instances_represent': 'Each instance is a plant', 'recommended_data_splits': None, 'sensitive_data': None, 'preprocessing_description': None, 'variable_info': None, 'citation': None}}\n",
      "           name     role         type demographic  \\\n",
      "0  sepal length  Feature   Continuous        None   \n",
      "1   sepal width  Feature   Continuous        None   \n",
      "2  petal length  Feature   Continuous        None   \n",
      "3   petal width  Feature   Continuous        None   \n",
      "4         class   Target  Categorical        None   \n",
      "\n",
      "                                         description units missing_values  \n",
      "0                                               None    cm             no  \n",
      "1                                               None    cm             no  \n",
      "2                                               None    cm             no  \n",
      "3                                               None    cm             no  \n",
      "4  class of iris plant: Iris Setosa, Iris Versico...  None             no  \n"
     ]
    }
   ],
   "source": [
    "from ucimlrepo import fetch_ucirepo \n",
    "  \n",
    "# fetch dataset \n",
    "iris = fetch_ucirepo(id=53) \n",
    "  \n",
    "# data (as pandas dataframes) \n",
    "X = iris.data.features \n",
    "y = iris.data.targets \n",
    "  \n",
    "# metadata \n",
    "print(iris.metadata) \n",
    "  \n",
    "# variable information \n",
    "print(iris.variables) \n"
   ]
  },
  {
   "cell_type": "code",
   "execution_count": 3,
   "id": "545b5096-a942-4097-800a-ea38b24c5478",
   "metadata": {},
   "outputs": [],
   "source": [
    "## We'll read in the dataset with the pandas function read_table()\n",
    "## read_table() can read in various text files including, comma-separated and tab-delimted.\n",
    "df = pd.read_table('iris.data', sep=\",\", header=None)\n",
    "## NOTE: If the data were tab-delimted, we would set sep=\"\\t\"."
   ]
  },
  {
   "cell_type": "markdown",
   "id": "bb56234a-7c1d-4f62-a655-e3d722ba50c7",
   "metadata": {},
   "source": [
    "Now, in theory, we have loaded the data into a DataFrame called `df`, but it's always a good idea to make sure this worked as expected. So, we'll print out the first handful of rows in the dataset with the `head()` method."
   ]
  },
  {
   "cell_type": "code",
   "execution_count": 4,
   "id": "8f040fe4-dc2c-4258-a438-38d7d975da4e",
   "metadata": {},
   "outputs": [
    {
     "data": {
      "text/html": [
       "<div>\n",
       "<style scoped>\n",
       "    .dataframe tbody tr th:only-of-type {\n",
       "        vertical-align: middle;\n",
       "    }\n",
       "\n",
       "    .dataframe tbody tr th {\n",
       "        vertical-align: top;\n",
       "    }\n",
       "\n",
       "    .dataframe thead th {\n",
       "        text-align: right;\n",
       "    }\n",
       "</style>\n",
       "<table border=\"1\" class=\"dataframe\">\n",
       "  <thead>\n",
       "    <tr style=\"text-align: right;\">\n",
       "      <th></th>\n",
       "      <th>0</th>\n",
       "      <th>1</th>\n",
       "      <th>2</th>\n",
       "      <th>3</th>\n",
       "      <th>4</th>\n",
       "    </tr>\n",
       "  </thead>\n",
       "  <tbody>\n",
       "    <tr>\n",
       "      <th>0</th>\n",
       "      <td>5.1</td>\n",
       "      <td>3.5</td>\n",
       "      <td>1.4</td>\n",
       "      <td>0.2</td>\n",
       "      <td>Iris-setosa</td>\n",
       "    </tr>\n",
       "    <tr>\n",
       "      <th>1</th>\n",
       "      <td>4.9</td>\n",
       "      <td>3.0</td>\n",
       "      <td>1.4</td>\n",
       "      <td>0.2</td>\n",
       "      <td>Iris-setosa</td>\n",
       "    </tr>\n",
       "    <tr>\n",
       "      <th>2</th>\n",
       "      <td>4.7</td>\n",
       "      <td>3.2</td>\n",
       "      <td>1.3</td>\n",
       "      <td>0.2</td>\n",
       "      <td>Iris-setosa</td>\n",
       "    </tr>\n",
       "    <tr>\n",
       "      <th>3</th>\n",
       "      <td>4.6</td>\n",
       "      <td>3.1</td>\n",
       "      <td>1.5</td>\n",
       "      <td>0.2</td>\n",
       "      <td>Iris-setosa</td>\n",
       "    </tr>\n",
       "    <tr>\n",
       "      <th>4</th>\n",
       "      <td>5.0</td>\n",
       "      <td>3.6</td>\n",
       "      <td>1.4</td>\n",
       "      <td>0.2</td>\n",
       "      <td>Iris-setosa</td>\n",
       "    </tr>\n",
       "  </tbody>\n",
       "</table>\n",
       "</div>"
      ],
      "text/plain": [
       "     0    1    2    3            4\n",
       "0  5.1  3.5  1.4  0.2  Iris-setosa\n",
       "1  4.9  3.0  1.4  0.2  Iris-setosa\n",
       "2  4.7  3.2  1.3  0.2  Iris-setosa\n",
       "3  4.6  3.1  1.5  0.2  Iris-setosa\n",
       "4  5.0  3.6  1.4  0.2  Iris-setosa"
      ]
     },
     "execution_count": 4,
     "metadata": {},
     "output_type": "execute_result"
    }
   ],
   "source": [
    "## print out the first handful of rows using the head() method\n",
    "df.head()"
   ]
  },
  {
   "cell_type": "markdown",
   "id": "38b97bc9-edc4-4915-a498-7a1bb239cd17",
   "metadata": {},
   "source": [
    "When we print out the first few rows of our new DataFrame, `df`, the first thing we see is that the columns are not named. In theory, it's fine to have unnamed columns (and just have numbers), but it makes the data hard to look at, so let's add the column names to `df`. To name each column, we simply assign a list of column names to `columns`."
   ]
  },
  {
   "cell_type": "code",
   "execution_count": 5,
   "id": "2226d80c-defe-4dd7-aa8f-6657346d5279",
   "metadata": {},
   "outputs": [
    {
     "data": {
      "text/html": [
       "<div>\n",
       "<style scoped>\n",
       "    .dataframe tbody tr th:only-of-type {\n",
       "        vertical-align: middle;\n",
       "    }\n",
       "\n",
       "    .dataframe tbody tr th {\n",
       "        vertical-align: top;\n",
       "    }\n",
       "\n",
       "    .dataframe thead th {\n",
       "        text-align: right;\n",
       "    }\n",
       "</style>\n",
       "<table border=\"1\" class=\"dataframe\">\n",
       "  <thead>\n",
       "    <tr style=\"text-align: right;\">\n",
       "      <th></th>\n",
       "      <th>sepal_length</th>\n",
       "      <th>sepal_width</th>\n",
       "      <th>petal_length</th>\n",
       "      <th>petal_width</th>\n",
       "      <th>class</th>\n",
       "    </tr>\n",
       "  </thead>\n",
       "  <tbody>\n",
       "    <tr>\n",
       "      <th>0</th>\n",
       "      <td>5.1</td>\n",
       "      <td>3.5</td>\n",
       "      <td>1.4</td>\n",
       "      <td>0.2</td>\n",
       "      <td>Iris-setosa</td>\n",
       "    </tr>\n",
       "    <tr>\n",
       "      <th>1</th>\n",
       "      <td>4.9</td>\n",
       "      <td>3.0</td>\n",
       "      <td>1.4</td>\n",
       "      <td>0.2</td>\n",
       "      <td>Iris-setosa</td>\n",
       "    </tr>\n",
       "    <tr>\n",
       "      <th>2</th>\n",
       "      <td>4.7</td>\n",
       "      <td>3.2</td>\n",
       "      <td>1.3</td>\n",
       "      <td>0.2</td>\n",
       "      <td>Iris-setosa</td>\n",
       "    </tr>\n",
       "    <tr>\n",
       "      <th>3</th>\n",
       "      <td>4.6</td>\n",
       "      <td>3.1</td>\n",
       "      <td>1.5</td>\n",
       "      <td>0.2</td>\n",
       "      <td>Iris-setosa</td>\n",
       "    </tr>\n",
       "    <tr>\n",
       "      <th>4</th>\n",
       "      <td>5.0</td>\n",
       "      <td>3.6</td>\n",
       "      <td>1.4</td>\n",
       "      <td>0.2</td>\n",
       "      <td>Iris-setosa</td>\n",
       "    </tr>\n",
       "  </tbody>\n",
       "</table>\n",
       "</div>"
      ],
      "text/plain": [
       "   sepal_length  sepal_width  petal_length  petal_width        class\n",
       "0           5.1          3.5           1.4          0.2  Iris-setosa\n",
       "1           4.9          3.0           1.4          0.2  Iris-setosa\n",
       "2           4.7          3.2           1.3          0.2  Iris-setosa\n",
       "3           4.6          3.1           1.5          0.2  Iris-setosa\n",
       "4           5.0          3.6           1.4          0.2  Iris-setosa"
      ]
     },
     "execution_count": 5,
     "metadata": {},
     "output_type": "execute_result"
    }
   ],
   "source": [
    "## To name each column, we assign a list of column names to `columns`\n",
    "df.columns = [\"sepal_length\",\n",
    "              \"sepal_width\", \n",
    "              \"petal_length\", \n",
    "              \"petal_width\", \n",
    "              \"class\"]\n",
    "\n",
    "## To verify we did that correctly, let's print out the first few rows\n",
    "df.head()"
   ]
  },
  {
   "cell_type": "markdown",
   "id": "12738def-82bb-4bc1-b917-d1cf9388d5f8",
   "metadata": {},
   "source": [
    "Hooray! Now that we can look at our DataFrame without getting a headache, let's see how big this dataset is and figure out how many different iris species we will have to train our neural network to predict. First, let's see how many rows and columns are in the dataset with `.shape`."
   ]
  },
  {
   "cell_type": "code",
   "execution_count": 6,
   "id": "9b875a53-e2dd-481e-98e2-a7983efcba13",
   "metadata": {},
   "outputs": [
    {
     "data": {
      "text/plain": [
       "(150, 5)"
      ]
     },
     "execution_count": 6,
     "metadata": {},
     "output_type": "execute_result"
    }
   ],
   "source": [
    "df.shape ## shape returns the rows and colunns..."
   ]
  },
  {
   "cell_type": "markdown",
   "id": "3a20ad34-a948-481f-8f37-663416daeda7",
   "metadata": {},
   "source": [
    "So, our dataset has 150 rows and 5 columns. Now let's see how many different types of iris are in it. We'll do this by counting the unique values in the column called `class` with `.nunique()`."
   ]
  },
  {
   "cell_type": "code",
   "execution_count": 7,
   "id": "c5913c8b-3a8a-4082-8c9d-58eea18607e7",
   "metadata": {},
   "outputs": [
    {
     "data": {
      "text/plain": [
       "3"
      ]
     },
     "execution_count": 7,
     "metadata": {},
     "output_type": "execute_result"
    }
   ],
   "source": [
    "## To determine the number of iris species in the dataset,\n",
    "## we'll count the number of unique values in the column called `class`.\n",
    "df['class'].nunique()"
   ]
  },
  {
   "cell_type": "markdown",
   "id": "e7847fb8-c7e9-4ef3-b742-5875dc6de37e",
   "metadata": {},
   "source": [
    "And we get the number we expected, 3. So that's good! Now let's print out the names of the 3 species with `.unique()`"
   ]
  },
  {
   "cell_type": "code",
   "execution_count": 8,
   "id": "14ee5364-06d6-4960-9921-23d12c524e8a",
   "metadata": {},
   "outputs": [
    {
     "data": {
      "text/plain": [
       "array(['Iris-setosa', 'Iris-versicolor', 'Iris-virginica'], dtype=object)"
      ]
     },
     "execution_count": 8,
     "metadata": {},
     "output_type": "execute_result"
    }
   ],
   "source": [
    "## We can print out the unique values in a dataframe's column with the 'unique()' method.\n",
    "df['class'].unique()"
   ]
  },
  {
   "cell_type": "markdown",
   "id": "98ef960e-1a0a-4eac-929b-22489228b362",
   "metadata": {},
   "source": [
    "So, just as we expected, we see that we have 3 different species of iris in our dataset: **Setosa**, **Versicolor**, **Virginica**."
   ]
  },
  {
   "cell_type": "markdown",
   "id": "1401a7fa-1dc8-402f-b4a1-cec544eb0f3e",
   "metadata": {},
   "source": [
    "Now let's verify that our dataset is balanced, meaning we have roughly the same number of entries (rows) in our data for each of the 3 iris species that we want our neural network to classify. We can do this with a fancy `for` loop that prints out the number of rows per class, regardless of the number of classes we have in our dataset."
   ]
  },
  {
   "cell_type": "code",
   "execution_count": 7,
   "id": "a61c6daa-bc21-4d53-a91f-c48fa4844d77",
   "metadata": {},
   "outputs": [
    {
     "name": "stdout",
     "output_type": "stream",
     "text": [
      "Iris-setosa: 50\n",
      "Iris-versicolor: 50\n",
      "Iris-virginica: 50\n"
     ]
    }
   ],
   "source": [
    "for class_name in df['class'].unique(): # for each unique class name...\n",
    "    \n",
    "    ## ...print out the number of rows associated with it\n",
    "    print(class_name, \": \", sum(df['class'] == class_name), sep=\"\") "
   ]
  },
  {
   "cell_type": "markdown",
   "id": "7fc6a6e8-0398-4507-be5a-4aa9a76b4d90",
   "metadata": {},
   "source": [
    "In this case, our dataset isn't just relatively well balanced, it is exactly balanced, and each class has exactly 50 rows of data associated with it. However, if things were really skewed, for example, we had 100 rows of data for **Setosa**, 100 rows for **Versicolor**, and only 10 rows of data for **Virginica**, then we might need to find some way to make the data more balanced. Balancing datasets is way out of the scope of this tutorial, but if you'd like to learn more with this simple **[Google search](https://www.google.com/search?q=how+to+balance+datasets)**."
   ]
  },
  {
   "cell_type": "markdown",
   "id": "e4018d2c-7f27-40a1-ad71-b75b33f1ddbd",
   "metadata": {},
   "source": [
    "Now, let's split the data into **training** and **testing** datasets. The first step is to separate the columns into input values and labels.\n",
    "\n",
    "In this example, to keep the neural network simple, we'll just use `petal_width` and `sepal_width` values for the inputs. So the first we'll do is make sure we can correctly isolate the columns we want from the columns we don't want. We do this by passing `df` a list of column names we want to get values for, `['petal_width', 'sepal_width']`."
   ]
  },
  {
   "cell_type": "code",
   "execution_count": 10,
   "id": "ebcdc455-78a9-4db7-88ed-cddf769b1ecb",
   "metadata": {},
   "outputs": [
    {
     "data": {
      "text/html": [
       "<div>\n",
       "<style scoped>\n",
       "    .dataframe tbody tr th:only-of-type {\n",
       "        vertical-align: middle;\n",
       "    }\n",
       "\n",
       "    .dataframe tbody tr th {\n",
       "        vertical-align: top;\n",
       "    }\n",
       "\n",
       "    .dataframe thead th {\n",
       "        text-align: right;\n",
       "    }\n",
       "</style>\n",
       "<table border=\"1\" class=\"dataframe\">\n",
       "  <thead>\n",
       "    <tr style=\"text-align: right;\">\n",
       "      <th></th>\n",
       "      <th>petal_width</th>\n",
       "      <th>sepal_width</th>\n",
       "    </tr>\n",
       "  </thead>\n",
       "  <tbody>\n",
       "    <tr>\n",
       "      <th>0</th>\n",
       "      <td>0.2</td>\n",
       "      <td>3.5</td>\n",
       "    </tr>\n",
       "    <tr>\n",
       "      <th>1</th>\n",
       "      <td>0.2</td>\n",
       "      <td>3.0</td>\n",
       "    </tr>\n",
       "    <tr>\n",
       "      <th>2</th>\n",
       "      <td>0.2</td>\n",
       "      <td>3.2</td>\n",
       "    </tr>\n",
       "    <tr>\n",
       "      <th>3</th>\n",
       "      <td>0.2</td>\n",
       "      <td>3.1</td>\n",
       "    </tr>\n",
       "    <tr>\n",
       "      <th>4</th>\n",
       "      <td>0.2</td>\n",
       "      <td>3.6</td>\n",
       "    </tr>\n",
       "  </tbody>\n",
       "</table>\n",
       "</div>"
      ],
      "text/plain": [
       "   petal_width  sepal_width\n",
       "0          0.2          3.5\n",
       "1          0.2          3.0\n",
       "2          0.2          3.2\n",
       "3          0.2          3.1\n",
       "4          0.2          3.6"
      ]
     },
     "execution_count": 10,
     "metadata": {},
     "output_type": "execute_result"
    }
   ],
   "source": [
    "## Print out the first few rows of just the `petal_width` and `sepal_width` columns\n",
    "df[['petal_width', 'sepal_width']].head() "
   ]
  },
  {
   "cell_type": "markdown",
   "id": "a2a37a2f-20a8-4f04-baa3-ae13cd9566dd",
   "metadata": {},
   "source": [
    "Now that we have confirmed that we can correctly isolate the values for `petal_width` and `sepal_width`, let's use the original DataFrame, `df`, to create two new DataFrames. One DataFrame will have the petal and sepal widths, the values we will use to make predictions, and we'll call this DataFrame `input_values`. The other DataFrame will have the species, the values we will use to determine how good those predictions are, and this DataFrame will be called `label_values`."
   ]
  },
  {
   "cell_type": "code",
   "execution_count": 11,
   "id": "63ae66da-a69f-4ac2-8f64-cad40b5c4daf",
   "metadata": {},
   "outputs": [
    {
     "data": {
      "text/html": [
       "<div>\n",
       "<style scoped>\n",
       "    .dataframe tbody tr th:only-of-type {\n",
       "        vertical-align: middle;\n",
       "    }\n",
       "\n",
       "    .dataframe tbody tr th {\n",
       "        vertical-align: top;\n",
       "    }\n",
       "\n",
       "    .dataframe thead th {\n",
       "        text-align: right;\n",
       "    }\n",
       "</style>\n",
       "<table border=\"1\" class=\"dataframe\">\n",
       "  <thead>\n",
       "    <tr style=\"text-align: right;\">\n",
       "      <th></th>\n",
       "      <th>sepal_length</th>\n",
       "      <th>sepal_width</th>\n",
       "      <th>petal_length</th>\n",
       "      <th>petal_width</th>\n",
       "    </tr>\n",
       "  </thead>\n",
       "  <tbody>\n",
       "    <tr>\n",
       "      <th>0</th>\n",
       "      <td>5.1</td>\n",
       "      <td>3.5</td>\n",
       "      <td>1.4</td>\n",
       "      <td>0.2</td>\n",
       "    </tr>\n",
       "    <tr>\n",
       "      <th>1</th>\n",
       "      <td>4.9</td>\n",
       "      <td>3.0</td>\n",
       "      <td>1.4</td>\n",
       "      <td>0.2</td>\n",
       "    </tr>\n",
       "    <tr>\n",
       "      <th>2</th>\n",
       "      <td>4.7</td>\n",
       "      <td>3.2</td>\n",
       "      <td>1.3</td>\n",
       "      <td>0.2</td>\n",
       "    </tr>\n",
       "    <tr>\n",
       "      <th>3</th>\n",
       "      <td>4.6</td>\n",
       "      <td>3.1</td>\n",
       "      <td>1.5</td>\n",
       "      <td>0.2</td>\n",
       "    </tr>\n",
       "    <tr>\n",
       "      <th>4</th>\n",
       "      <td>5.0</td>\n",
       "      <td>3.6</td>\n",
       "      <td>1.4</td>\n",
       "      <td>0.2</td>\n",
       "    </tr>\n",
       "  </tbody>\n",
       "</table>\n",
       "</div>"
      ],
      "text/plain": [
       "   sepal_length  sepal_width  petal_length  petal_width\n",
       "0           5.1          3.5           1.4          0.2\n",
       "1           4.9          3.0           1.4          0.2\n",
       "2           4.7          3.2           1.3          0.2\n",
       "3           4.6          3.1           1.5          0.2\n",
       "4           5.0          3.6           1.4          0.2"
      ]
     },
     "execution_count": 11,
     "metadata": {},
     "output_type": "execute_result"
    }
   ],
   "source": [
    "input_values = df[['sepal_length', 'sepal_width', 'petal_length', 'petal_width']]\n",
    "input_values.head()"
   ]
  },
  {
   "cell_type": "code",
   "execution_count": 12,
   "id": "43cee969-3620-4c84-b6e4-6a115229587a",
   "metadata": {},
   "outputs": [
    {
     "data": {
      "text/plain": [
       "0    Iris-setosa\n",
       "1    Iris-setosa\n",
       "2    Iris-setosa\n",
       "3    Iris-setosa\n",
       "4    Iris-setosa\n",
       "Name: class, dtype: object"
      ]
     },
     "execution_count": 12,
     "metadata": {},
     "output_type": "execute_result"
    }
   ],
   "source": [
    "label_values = df['class']\n",
    "label_values.head()"
   ]
  },
  {
   "cell_type": "markdown",
   "id": "1713310a-7341-49a1-bb7a-a1f5c989a459",
   "metadata": {},
   "source": [
    "Now, because neural networks expect the inputs and output values to be numbers, we need to convert the values in the `label_values` into numbers, and we'll do this with `factorize()`."
   ]
  },
  {
   "cell_type": "code",
   "execution_count": 13,
   "id": "20c8f6af-e49a-4248-a024-020a77225677",
   "metadata": {},
   "outputs": [
    {
     "data": {
      "text/plain": [
       "array([0, 0, 0, 0, 0, 0, 0, 0, 0, 0, 0, 0, 0, 0, 0, 0, 0, 0, 0, 0, 0, 0,\n",
       "       0, 0, 0, 0, 0, 0, 0, 0, 0, 0, 0, 0, 0, 0, 0, 0, 0, 0, 0, 0, 0, 0,\n",
       "       0, 0, 0, 0, 0, 0, 1, 1, 1, 1, 1, 1, 1, 1, 1, 1, 1, 1, 1, 1, 1, 1,\n",
       "       1, 1, 1, 1, 1, 1, 1, 1, 1, 1, 1, 1, 1, 1, 1, 1, 1, 1, 1, 1, 1, 1,\n",
       "       1, 1, 1, 1, 1, 1, 1, 1, 1, 1, 1, 1, 2, 2, 2, 2, 2, 2, 2, 2, 2, 2,\n",
       "       2, 2, 2, 2, 2, 2, 2, 2, 2, 2, 2, 2, 2, 2, 2, 2, 2, 2, 2, 2, 2, 2,\n",
       "       2, 2, 2, 2, 2, 2, 2, 2, 2, 2, 2, 2, 2, 2, 2, 2, 2, 2])"
      ]
     },
     "execution_count": 13,
     "metadata": {},
     "output_type": "execute_result"
    }
   ],
   "source": [
    "## Convert the strings in the 'class' column into numbers with factorize()\n",
    "classes_as_numbers = label_values.factorize()[0] ## NOTE: factorize() returns a list of lists, \n",
    "                                                 ## and since we only need the first list of values,\n",
    "                                                 ## we index the output of factorize() with [0].\n",
    "classes_as_numbers ## print out the numbers"
   ]
  },
  {
   "cell_type": "markdown",
   "id": "7a2084e9-98d1-4041-93ec-8529a3ee9ce0",
   "metadata": {},
   "source": [
    "As we can see, the strings were converted into numbers. The first 50 values are 0, which represents **Setosa**. The following 50 values are 1, for **Versicolor**, and the last 50 values are 2, for **Viriginica**. "
   ]
  },
  {
   "cell_type": "markdown",
   "id": "f666186a-93e1-42ab-b2b8-cad73602dd58",
   "metadata": {},
   "source": [
    "Now, we need to split `input_values` and `classes_as_numbers` into **training** and **testing datasets**. And we do this with the **[sklearn](https://scikit-learn.org/stable/modules/generated/sklearn.model_selection.train_test_split.html)** function `train_test_split()`. **NOTE:** In practice, people usually use anywhere from 25-33% of the data for testing how well the model was trained. In this case, we'll use 25%, which is the default, but any percentage can be specified by setting the `test_size` parameter to a value between 0 and 1. Also, because we want to ensure that our test dataset has data for all three species of iris, we'll set `stratify=label_values`."
   ]
  },
  {
   "cell_type": "code",
   "execution_count": 14,
   "id": "8de576eb-43fc-425a-8164-5f1f37d1dfc6",
   "metadata": {},
   "outputs": [],
   "source": [
    "seed(42)\n",
    "input_train, input_test, label_train, label_test = train_test_split(input_values,\n",
    "                                                                    classes_as_numbers, \n",
    "                                                                    test_size=0.25,\n",
    "                                                                    stratify=classes_as_numbers)"
   ]
  },
  {
   "cell_type": "markdown",
   "id": "eab8389e-1c0e-4c16-9990-745a7535b9cf",
   "metadata": {
    "tags": []
   },
   "source": [
    "Now we can verify that `train_test_split()` correctly put 75% of the data into `input_train` and `input_test` by printing out their shapes. Remember 75% of 150 = 112.5, so we would expect both `input_train` and `input_test` to have 112 rows."
   ]
  },
  {
   "cell_type": "code",
   "execution_count": 15,
   "id": "41bdf25a-ebaa-4f20-99f3-21934064f532",
   "metadata": {
    "tags": []
   },
   "outputs": [
    {
     "data": {
      "text/plain": [
       "(112, 4)"
      ]
     },
     "execution_count": 15,
     "metadata": {},
     "output_type": "execute_result"
    }
   ],
   "source": [
    "input_train.shape"
   ]
  },
  {
   "cell_type": "code",
   "execution_count": 16,
   "id": "fd59c3a6-e5c1-4542-952c-c9492e0bb724",
   "metadata": {},
   "outputs": [
    {
     "data": {
      "text/plain": [
       "(112,)"
      ]
     },
     "execution_count": 16,
     "metadata": {},
     "output_type": "execute_result"
    }
   ],
   "source": [
    "label_train.shape"
   ]
  },
  {
   "cell_type": "markdown",
   "id": "e518f978-bf7a-4842-a8d2-d473407992ce",
   "metadata": {},
   "source": [
    "Hooray!!! Both `input_train` and `label_train` have 112 rows, which is what we expect. Now, let's verify that the remaining 38 rows of data went into `input_test` and `label_test` by printing out their shapes."
   ]
  },
  {
   "cell_type": "code",
   "execution_count": 17,
   "id": "bccd4630-49e7-4c3d-8111-ea3d89fa124d",
   "metadata": {},
   "outputs": [
    {
     "data": {
      "text/plain": [
       "(38, 4)"
      ]
     },
     "execution_count": 17,
     "metadata": {},
     "output_type": "execute_result"
    }
   ],
   "source": [
    "input_test.shape"
   ]
  },
  {
   "cell_type": "code",
   "execution_count": 18,
   "id": "a68e4a53-0d44-46bb-8bd2-ac3329d4cdd4",
   "metadata": {},
   "outputs": [
    {
     "data": {
      "text/plain": [
       "(38,)"
      ]
     },
     "execution_count": 18,
     "metadata": {},
     "output_type": "execute_result"
    }
   ],
   "source": [
    "label_test.shape"
   ]
  },
  {
   "cell_type": "markdown",
   "id": "cc316911-298b-40e9-b179-bad8a25cca98",
   "metadata": {},
   "source": [
    "Hooray again! `train_test_split()` did what we expected."
   ]
  },
  {
   "cell_type": "markdown",
   "id": "6e069b36-9403-4bf7-a374-24151154f6ab",
   "metadata": {},
   "source": [
    "Now, because our neural network will have 3 outputs, one for each species (see the drawing of the neural network above), we need to convert the numbers in `label_train` into 3 element arrays, where each element in an array corresponds to a specific output in the neural network. Specifically, we'll use `[1.0, 0.0, 0.0]` to correspond to **Setosa**, `[0.0, 1.0, 0.0]` for  **Versicolor**, and `[0.0, 0.0, 1.0]` for **Virginica**. The good news is that we can easily do the **[one-hot encoding](https://youtu.be/589nCGeWG1w)**. We also tack on `type(torch.float32)` to ensure the numbers are saved in the correct format for the neural network to process efficiently."
   ]
  },
  {
   "cell_type": "code",
   "execution_count": 19,
   "id": "49342d42-6b32-42a5-85a4-275339c6ac42",
   "metadata": {},
   "outputs": [],
   "source": [
    "## Now create a new tensor with one-hot encoded rows for each row in the original dataset.\n",
    "one_hot_label_train = F.one_hot(torch.tensor(label_train)).type(torch.float32)"
   ]
  },
  {
   "cell_type": "markdown",
   "id": "883c5915-3b27-4c70-9c63-867d474be9fd",
   "metadata": {},
   "source": [
    "**NOTE**: If we printed out the entire contents of `one_hot_label_train`, we'd get a matrix with 150 rows, which would take up a lot of space. So, instead, let's print out the first 10 rows."
   ]
  },
  {
   "cell_type": "code",
   "execution_count": 20,
   "id": "b31ea02e-566b-4792-af27-cd6f0317402b",
   "metadata": {},
   "outputs": [
    {
     "data": {
      "text/plain": [
       "tensor([[0., 0., 1.],\n",
       "        [0., 0., 1.],\n",
       "        [0., 1., 0.],\n",
       "        [0., 1., 0.],\n",
       "        [0., 1., 0.],\n",
       "        [0., 0., 1.],\n",
       "        [1., 0., 0.],\n",
       "        [0., 0., 1.],\n",
       "        [1., 0., 0.],\n",
       "        [0., 0., 1.]])"
      ]
     },
     "execution_count": 20,
     "metadata": {},
     "output_type": "execute_result"
    }
   ],
   "source": [
    "## Print out a few of the rows one-hot encoded data.\n",
    "one_hot_label_train[:10]"
   ]
  },
  {
   "cell_type": "markdown",
   "id": "40525279-c1d3-4940-b505-f742230cd570",
   "metadata": {},
   "source": [
    "So, as we can see in the output above, `classes_as_numbers` was correctly one-hot encoded and saved in `one_hot_label_train`."
   ]
  },
  {
   "cell_type": "markdown",
   "id": "4ac937a1-5caa-4d76-9685-8a6d811c27b3",
   "metadata": {},
   "source": [
    "Now, let's normalize the input variables so that their values range from 0 to 1. Normalizing data, so that it's all on the same scale, often makes it easier to train machine learning methods. In this case, since we have two datasets, `input_train` and `input_test`, we'll start determining the maximum and minimum values in `input_train`. Then we will use those values to normalize `input_train` and `input_test`. Using the maximum and minimum values from `input_train` to normalize both datasets avoids something called **Data Leakage**.\n",
    "\n",
    "**NOTE:** If you don't know what it means to **normalize** your data, check out this **[short song](https://youtube.com/shorts/oZ9SrkF_-LE?feature=share)** that has a good beat, and you can dance to it."
   ]
  },
  {
   "cell_type": "code",
   "execution_count": 21,
   "id": "d5185697-1816-44c1-80b5-2e7e2da7b00d",
   "metadata": {},
   "outputs": [
    {
     "data": {
      "text/plain": [
       "sepal_length    7.9\n",
       "sepal_width     4.4\n",
       "petal_length    6.9\n",
       "petal_width     2.5\n",
       "dtype: float64"
      ]
     },
     "execution_count": 21,
     "metadata": {},
     "output_type": "execute_result"
    }
   ],
   "source": [
    "## First, determine the maximum values in input_train...\n",
    "max_vals_in_input_train = input_train.max(axis=0)\n",
    "## Now print them out...\n",
    "max_vals_in_input_train"
   ]
  },
  {
   "cell_type": "code",
   "execution_count": 23,
   "id": "ce5355db-7f14-48ae-a93e-7d66c2f4daa6",
   "metadata": {},
   "outputs": [
    {
     "data": {
      "text/plain": [
       "sepal_length    4.3\n",
       "sepal_width     2.0\n",
       "petal_length    1.1\n",
       "petal_width     0.1\n",
       "dtype: float64"
      ]
     },
     "execution_count": 23,
     "metadata": {},
     "output_type": "execute_result"
    }
   ],
   "source": [
    "## Second, determine the minimum values in input_train\n",
    "min_vals_in_input_train = input_train.min()\n",
    "## Now print them out...\n",
    "min_vals_in_input_train"
   ]
  },
  {
   "cell_type": "code",
   "execution_count": 24,
   "id": "f8628abe-9ebe-4ccf-80cd-10e697d94b46",
   "metadata": {},
   "outputs": [
    {
     "data": {
      "text/html": [
       "<div>\n",
       "<style scoped>\n",
       "    .dataframe tbody tr th:only-of-type {\n",
       "        vertical-align: middle;\n",
       "    }\n",
       "\n",
       "    .dataframe tbody tr th {\n",
       "        vertical-align: top;\n",
       "    }\n",
       "\n",
       "    .dataframe thead th {\n",
       "        text-align: right;\n",
       "    }\n",
       "</style>\n",
       "<table border=\"1\" class=\"dataframe\">\n",
       "  <thead>\n",
       "    <tr style=\"text-align: right;\">\n",
       "      <th></th>\n",
       "      <th>sepal_length</th>\n",
       "      <th>sepal_width</th>\n",
       "      <th>petal_length</th>\n",
       "      <th>petal_width</th>\n",
       "    </tr>\n",
       "  </thead>\n",
       "  <tbody>\n",
       "    <tr>\n",
       "      <th>130</th>\n",
       "      <td>0.861111</td>\n",
       "      <td>0.333333</td>\n",
       "      <td>0.862069</td>\n",
       "      <td>0.750000</td>\n",
       "    </tr>\n",
       "    <tr>\n",
       "      <th>122</th>\n",
       "      <td>0.944444</td>\n",
       "      <td>0.333333</td>\n",
       "      <td>0.965517</td>\n",
       "      <td>0.791667</td>\n",
       "    </tr>\n",
       "    <tr>\n",
       "      <th>81</th>\n",
       "      <td>0.333333</td>\n",
       "      <td>0.166667</td>\n",
       "      <td>0.448276</td>\n",
       "      <td>0.375000</td>\n",
       "    </tr>\n",
       "    <tr>\n",
       "      <th>71</th>\n",
       "      <td>0.500000</td>\n",
       "      <td>0.333333</td>\n",
       "      <td>0.500000</td>\n",
       "      <td>0.500000</td>\n",
       "    </tr>\n",
       "    <tr>\n",
       "      <th>89</th>\n",
       "      <td>0.333333</td>\n",
       "      <td>0.208333</td>\n",
       "      <td>0.500000</td>\n",
       "      <td>0.500000</td>\n",
       "    </tr>\n",
       "  </tbody>\n",
       "</table>\n",
       "</div>"
      ],
      "text/plain": [
       "     sepal_length  sepal_width  petal_length  petal_width\n",
       "130      0.861111     0.333333      0.862069     0.750000\n",
       "122      0.944444     0.333333      0.965517     0.791667\n",
       "81       0.333333     0.166667      0.448276     0.375000\n",
       "71       0.500000     0.333333      0.500000     0.500000\n",
       "89       0.333333     0.208333      0.500000     0.500000"
      ]
     },
     "execution_count": 24,
     "metadata": {},
     "output_type": "execute_result"
    }
   ],
   "source": [
    "## Now normalize input_train with the maximum and minimum values from input_train\n",
    "input_train = (input_train - min_vals_in_input_train) / (max_vals_in_input_train - min_vals_in_input_train)\n",
    "input_train.head()"
   ]
  },
  {
   "cell_type": "code",
   "execution_count": 25,
   "id": "c9c49642-aef9-402b-9473-6bc07a712fbb",
   "metadata": {},
   "outputs": [
    {
     "data": {
      "text/html": [
       "<div>\n",
       "<style scoped>\n",
       "    .dataframe tbody tr th:only-of-type {\n",
       "        vertical-align: middle;\n",
       "    }\n",
       "\n",
       "    .dataframe tbody tr th {\n",
       "        vertical-align: top;\n",
       "    }\n",
       "\n",
       "    .dataframe thead th {\n",
       "        text-align: right;\n",
       "    }\n",
       "</style>\n",
       "<table border=\"1\" class=\"dataframe\">\n",
       "  <thead>\n",
       "    <tr style=\"text-align: right;\">\n",
       "      <th></th>\n",
       "      <th>sepal_length</th>\n",
       "      <th>sepal_width</th>\n",
       "      <th>petal_length</th>\n",
       "      <th>petal_width</th>\n",
       "    </tr>\n",
       "  </thead>\n",
       "  <tbody>\n",
       "    <tr>\n",
       "      <th>42</th>\n",
       "      <td>0.027778</td>\n",
       "      <td>0.500000</td>\n",
       "      <td>0.034483</td>\n",
       "      <td>0.041667</td>\n",
       "    </tr>\n",
       "    <tr>\n",
       "      <th>56</th>\n",
       "      <td>0.555556</td>\n",
       "      <td>0.541667</td>\n",
       "      <td>0.620690</td>\n",
       "      <td>0.625000</td>\n",
       "    </tr>\n",
       "    <tr>\n",
       "      <th>99</th>\n",
       "      <td>0.388889</td>\n",
       "      <td>0.333333</td>\n",
       "      <td>0.517241</td>\n",
       "      <td>0.500000</td>\n",
       "    </tr>\n",
       "    <tr>\n",
       "      <th>53</th>\n",
       "      <td>0.333333</td>\n",
       "      <td>0.125000</td>\n",
       "      <td>0.500000</td>\n",
       "      <td>0.500000</td>\n",
       "    </tr>\n",
       "    <tr>\n",
       "      <th>38</th>\n",
       "      <td>0.027778</td>\n",
       "      <td>0.416667</td>\n",
       "      <td>0.034483</td>\n",
       "      <td>0.041667</td>\n",
       "    </tr>\n",
       "  </tbody>\n",
       "</table>\n",
       "</div>"
      ],
      "text/plain": [
       "    sepal_length  sepal_width  petal_length  petal_width\n",
       "42      0.027778     0.500000      0.034483     0.041667\n",
       "56      0.555556     0.541667      0.620690     0.625000\n",
       "99      0.388889     0.333333      0.517241     0.500000\n",
       "53      0.333333     0.125000      0.500000     0.500000\n",
       "38      0.027778     0.416667      0.034483     0.041667"
      ]
     },
     "execution_count": 25,
     "metadata": {},
     "output_type": "execute_result"
    }
   ],
   "source": [
    "## Now normalize input_test with the maximum and minimum values from input_train\n",
    "input_test = (input_test - min_vals_in_input_train) / (max_vals_in_input_train - min_vals_in_input_train)\n",
    "input_test.head()"
   ]
  },
  {
   "cell_type": "markdown",
   "id": "383057be-98c7-4741-b3cd-20aa54a94d9a",
   "metadata": {},
   "source": [
    "Now, let's put our training data into a **DataLoader**, which we can use to train the neural network. **DataLoaders** are great for large datasets because they make it easy to access the data in batches, make it easy to shuffle the data each epoch, and they make it easy to use a relatively small fraction of the data if we want to do a quick and dirty training for debugging our code.\n",
    "\n",
    "To put our data training data into a **DataLoader**, we'll start by converting `input_train` into tensors with `torch.tensor()`. We'll then combine `'input_train` with `one_hot_label_train` to create a **TensorDataset**. Lastly, we'll use the **TensorDataset** to create the **DataLoader**."
   ]
  },
  {
   "cell_type": "markdown",
   "id": "5fedb584-dcb0-4e1b-ba22-f7ebaa40cfb0",
   "metadata": {},
   "source": [
    "**NOTE:** `torch.tensor()` will get all bent out of shape if we pass it a DataFrame directly. So, instead of passing it a DataFrame, we pass it the values by tacking `.values` on to the end of each DataFrame. We also tack on `type(torch.float32)` to make sure the numbers are saved in the correct format for the neural network to process efficiently."
   ]
  },
  {
   "cell_type": "code",
   "execution_count": 26,
   "id": "96216cf7-498e-4498-beb7-9e1b50a7bf84",
   "metadata": {},
   "outputs": [
    {
     "data": {
      "text/plain": [
       "tensor([[0.8611, 0.3333, 0.8621, 0.7500],\n",
       "        [0.9444, 0.3333, 0.9655, 0.7917],\n",
       "        [0.3333, 0.1667, 0.4483, 0.3750],\n",
       "        [0.5000, 0.3333, 0.5000, 0.5000],\n",
       "        [0.3333, 0.2083, 0.5000, 0.5000]])"
      ]
     },
     "execution_count": 26,
     "metadata": {},
     "output_type": "execute_result"
    }
   ],
   "source": [
    "## Convert the DataFrame input_train into tensors\n",
    "input_train_tensors = torch.tensor(input_train.values).type(torch.float32)\n",
    "\n",
    "## now print out the first 5 rows to make sure they are what we expect.\n",
    "input_train_tensors[:5] "
   ]
  },
  {
   "cell_type": "markdown",
   "id": "4de6d9df-347e-4017-bed7-80244e8c52fa",
   "metadata": {},
   "source": [
    "**NOTE:** Because we'll also need to run `input_test` through the neural network, we'll need to convert it to tensors as well, and we might as well do it now."
   ]
  },
  {
   "cell_type": "code",
   "execution_count": 27,
   "id": "43d15911-d4b0-4ccc-88ea-055a2be920a5",
   "metadata": {},
   "outputs": [
    {
     "data": {
      "text/plain": [
       "tensor([[0.0278, 0.5000, 0.0345, 0.0417],\n",
       "        [0.5556, 0.5417, 0.6207, 0.6250],\n",
       "        [0.3889, 0.3333, 0.5172, 0.5000],\n",
       "        [0.3333, 0.1250, 0.5000, 0.5000],\n",
       "        [0.0278, 0.4167, 0.0345, 0.0417]])"
      ]
     },
     "execution_count": 27,
     "metadata": {},
     "output_type": "execute_result"
    }
   ],
   "source": [
    "## Convert the DataFrame input_test into tensors\n",
    "input_test_tensors = torch.tensor(input_test.values).type(torch.float32)\n",
    "\n",
    "## now print out the first 5 rows to make sure they are what we expect.\n",
    "input_test_tensors[:5] "
   ]
  },
  {
   "cell_type": "markdown",
   "id": "cb8dd94d-c620-415c-8d06-3267e415c1d9",
   "metadata": {},
   "source": [
    "Now that we have tensors for `input_train`, named `input_train_tensors`, and we have the one-hot encoded `class` values stored in tensors called `label_train`, we can combine them into a **TensorDataset** that are, in turn, turned into **DataLoader**."
   ]
  },
  {
   "cell_type": "code",
   "execution_count": 28,
   "id": "46a23b9c-ae55-41cd-9828-db0f0eb39e3d",
   "metadata": {},
   "outputs": [],
   "source": [
    "train_dataset = TensorDataset(input_train_tensors, one_hot_label_train) \n",
    "train_dataloader = DataLoader(train_dataset)"
   ]
  },
  {
   "cell_type": "markdown",
   "id": "31955e37-156e-4c5b-b4bd-806d0e6e2d74",
   "metadata": {},
   "source": [
    "# BAM!\n",
    "\n",
    "At long last, we have created the **DataLoaders*** that we need to train and test a neural network. Now, let's build the neural network."
   ]
  },
  {
   "cell_type": "markdown",
   "id": "7a3fb953-440f-4930-a018-050070e67040",
   "metadata": {},
   "source": [
    "----"
   ]
  },
  {
   "cell_type": "markdown",
   "id": "09b97945-a5bb-47d2-a07a-04b0dce01539",
   "metadata": {},
   "source": [
    "<a id=\"build\"></a>\n",
    "# Building a Neural Network with Multiple Inputs and Outputs"
   ]
  },
  {
   "cell_type": "markdown",
   "id": "98ed8a32-4aeb-4a4e-9c6c-4bfff11ba0ea",
   "metadata": {},
   "source": [
    "Building a neural network with PyTorch means creating a new class. And to make it easy to train the neural network, this class will inherit from `LightningModule`.\n",
    "\n",
    "Our new class will have the following methods:\n",
    "- `__init__()` to initialize the Weights and Biases and keep track of a few other housekeeping things.\n",
    "- `forward()` to make a forward pass through the neural network.\n",
    "- `configure_optimizers()` to configure the optimizer. There are lots of optimizers to choose from, but in this tutorial, we'll change things up and use `Adam`.\n",
    "- `training_step()` to pass the training data to `forward()`, calculate the loss and keep track of the loss values in a log file.\n",
    "\n",
    "Also, for reference, here is a picture of the neural network we want to create:\n",
    "\n",
    "<img src=\"./images/final_nn.png\" alt=\"a neural network with multiple inputs and outputs\" style=\"width: 600px;\">"
   ]
  },
  {
   "cell_type": "markdown",
   "id": "73f26851-96df-4a84-b1ce-3351e61adf25",
   "metadata": {},
   "source": [
    "As we can see in the picture, our neural network has 2 inputs, one for Petal Width and one for Sepal Width, a single hidden layer with two **[ReLU](https://youtu.be/68BZ5f7P94E)** activation functions, and 3 outputs, one for each species of iris.\n",
    "\n",
    "So, given this specification for this neural network, let's code it in a new class called `MultipleInsOuts`."
   ]
  },
  {
   "cell_type": "code",
   "execution_count": 30,
   "id": "611711c1-ea20-48fa-bb89-c2ce5074dde7",
   "metadata": {},
   "outputs": [],
   "source": [
    "class MultipleInsOuts(L.LightningModule):\n",
    "    \n",
    "    def __init__(self):\n",
    "        \n",
    "        super().__init__() ## We call the __init__() for the parent, LightningModule, so that it\n",
    "                           ## can initialize itself as well.\n",
    "        \n",
    "        ## Now we the seed for the random number generorator.\n",
    "        ## This ensures that when you create a model from this class, that model\n",
    "        ## will start off with the exact same random numbers that I started out with when\n",
    "        ## I created this demo. At least, I hope that is what happens!!! :)\n",
    "        L.seed_everything(seed=42)\n",
    "        \n",
    "        ############################################################################\n",
    "        ##\n",
    "        ## Here is where we initialize the Weights and Biases for the neural network\n",
    "        ##\n",
    "        ############################################################################\n",
    "        \n",
    "        ## If you look at the drawing of the network we want to build (above), \n",
    "        ## you see that we have 2 inputs that lead to 2 activation functions.\n",
    "        ## We create these connections and initialize their Weights and Biases\n",
    "        ## with the nn.Linear() function by setting in_features=2 and out_features=2.\n",
    "        self.input_to_hidden = nn.Linear(in_features=4, out_features=2, bias=True)\n",
    "        \n",
    "        ## Next, we see that the 2 activation functions are connected to 3 outputs.\n",
    "        ## We create these connections and initialize their Weights and Biases\n",
    "        ## with the nn.Linear() function by setting in_features=2 and out_features=3. \n",
    "        self.hidden_to_output = nn.Linear(in_features=2, out_features=3, bias=True)\n",
    "        \n",
    "        ## We'll use Cross Entropy to calculate the loss between what the \n",
    "        ## neural network's predictions and actual, or known, species for\n",
    "        ## each row in the dataset.\n",
    "        ## To learn more about Cross Entropy, see: https://youtu.be/6ArSys5qHAU\n",
    "        ## NOTE: nn.CrossEntropyLoss applies a SoftMax function to the values\n",
    "        ## we give it, so we don't have to do that oursevles. However,\n",
    "        ## when we use this neural network (after it has been trained), we'll\n",
    "        ## have to remember to apply a SoftMax function to the output.\n",
    "        self.loss = nn.CrossEntropyLoss()\n",
    "    \n",
    "    \n",
    "    def forward(self, input): \n",
    "        \n",
    "        ## First, we run the input values to the activation functions\n",
    "        ## in the hidden layer\n",
    "        hidden = self.input_to_hidden(input)\n",
    "        \n",
    "        ## Then we run the values through a ReLU activation function\n",
    "        ## and then run those values to the output.\n",
    "        output_values = self.hidden_to_output(torch.relu(hidden))\n",
    "            \n",
    "        return(output_values)\n",
    "        \n",
    "    \n",
    "    def configure_optimizers(self):\n",
    "        \n",
    "        ## In this example, configuring the optimizer\n",
    "        ## consists of passing it the weights and biases we want\n",
    "        ## to optimize, which are all in self.parameters(),\n",
    "        ## and setting the learning rate with lr=0.001.\n",
    "        return Adam(self.parameters(), lr=0.001)\n",
    "\n",
    "    \n",
    "    def training_step(self, batch, batch_idx):\n",
    "        \n",
    "        ## The first thing we do is split 'batch'\n",
    "        ## into the input and label values.\n",
    "        inputs, labels = batch \n",
    "        \n",
    "        ## Then we run the input through the neural network\n",
    "        outputs = self.forward(inputs)\n",
    "        \n",
    "        ## Then we calculate the loss.\n",
    "        loss = self.loss(outputs, labels)\n",
    "        \n",
    "        ## Lastly, we could add the loss a log file\n",
    "        ## so that we can graph it later. This would\n",
    "        ## help us decide if we have done enough training\n",
    "        ## Ideally, if we do enough training, the loss\n",
    "        ## should be small and not getting any smaller.\n",
    "        # self.log(\"loss\", loss) \n",
    "        \n",
    "        return loss"
   ]
  },
  {
   "cell_type": "markdown",
   "id": "70a1ec20-c2d3-45f7-8ce7-e1c1df469f6d",
   "metadata": {},
   "source": [
    "Now that we've created a class for our neural network, let's train it."
   ]
  },
  {
   "cell_type": "markdown",
   "id": "921a6dd7-44ec-44ba-bffa-e0ab6eaa59d9",
   "metadata": {},
   "source": [
    "----"
   ]
  },
  {
   "cell_type": "markdown",
   "id": "645699fb-e215-46f2-b730-2e9276d0a407",
   "metadata": {
    "tags": []
   },
   "source": [
    "<a id=\"train\"></a>\n",
    "# Training our Neural Network"
   ]
  },
  {
   "cell_type": "markdown",
   "id": "6c2a3cac-ccb9-49d2-96fc-b797d7e0823c",
   "metadata": {},
   "source": [
    "Training our new neural network means we create a model from the new class, `MultipleInsOuts`..."
   ]
  },
  {
   "cell_type": "code",
   "execution_count": 31,
   "id": "e34ca1ef-4635-4630-a4d0-0ddf5bb2022d",
   "metadata": {},
   "outputs": [
    {
     "name": "stderr",
     "output_type": "stream",
     "text": [
      "Seed set to 42\n"
     ]
    }
   ],
   "source": [
    "model = MultipleInsOuts()"
   ]
  },
  {
   "cell_type": "markdown",
   "id": "cb353a83-3690-4a36-a164-e60e499bc79f",
   "metadata": {},
   "source": [
    "...and then create a **Lightning Trainer**, `L.Trainer`, and use it to optimize the parameters. **NOTE:** We will start with 10 epochs, complete runs through our training data. This may be enough to successfully optimize all of the parameters, but it might not. We'll find out later in the tutorial when we make a graph of how the loss values change during training."
   ]
  },
  {
   "cell_type": "code",
   "execution_count": 32,
   "id": "bee5f1bc-fcef-4cac-b33e-1225ec246f2d",
   "metadata": {},
   "outputs": [
    {
     "name": "stderr",
     "output_type": "stream",
     "text": [
      "GPU available: True (mps), used: True\n",
      "TPU available: False, using: 0 TPU cores\n",
      "IPU available: False, using: 0 IPUs\n",
      "HPU available: False, using: 0 HPUs\n",
      "\n",
      "  | Name             | Type             | Params\n",
      "------------------------------------------------------\n",
      "0 | input_to_hidden  | Linear           | 10    \n",
      "1 | hidden_to_output | Linear           | 9     \n",
      "2 | loss             | CrossEntropyLoss | 0     \n",
      "------------------------------------------------------\n",
      "19        Trainable params\n",
      "0         Non-trainable params\n",
      "19        Total params\n",
      "0.000     Total estimated model params size (MB)\n",
      "/opt/homebrew/lib/python3.11/site-packages/lightning/pytorch/trainer/connectors/data_connector.py:441: The 'train_dataloader' does not have many workers which may be a bottleneck. Consider increasing the value of the `num_workers` argument` to `num_workers=7` in the `DataLoader` to improve performance.\n"
     ]
    },
    {
     "data": {
      "application/vnd.jupyter.widget-view+json": {
       "model_id": "232dc77c67e54615aad81de807836619",
       "version_major": 2,
       "version_minor": 0
      },
      "text/plain": [
       "Training: |          | 0/? [00:00<?, ?it/s]"
      ]
     },
     "metadata": {},
     "output_type": "display_data"
    },
    {
     "name": "stderr",
     "output_type": "stream",
     "text": [
      "`Trainer.fit` stopped: `max_epochs=10` reached.\n"
     ]
    }
   ],
   "source": [
    "trainer = L.Trainer(max_epochs=10, devices=\"auto\", accelerator=\"auto\")\n",
    "trainer.fit(model, train_dataloaders=train_dataloader)"
   ]
  },
  {
   "cell_type": "markdown",
   "id": "2dc0b74a-127c-49aa-8168-91dd28483b5f",
   "metadata": {},
   "source": [
    "Hooray! We've trained the model with 10 epochs! Now, let's see if the predictions are any good. We can do this by seeing how well it predicts the testing data. We'll start by running `input_test_tensors` through the neural network and saving the output `predictions`."
   ]
  },
  {
   "cell_type": "code",
   "execution_count": 33,
   "id": "0fcdcfd9-36f1-44d2-ae8c-3b3f78e99693",
   "metadata": {},
   "outputs": [],
   "source": [
    "# Run the input_test_tensors through the neural network\n",
    "predictions = model(input_test_tensors)"
   ]
  },
  {
   "cell_type": "markdown",
   "id": "d258a469-33ae-4941-a5b8-86f9b1499ac4",
   "metadata": {},
   "source": [
    "Now, because our neural network has three outputs, one for **Setosa**, one for **Versicolor**, and one for **Virginica**, we should get 3 values for each row in `input_test_tensors`. We can verify that by looking at the first few rows of `predictions`."
   ]
  },
  {
   "cell_type": "code",
   "execution_count": 34,
   "id": "6ec2ed77-e863-40fb-9142-2da3ec9f3f78",
   "metadata": {},
   "outputs": [
    {
     "data": {
      "text/plain": [
       "tensor([[0.5216, 0.4102, 0.2740],\n",
       "        [0.7441, 0.7748, 0.7510],\n",
       "        [0.6714, 0.6557, 0.5952],\n",
       "        [0.6441, 0.6110, 0.5367]], grad_fn=<SliceBackward0>)"
      ]
     },
     "execution_count": 34,
     "metadata": {},
     "output_type": "execute_result"
    }
   ],
   "source": [
    "predictions[0:4,]"
   ]
  },
  {
   "cell_type": "markdown",
   "id": "52512e0f-9a49-4080-aeea-ceac0745ca5a",
   "metadata": {},
   "source": [
    "We can determine which species was predicted in `predictions` by selecting the index in each row that corresponding to the largest value, and we do that with `torch.argmax()`. `torch.argmax()` returns a tensor that contains the indices with the largest values for each row."
   ]
  },
  {
   "cell_type": "code",
   "execution_count": 35,
   "id": "8a336e70-1e01-48a2-9761-cb51c845dbbb",
   "metadata": {},
   "outputs": [
    {
     "data": {
      "text/plain": [
       "tensor([0, 1, 0, 0])"
      ]
     },
     "execution_count": 35,
     "metadata": {},
     "output_type": "execute_result"
    }
   ],
   "source": [
    "## Select the output with highest value...\n",
    "predicted_labels = torch.argmax(predictions, dim=1) ## dim=0 applies softmax to rows, dim=1 applies softmax to columns\n",
    "predicted_labels[0:4] # print out the first 4 predictions"
   ]
  },
  {
   "cell_type": "markdown",
   "id": "bb622159-b415-4e2e-83af-328cabad438e",
   "metadata": {},
   "source": [
    "In the first row index 0 had the largest value. Thus, the first prediction corresponds to **Setosa**. The second, third, and fourth rows predicted 2, which corresponds to **Virginica**.\n",
    "\n",
    "Now, let's compare what the neural network predicted in `predicted_labels` to the known values in `label_test` and calculate the percentage of correct predictions. We do this by adding up the number of times an element in `predicted_labels` equals the corresponding element in `label_test` and dividing by the number of elements in `predicted_labels`."
   ]
  },
  {
   "cell_type": "code",
   "execution_count": 36,
   "id": "0872e381-57ef-43e3-a6b4-9aa9d96c93e4",
   "metadata": {},
   "outputs": [
    {
     "data": {
      "text/plain": [
       "tensor(0.5789)"
      ]
     },
     "execution_count": 36,
     "metadata": {},
     "output_type": "execute_result"
    }
   ],
   "source": [
    "## Now compare predicted_labels with test_labels to calculate accuracy\n",
    "## NOTE: torch.eq() computes element-wise equality between two tensors.\n",
    "##       label_test, however, is just an array, so we convert it to a tensor\n",
    "##       before passing it in. torch.sum() then adds up all of the \"True\"\n",
    "##       output values to get the number of correct predictions. \n",
    "##       We then divide the number of correct predictions by the number of predicted values,\n",
    "##       obtained with len(predicted_labels), to get the percentage of correct predictions\n",
    "torch.sum(torch.eq(torch.tensor(label_test), predicted_labels)) / len(predicted_labels)"
   ]
  },
  {
   "cell_type": "markdown",
   "id": "2dd75320-d89e-4928-84ba-9b3baaa966c5",
   "metadata": {},
   "source": [
    "And we see that our neural network only correctly predicts 66% of the testing data. This isn't very good. So, will training our model for more epochs improve the model's predictions?\n",
    "\n",
    "One way to answer that question is to just train for longer and see what happens."
   ]
  },
  {
   "cell_type": "markdown",
   "id": "261fdd41-2caa-43be-8c78-0c2d64f08f3d",
   "metadata": {},
   "source": [
    "The good news is that because we're using **Lightning**, we can pick up where we left off training without starting over from scratch. This is because training with **Lightning** creates _checkpoint_ files that keep track of the Weights and Biases as they change. As a result, all we have to do to pick up where we left off is tell the `Trainer` where the checkpoint files are. This is awesome and will save us a lot of time since we don't have to retrain the first **10** epochs. So, let's add an additional **90** epochs to the training."
   ]
  },
  {
   "cell_type": "markdown",
   "id": "754b8180-976d-4c1e-b2e7-cb45cba434c9",
   "metadata": {},
   "source": [
    "To add additional epochs to the training, we first identify where the checkpoint file is with the following command."
   ]
  },
  {
   "cell_type": "code",
   "execution_count": 37,
   "id": "29bc4c1b-911d-417f-8ab2-9f52712502e8",
   "metadata": {},
   "outputs": [],
   "source": [
    "path_to_checkpoint = trainer.checkpoint_callback.best_model_path ## By default, \"best\" = \"most recent\""
   ]
  },
  {
   "cell_type": "markdown",
   "id": "6d4fd497-997c-4369-9b3e-d25cd0911d5d",
   "metadata": {},
   "source": [
    "Then we create a new Lightning Trainer, just like before, but we set the number of epochs to 100. Given that we already trained for 10 epochs, this means we'll do 90 more."
   ]
  },
  {
   "cell_type": "code",
   "execution_count": 38,
   "id": "5a849d2f-bad1-4214-a72b-f1b04174639c",
   "metadata": {},
   "outputs": [
    {
     "name": "stderr",
     "output_type": "stream",
     "text": [
      "GPU available: True (mps), used: True\n",
      "TPU available: False, using: 0 TPU cores\n",
      "IPU available: False, using: 0 IPUs\n",
      "HPU available: False, using: 0 HPUs\n"
     ]
    },
    {
     "name": "stderr",
     "output_type": "stream",
     "text": [
      "Restoring states from the checkpoint path at /Users/rsvetk01/Desktop/start/causal-inference-in-python-code/lightning_logs/version_5/checkpoints/epoch=9-step=1120.ckpt\n",
      "/opt/homebrew/lib/python3.11/site-packages/lightning/pytorch/callbacks/model_checkpoint.py:361: The dirpath has changed from '/Users/rsvetk01/Desktop/start/causal-inference-in-python-code/lightning_logs/version_5/checkpoints' to '/Users/rsvetk01/Desktop/start/causal-inference-in-python-code/lightning_logs/version_6/checkpoints', therefore `best_model_score`, `kth_best_model_path`, `kth_value`, `last_model_path` and `best_k_models` won't be reloaded. Only `best_model_path` will be reloaded.\n",
      "\n",
      "  | Name             | Type             | Params\n",
      "------------------------------------------------------\n",
      "0 | input_to_hidden  | Linear           | 10    \n",
      "1 | hidden_to_output | Linear           | 9     \n",
      "2 | loss             | CrossEntropyLoss | 0     \n",
      "------------------------------------------------------\n",
      "19        Trainable params\n",
      "0         Non-trainable params\n",
      "19        Total params\n",
      "0.000     Total estimated model params size (MB)\n",
      "Restored all states from the checkpoint at /Users/rsvetk01/Desktop/start/causal-inference-in-python-code/lightning_logs/version_5/checkpoints/epoch=9-step=1120.ckpt\n"
     ]
    },
    {
     "data": {
      "application/vnd.jupyter.widget-view+json": {
       "model_id": "e8c9101572174c488060fd5473ebbd2e",
       "version_major": 2,
       "version_minor": 0
      },
      "text/plain": [
       "Training: |          | 0/? [00:00<?, ?it/s]"
      ]
     },
     "metadata": {},
     "output_type": "display_data"
    },
    {
     "name": "stderr",
     "output_type": "stream",
     "text": [
      "`Trainer.fit` stopped: `max_epochs=100` reached.\n"
     ]
    }
   ],
   "source": [
    "## First, create a new Lightning Trainer\n",
    "trainer = L.Trainer(max_epochs=100, accelerator=\"auto\", devices=\"auto\") # Before, max_epochs=10, so, by setting it to 100, we're adding 90 more.\n",
    "\n",
    "## Then call trainer.fit() using the path to the most recent checkpoint files\n",
    "## so that we can pick up where we left off.\n",
    "trainer.fit(model, train_dataloaders=train_dataloader, ckpt_path=path_to_checkpoint)"
   ]
  },
  {
   "cell_type": "markdown",
   "id": "7ca3ecd4-f56d-4a1e-89cc-1f7cf5992a1e",
   "metadata": {},
   "source": [
    "Now, let's run the testing data through the network and calculate the accuracy. We'll do this just like we did before."
   ]
  },
  {
   "cell_type": "code",
   "execution_count": 41,
   "id": "930f26fe-eca7-46a3-9652-0e1d1b1bcfb6",
   "metadata": {},
   "outputs": [
    {
     "data": {
      "text/plain": [
       "tensor(0.9211)"
      ]
     },
     "execution_count": 41,
     "metadata": {},
     "output_type": "execute_result"
    }
   ],
   "source": [
    "# Run the input_test_tensors through the neural network\n",
    "predictions = model(input_test_tensors)\n",
    "\n",
    "## Select the output with highest value...\n",
    "predicted_labels = torch.argmax(predictions, dim=1) ## dim=0 applies softmax to rows, dim=1 applies softmax to columns\n",
    "\n",
    "## Now compare predicted_labels with test_labels to calculate accuracy\n",
    "## NOTE: torch.eq() computes element-wise equality between two tensors.\n",
    "##       label_test, however, is just an array, so we convert it to a tensor\n",
    "##       before passing it in. torch.sum() then adds up all of the \"True\"\n",
    "##       output values to get the number of correct predictions. \n",
    "##       We then divide the number of correct predictions by the number of predicted values,\n",
    "##       obtained with len(predicted_labels), to get the percentage of correct predictions\n",
    "torch.sum(torch.eq(torch.tensor(label_test), predicted_labels)) / len(predicted_labels)"
   ]
  },
  {
   "cell_type": "markdown",
   "id": "31918cf1-5cfc-475b-b61a-f08525111741",
   "metadata": {},
   "source": [
    "After 100 training epochs, we correctly classified 92% of the testing data - a significant improvement!"
   ]
  },
  {
   "cell_type": "markdown",
   "id": "9a78589d-3d39-40a4-81d1-c22caddc6879",
   "metadata": {},
   "source": [
    "# Double BAM!!"
   ]
  },
  {
   "cell_type": "markdown",
   "id": "4e8da8b1-4b5e-42a8-bdaa-3d939716fad2",
   "metadata": {},
   "source": [
    "----"
   ]
  },
  {
   "cell_type": "markdown",
   "id": "b568a1ad-f6d4-436f-8c58-b39371680175",
   "metadata": {},
   "source": [
    "<a id=\"predict\"></a>\n",
    "# Make Predictions with New Data"
   ]
  },
  {
   "cell_type": "markdown",
   "id": "5c2df2a0-77e3-40dd-8cf5-3a23d66e5098",
   "metadata": {},
   "source": [
    "Now that our model is trained, we can use it to make predictions from new data. This is done by passing the model a tensor with normalized petal and sepal widths wrapped up in a tensor, and then passing the model output to `torch.argmax()`.\n",
    "\n",
    "For example, if the raw petal and sepal width measurements were 0.2 and 3.0, we would first normalize them using the maximum and minimum values we calculated with the training data."
   ]
  },
  {
   "cell_type": "code",
   "execution_count": 42,
   "id": "8759e954-3d0b-4ac3-84ac-5c294585643a",
   "metadata": {},
   "outputs": [
    {
     "data": {
      "text/plain": [
       "sepal_length   -1.138889\n",
       "sepal_width     0.416667\n",
       "petal_length   -0.172414\n",
       "petal_width     0.083333\n",
       "dtype: float64"
      ]
     },
     "execution_count": 42,
     "metadata": {},
     "output_type": "execute_result"
    }
   ],
   "source": [
    "normalized_values = ([0.2, 3.0, 0.1, 0.3] - min_vals_in_input_train) / (max_vals_in_input_train - min_vals_in_input_train)\n",
    "normalized_values"
   ]
  },
  {
   "cell_type": "markdown",
   "id": "211e1e78-d0dd-46c8-9cd5-f59815385dea",
   "metadata": {},
   "source": [
    "Then we convert `normalized_values` into a tensor and pass it to the model, and pass the output to the `argmax()` function"
   ]
  },
  {
   "cell_type": "code",
   "execution_count": 43,
   "id": "192cb03b-44f5-4fcf-961d-426a79d40c7d",
   "metadata": {},
   "outputs": [
    {
     "name": "stderr",
     "output_type": "stream",
     "text": [
      "/var/folders/b2/hpshqfpd1gvchzxhms0ysv7r0000gq/T/ipykernel_98547/601690199.py:1: FutureWarning: Series.__getitem__ treating keys as positions is deprecated. In a future version, integer keys will always be treated as labels (consistent with DataFrame behavior). To access a value by position, use `ser.iloc[pos]`\n",
      "  torch.argmax(model(torch.tensor(normalized_values).type(torch.float32)))\n"
     ]
    },
    {
     "data": {
      "text/plain": [
       "tensor(0)"
      ]
     },
     "execution_count": 43,
     "metadata": {},
     "output_type": "execute_result"
    }
   ],
   "source": [
    "torch.argmax(model(torch.tensor(normalized_values).type(torch.float32)))"
   ]
  },
  {
   "cell_type": "markdown",
   "id": "2053241f-37bb-44b3-b2da-38e841679422",
   "metadata": {},
   "source": [
    "And the output is 0, meaning that the neural network predicts that the measurements come from **Setosa**."
   ]
  },
  {
   "cell_type": "markdown",
   "id": "b2940946-b17a-4e9b-ac7f-02cd4f97db91",
   "metadata": {},
   "source": [
    "# TRIPLE BAM!!!"
   ]
  }
 ],
 "metadata": {
  "kernelspec": {
   "display_name": "Python 3",
   "language": "python",
   "name": "python3"
  },
  "language_info": {
   "codemirror_mode": {
    "name": "ipython",
    "version": 3
   },
   "file_extension": ".py",
   "mimetype": "text/x-python",
   "name": "python",
   "nbconvert_exporter": "python",
   "pygments_lexer": "ipython3",
   "version": "3.11.8"
  }
 },
 "nbformat": 4,
 "nbformat_minor": 5
}
