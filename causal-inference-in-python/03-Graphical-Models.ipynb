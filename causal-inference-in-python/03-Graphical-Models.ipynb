{
 "cells": [
  {
   "cell_type": "markdown",
   "metadata": {},
   "source": [
    "# 03 - Graphical Causal Models\n",
    " \n",
    " \n",
    "\n",
    " \n",
    "## Thinking About Causality\n",
    " \n"
   ]
  },
  {
   "cell_type": "code",
   "execution_count": 1,
   "metadata": {
    "ExecuteTime": {
     "end_time": "2023-06-25T15:09:27.723424Z",
     "start_time": "2023-06-25T15:09:25.235237Z"
    },
    "tags": [
     "hide-input",
     "hide-output"
    ]
   },
   "outputs": [],
   "source": [
    "import warnings\n",
    "warnings.filterwarnings('ignore')\n",
    "\n",
    "import pandas as pd\n",
    "import numpy as np\n",
    "import graphviz as gr\n",
    "from matplotlib import style\n",
    "import seaborn as sns\n",
    "from matplotlib import pyplot as plt\n",
    "\n",
    "color=['0.3', '0.5', '0.7', '0.9']\n",
    "linestyle=['-', '--', ':', '-.']\n",
    "marker=['o', 'v', 'd', 'p']\n",
    "\n",
    "pd.set_option('display.max_rows', 10)\n",
    "\n",
    "gr.set_default_format(\"png\");"
   ]
  },
  {
   "cell_type": "code",
   "execution_count": 2,
   "metadata": {
    "ExecuteTime": {
     "end_time": "2023-06-25T15:09:27.743557Z",
     "start_time": "2023-06-25T15:09:27.725297Z"
    }
   },
   "outputs": [
    {
     "data": {
      "text/html": [
       "<div>\n",
       "<style scoped>\n",
       "    .dataframe tbody tr th:only-of-type {\n",
       "        vertical-align: middle;\n",
       "    }\n",
       "\n",
       "    .dataframe tbody tr th {\n",
       "        vertical-align: top;\n",
       "    }\n",
       "\n",
       "    .dataframe thead th {\n",
       "        text-align: right;\n",
       "    }\n",
       "</style>\n",
       "<table border=\"1\" class=\"dataframe\">\n",
       "  <thead>\n",
       "    <tr style=\"text-align: right;\">\n",
       "      <th></th>\n",
       "      <th>gender</th>\n",
       "      <th>cross_sell_email</th>\n",
       "      <th>age</th>\n",
       "      <th>conversion</th>\n",
       "    </tr>\n",
       "  </thead>\n",
       "  <tbody>\n",
       "    <tr>\n",
       "      <th>0</th>\n",
       "      <td>0</td>\n",
       "      <td>short</td>\n",
       "      <td>15</td>\n",
       "      <td>0</td>\n",
       "    </tr>\n",
       "    <tr>\n",
       "      <th>1</th>\n",
       "      <td>1</td>\n",
       "      <td>short</td>\n",
       "      <td>27</td>\n",
       "      <td>0</td>\n",
       "    </tr>\n",
       "    <tr>\n",
       "      <th>2</th>\n",
       "      <td>1</td>\n",
       "      <td>long</td>\n",
       "      <td>17</td>\n",
       "      <td>0</td>\n",
       "    </tr>\n",
       "    <tr>\n",
       "      <th>3</th>\n",
       "      <td>1</td>\n",
       "      <td>long</td>\n",
       "      <td>34</td>\n",
       "      <td>0</td>\n",
       "    </tr>\n",
       "    <tr>\n",
       "      <th>4</th>\n",
       "      <td>1</td>\n",
       "      <td>no_email</td>\n",
       "      <td>14</td>\n",
       "      <td>0</td>\n",
       "    </tr>\n",
       "    <tr>\n",
       "      <th>...</th>\n",
       "      <td>...</td>\n",
       "      <td>...</td>\n",
       "      <td>...</td>\n",
       "      <td>...</td>\n",
       "    </tr>\n",
       "    <tr>\n",
       "      <th>318</th>\n",
       "      <td>0</td>\n",
       "      <td>long</td>\n",
       "      <td>18</td>\n",
       "      <td>0</td>\n",
       "    </tr>\n",
       "    <tr>\n",
       "      <th>319</th>\n",
       "      <td>1</td>\n",
       "      <td>no_email</td>\n",
       "      <td>16</td>\n",
       "      <td>0</td>\n",
       "    </tr>\n",
       "    <tr>\n",
       "      <th>320</th>\n",
       "      <td>0</td>\n",
       "      <td>no_email</td>\n",
       "      <td>15</td>\n",
       "      <td>0</td>\n",
       "    </tr>\n",
       "    <tr>\n",
       "      <th>321</th>\n",
       "      <td>1</td>\n",
       "      <td>no_email</td>\n",
       "      <td>16</td>\n",
       "      <td>0</td>\n",
       "    </tr>\n",
       "    <tr>\n",
       "      <th>322</th>\n",
       "      <td>1</td>\n",
       "      <td>long</td>\n",
       "      <td>24</td>\n",
       "      <td>1</td>\n",
       "    </tr>\n",
       "  </tbody>\n",
       "</table>\n",
       "<p>323 rows × 4 columns</p>\n",
       "</div>"
      ],
      "text/plain": [
       "     gender cross_sell_email  age  conversion\n",
       "0         0            short   15           0\n",
       "1         1            short   27           0\n",
       "2         1             long   17           0\n",
       "3         1             long   34           0\n",
       "4         1         no_email   14           0\n",
       "..      ...              ...  ...         ...\n",
       "318       0             long   18           0\n",
       "319       1         no_email   16           0\n",
       "320       0         no_email   15           0\n",
       "321       1         no_email   16           0\n",
       "322       1             long   24           1\n",
       "\n",
       "[323 rows x 4 columns]"
      ]
     },
     "execution_count": 2,
     "metadata": {},
     "output_type": "execute_result"
    }
   ],
   "source": [
    "import pandas as pd\n",
    "import numpy as np\n",
    "\n",
    "data = pd.read_csv(\"./data/cross_sell_email.csv\")\n",
    "data"
   ]
  },
  {
   "cell_type": "markdown",
   "metadata": {},
   "source": [
    "\n",
    "### Visualizing Causal Relationships \n"
   ]
  },
  {
   "cell_type": "code",
   "execution_count": 3,
   "metadata": {
    "ExecuteTime": {
     "end_time": "2023-06-25T15:09:28.364202Z",
     "start_time": "2023-06-25T15:09:27.744786Z"
    },
    "tags": [
     "hide-output"
    ]
   },
   "outputs": [
    {
     "data": {
      "image/svg+xml": [
       "<?xml version=\"1.0\" encoding=\"UTF-8\" standalone=\"no\"?>\n",
       "<!DOCTYPE svg PUBLIC \"-//W3C//DTD SVG 1.1//EN\"\n",
       " \"http://www.w3.org/Graphics/SVG/1.1/DTD/svg11.dtd\">\n",
       "<!-- Generated by graphviz version 10.0.1 (20240210.2158)\n",
       " -->\n",
       "<!-- Pages: 1 -->\n",
       "<svg width=\"329pt\" height=\"188pt\"\n",
       " viewBox=\"0.00 0.00 329.32 188.00\" xmlns=\"http://www.w3.org/2000/svg\" xmlns:xlink=\"http://www.w3.org/1999/xlink\">\n",
       "<g id=\"graph0\" class=\"graph\" transform=\"scale(1 1) rotate(0) translate(4 184)\">\n",
       "<polygon fill=\"white\" stroke=\"none\" points=\"-4,4 -4,-184 325.32,-184 325.32,4 -4,4\"/>\n",
       "<!-- U -->\n",
       "<g id=\"node1\" class=\"node\">\n",
       "<title>U</title>\n",
       "<ellipse fill=\"none\" stroke=\"black\" cx=\"40.47\" cy=\"-162\" rx=\"27\" ry=\"18\"/>\n",
       "<text text-anchor=\"middle\" x=\"40.47\" y=\"-156.95\" font-family=\"Times,serif\" font-size=\"14.00\">U</text>\n",
       "</g>\n",
       "<!-- conversion -->\n",
       "<g id=\"node2\" class=\"node\">\n",
       "<title>conversion</title>\n",
       "<ellipse fill=\"none\" stroke=\"black\" cx=\"80.47\" cy=\"-18\" rx=\"51.35\" ry=\"18\"/>\n",
       "<text text-anchor=\"middle\" x=\"80.47\" y=\"-12.95\" font-family=\"Times,serif\" font-size=\"14.00\">conversion</text>\n",
       "</g>\n",
       "<!-- U&#45;&gt;conversion -->\n",
       "<g id=\"edge1\" class=\"edge\">\n",
       "<title>U&#45;&gt;conversion</title>\n",
       "<path fill=\"none\" stroke=\"black\" d=\"M26.58,-146.12C11.54,-128.13 -8.63,-97.12 4.47,-72 11.96,-57.66 25.29,-46.4 38.73,-38.02\"/>\n",
       "<polygon fill=\"black\" stroke=\"black\" points=\"40.21,-41.21 47.13,-33.18 36.72,-35.14 40.21,-41.21\"/>\n",
       "</g>\n",
       "<!-- age -->\n",
       "<g id=\"node3\" class=\"node\">\n",
       "<title>age</title>\n",
       "<ellipse fill=\"none\" stroke=\"black\" cx=\"40.47\" cy=\"-90\" rx=\"27\" ry=\"18\"/>\n",
       "<text text-anchor=\"middle\" x=\"40.47\" y=\"-84.95\" font-family=\"Times,serif\" font-size=\"14.00\">age</text>\n",
       "</g>\n",
       "<!-- U&#45;&gt;age -->\n",
       "<g id=\"edge2\" class=\"edge\">\n",
       "<title>U&#45;&gt;age</title>\n",
       "<path fill=\"none\" stroke=\"black\" d=\"M40.47,-143.7C40.47,-136.41 40.47,-127.73 40.47,-119.54\"/>\n",
       "<polygon fill=\"black\" stroke=\"black\" points=\"43.97,-119.62 40.47,-109.62 36.97,-119.62 43.97,-119.62\"/>\n",
       "</g>\n",
       "<!-- gender -->\n",
       "<g id=\"node4\" class=\"node\">\n",
       "<title>gender</title>\n",
       "<ellipse fill=\"none\" stroke=\"black\" cx=\"121.47\" cy=\"-90\" rx=\"36\" ry=\"18\"/>\n",
       "<text text-anchor=\"middle\" x=\"121.47\" y=\"-84.95\" font-family=\"Times,serif\" font-size=\"14.00\">gender</text>\n",
       "</g>\n",
       "<!-- U&#45;&gt;gender -->\n",
       "<g id=\"edge3\" class=\"edge\">\n",
       "<title>U&#45;&gt;gender</title>\n",
       "<path fill=\"none\" stroke=\"black\" d=\"M56.48,-147.17C67.64,-137.52 82.78,-124.44 95.64,-113.33\"/>\n",
       "<polygon fill=\"black\" stroke=\"black\" points=\"97.68,-116.19 102.96,-107 93.1,-110.89 97.68,-116.19\"/>\n",
       "</g>\n",
       "<!-- age&#45;&gt;conversion -->\n",
       "<g id=\"edge6\" class=\"edge\">\n",
       "<title>age&#45;&gt;conversion</title>\n",
       "<path fill=\"none\" stroke=\"black\" d=\"M49.75,-72.76C54.31,-64.78 59.93,-54.95 65.11,-45.89\"/>\n",
       "<polygon fill=\"black\" stroke=\"black\" points=\"68.01,-47.86 69.94,-37.44 61.94,-44.38 68.01,-47.86\"/>\n",
       "</g>\n",
       "<!-- gender&#45;&gt;conversion -->\n",
       "<g id=\"edge7\" class=\"edge\">\n",
       "<title>gender&#45;&gt;conversion</title>\n",
       "<path fill=\"none\" stroke=\"black\" d=\"M111.76,-72.41C107.08,-64.42 101.35,-54.64 96.08,-45.64\"/>\n",
       "<polygon fill=\"black\" stroke=\"black\" points=\"99.24,-44.12 91.17,-37.26 93.2,-47.66 99.24,-44.12\"/>\n",
       "</g>\n",
       "<!-- rnd -->\n",
       "<g id=\"node5\" class=\"node\">\n",
       "<title>rnd</title>\n",
       "<ellipse fill=\"none\" stroke=\"black\" cx=\"248.47\" cy=\"-162\" rx=\"27\" ry=\"18\"/>\n",
       "<text text-anchor=\"middle\" x=\"248.47\" y=\"-156.95\" font-family=\"Times,serif\" font-size=\"14.00\">rnd</text>\n",
       "</g>\n",
       "<!-- cross_sell_email -->\n",
       "<g id=\"node6\" class=\"node\">\n",
       "<title>cross_sell_email</title>\n",
       "<ellipse fill=\"none\" stroke=\"black\" cx=\"248.47\" cy=\"-90\" rx=\"72.85\" ry=\"18\"/>\n",
       "<text text-anchor=\"middle\" x=\"248.47\" y=\"-84.95\" font-family=\"Times,serif\" font-size=\"14.00\">cross_sell_email</text>\n",
       "</g>\n",
       "<!-- rnd&#45;&gt;cross_sell_email -->\n",
       "<g id=\"edge4\" class=\"edge\">\n",
       "<title>rnd&#45;&gt;cross_sell_email</title>\n",
       "<path fill=\"none\" stroke=\"black\" d=\"M248.47,-143.7C248.47,-136.41 248.47,-127.73 248.47,-119.54\"/>\n",
       "<polygon fill=\"black\" stroke=\"black\" points=\"251.97,-119.62 248.47,-109.62 244.97,-119.62 251.97,-119.62\"/>\n",
       "</g>\n",
       "<!-- cross_sell_email&#45;&gt;conversion -->\n",
       "<g id=\"edge5\" class=\"edge\">\n",
       "<title>cross_sell_email&#45;&gt;conversion</title>\n",
       "<path fill=\"none\" stroke=\"black\" d=\"M212.43,-73.98C186.3,-63.1 150.86,-48.33 123.29,-36.84\"/>\n",
       "<polygon fill=\"black\" stroke=\"black\" points=\"124.74,-33.65 114.16,-33.04 122.04,-40.11 124.74,-33.65\"/>\n",
       "</g>\n",
       "</g>\n",
       "</svg>\n"
      ],
      "text/plain": [
       "<graphviz.graphs.Digraph at 0x17ebf17d0>"
      ]
     },
     "execution_count": 3,
     "metadata": {},
     "output_type": "execute_result"
    }
   ],
   "source": [
    "import graphviz as gr\n",
    "\n",
    "g_cross_sell = gr.Digraph()\n",
    "\n",
    "g_cross_sell.edge(\"U\", \"conversion\")\n",
    "g_cross_sell.edge(\"U\", \"age\")\n",
    "g_cross_sell.edge(\"U\", \"gender\")\n",
    "\n",
    "g_cross_sell.edge(\"rnd\", \"cross_sell_email\")\n",
    "g_cross_sell.edge(\"cross_sell_email\", \"conversion\")\n",
    "g_cross_sell.edge(\"age\", \"conversion\")\n",
    "g_cross_sell.edge(\"gender\", \"conversion\")\n",
    "\n",
    "g_cross_sell"
   ]
  },
  {
   "cell_type": "code",
   "execution_count": 4,
   "metadata": {
    "ExecuteTime": {
     "end_time": "2023-06-25T15:09:28.575818Z",
     "start_time": "2023-06-25T15:09:28.367014Z"
    },
    "tags": [
     "hide-input"
    ]
   },
   "outputs": [
    {
     "data": {
      "image/svg+xml": [
       "<?xml version=\"1.0\" encoding=\"UTF-8\" standalone=\"no\"?>\n",
       "<!DOCTYPE svg PUBLIC \"-//W3C//DTD SVG 1.1//EN\"\n",
       " \"http://www.w3.org/Graphics/SVG/1.1/DTD/svg11.dtd\">\n",
       "<!-- Generated by graphviz version 10.0.1 (20240210.2158)\n",
       " -->\n",
       "<!-- Pages: 1 -->\n",
       "<svg width=\"329pt\" height=\"188pt\"\n",
       " viewBox=\"0.00 0.00 329.32 188.00\" xmlns=\"http://www.w3.org/2000/svg\" xmlns:xlink=\"http://www.w3.org/1999/xlink\">\n",
       "<g id=\"graph0\" class=\"graph\" transform=\"scale(1 1) rotate(0) translate(4 184)\">\n",
       "<polygon fill=\"white\" stroke=\"none\" points=\"-4,4 -4,-184 325.32,-184 325.32,4 -4,4\"/>\n",
       "<!-- U -->\n",
       "<g id=\"node1\" class=\"node\">\n",
       "<title>U</title>\n",
       "<ellipse fill=\"none\" stroke=\"black\" cx=\"40.47\" cy=\"-162\" rx=\"27\" ry=\"18\"/>\n",
       "<text text-anchor=\"middle\" x=\"40.47\" y=\"-156.95\" font-family=\"Times,serif\" font-size=\"14.00\">U</text>\n",
       "</g>\n",
       "<!-- conversion -->\n",
       "<g id=\"node2\" class=\"node\">\n",
       "<title>conversion</title>\n",
       "<ellipse fill=\"none\" stroke=\"black\" cx=\"80.47\" cy=\"-18\" rx=\"51.35\" ry=\"18\"/>\n",
       "<text text-anchor=\"middle\" x=\"80.47\" y=\"-12.95\" font-family=\"Times,serif\" font-size=\"14.00\">conversion</text>\n",
       "</g>\n",
       "<!-- U&#45;&gt;conversion -->\n",
       "<g id=\"edge1\" class=\"edge\">\n",
       "<title>U&#45;&gt;conversion</title>\n",
       "<path fill=\"none\" stroke=\"black\" d=\"M26.58,-146.12C11.54,-128.13 -8.63,-97.12 4.47,-72 11.96,-57.66 25.29,-46.4 38.73,-38.02\"/>\n",
       "<polygon fill=\"black\" stroke=\"black\" points=\"40.21,-41.21 47.13,-33.18 36.72,-35.14 40.21,-41.21\"/>\n",
       "</g>\n",
       "<!-- age -->\n",
       "<g id=\"node3\" class=\"node\">\n",
       "<title>age</title>\n",
       "<ellipse fill=\"none\" stroke=\"black\" cx=\"40.47\" cy=\"-90\" rx=\"27\" ry=\"18\"/>\n",
       "<text text-anchor=\"middle\" x=\"40.47\" y=\"-84.95\" font-family=\"Times,serif\" font-size=\"14.00\">age</text>\n",
       "</g>\n",
       "<!-- U&#45;&gt;age -->\n",
       "<g id=\"edge2\" class=\"edge\">\n",
       "<title>U&#45;&gt;age</title>\n",
       "<path fill=\"none\" stroke=\"black\" d=\"M40.47,-143.7C40.47,-136.41 40.47,-127.73 40.47,-119.54\"/>\n",
       "<polygon fill=\"black\" stroke=\"black\" points=\"43.97,-119.62 40.47,-109.62 36.97,-119.62 43.97,-119.62\"/>\n",
       "</g>\n",
       "<!-- gender -->\n",
       "<g id=\"node4\" class=\"node\">\n",
       "<title>gender</title>\n",
       "<ellipse fill=\"none\" stroke=\"black\" cx=\"121.47\" cy=\"-90\" rx=\"36\" ry=\"18\"/>\n",
       "<text text-anchor=\"middle\" x=\"121.47\" y=\"-84.95\" font-family=\"Times,serif\" font-size=\"14.00\">gender</text>\n",
       "</g>\n",
       "<!-- U&#45;&gt;gender -->\n",
       "<g id=\"edge3\" class=\"edge\">\n",
       "<title>U&#45;&gt;gender</title>\n",
       "<path fill=\"none\" stroke=\"black\" d=\"M56.48,-147.17C67.64,-137.52 82.78,-124.44 95.64,-113.33\"/>\n",
       "<polygon fill=\"black\" stroke=\"black\" points=\"97.68,-116.19 102.96,-107 93.1,-110.89 97.68,-116.19\"/>\n",
       "</g>\n",
       "<!-- age&#45;&gt;conversion -->\n",
       "<g id=\"edge6\" class=\"edge\">\n",
       "<title>age&#45;&gt;conversion</title>\n",
       "<path fill=\"none\" stroke=\"black\" d=\"M49.75,-72.76C54.31,-64.78 59.93,-54.95 65.11,-45.89\"/>\n",
       "<polygon fill=\"black\" stroke=\"black\" points=\"68.01,-47.86 69.94,-37.44 61.94,-44.38 68.01,-47.86\"/>\n",
       "</g>\n",
       "<!-- gender&#45;&gt;conversion -->\n",
       "<g id=\"edge7\" class=\"edge\">\n",
       "<title>gender&#45;&gt;conversion</title>\n",
       "<path fill=\"none\" stroke=\"black\" d=\"M111.76,-72.41C107.08,-64.42 101.35,-54.64 96.08,-45.64\"/>\n",
       "<polygon fill=\"black\" stroke=\"black\" points=\"99.24,-44.12 91.17,-37.26 93.2,-47.66 99.24,-44.12\"/>\n",
       "</g>\n",
       "<!-- rnd -->\n",
       "<g id=\"node5\" class=\"node\">\n",
       "<title>rnd</title>\n",
       "<ellipse fill=\"none\" stroke=\"black\" cx=\"248.47\" cy=\"-162\" rx=\"27\" ry=\"18\"/>\n",
       "<text text-anchor=\"middle\" x=\"248.47\" y=\"-156.95\" font-family=\"Times,serif\" font-size=\"14.00\">rnd</text>\n",
       "</g>\n",
       "<!-- cross_sell_email -->\n",
       "<g id=\"node6\" class=\"node\">\n",
       "<title>cross_sell_email</title>\n",
       "<ellipse fill=\"none\" stroke=\"black\" cx=\"248.47\" cy=\"-90\" rx=\"72.85\" ry=\"18\"/>\n",
       "<text text-anchor=\"middle\" x=\"248.47\" y=\"-84.95\" font-family=\"Times,serif\" font-size=\"14.00\">cross_sell_email</text>\n",
       "</g>\n",
       "<!-- rnd&#45;&gt;cross_sell_email -->\n",
       "<g id=\"edge4\" class=\"edge\">\n",
       "<title>rnd&#45;&gt;cross_sell_email</title>\n",
       "<path fill=\"none\" stroke=\"black\" d=\"M248.47,-143.7C248.47,-136.41 248.47,-127.73 248.47,-119.54\"/>\n",
       "<polygon fill=\"black\" stroke=\"black\" points=\"251.97,-119.62 248.47,-109.62 244.97,-119.62 251.97,-119.62\"/>\n",
       "</g>\n",
       "<!-- cross_sell_email&#45;&gt;conversion -->\n",
       "<g id=\"edge5\" class=\"edge\">\n",
       "<title>cross_sell_email&#45;&gt;conversion</title>\n",
       "<path fill=\"none\" stroke=\"black\" d=\"M212.43,-73.98C186.3,-63.1 150.86,-48.33 123.29,-36.84\"/>\n",
       "<polygon fill=\"black\" stroke=\"black\" points=\"124.74,-33.65 114.16,-33.04 122.04,-40.11 124.74,-33.65\"/>\n",
       "</g>\n",
       "</g>\n",
       "</svg>\n"
      ],
      "text/plain": [
       "<graphviz.graphs.Digraph at 0x17ebf2250>"
      ]
     },
     "execution_count": 4,
     "metadata": {},
     "output_type": "execute_result"
    }
   ],
   "source": [
    "g_cross_sell = gr.Digraph()\n",
    "\n",
    "g_cross_sell.edge(\"U\", \"conversion\")\n",
    "g_cross_sell.edge(\"U\", \"age\")\n",
    "g_cross_sell.edge(\"U\", \"gender\")\n",
    "\n",
    "g_cross_sell.edge(\"rnd\", \"cross_sell_email\")\n",
    "g_cross_sell.edge(\"cross_sell_email\", \"conversion\")\n",
    "g_cross_sell.edge(\"age\", \"conversion\")\n",
    "g_cross_sell.edge(\"gender\", \"conversion\")\n",
    "\n",
    "g_cross_sell"
   ]
  },
  {
   "cell_type": "code",
   "execution_count": 5,
   "metadata": {
    "ExecuteTime": {
     "end_time": "2023-06-25T15:09:28.798849Z",
     "start_time": "2023-06-25T15:09:28.578426Z"
    },
    "tags": [
     "hide-output"
    ]
   },
   "outputs": [
    {
     "data": {
      "image/svg+xml": [
       "<?xml version=\"1.0\" encoding=\"UTF-8\" standalone=\"no\"?>\n",
       "<!DOCTYPE svg PUBLIC \"-//W3C//DTD SVG 1.1//EN\"\n",
       " \"http://www.w3.org/Graphics/SVG/1.1/DTD/svg11.dtd\">\n",
       "<!-- Generated by graphviz version 10.0.1 (20240210.2158)\n",
       " -->\n",
       "<!-- Pages: 1 -->\n",
       "<svg width=\"382pt\" height=\"121pt\"\n",
       " viewBox=\"0.00 0.00 382.40 121.00\" xmlns=\"http://www.w3.org/2000/svg\" xmlns:xlink=\"http://www.w3.org/1999/xlink\">\n",
       "<g id=\"graph0\" class=\"graph\" transform=\"scale(1 1) rotate(0) translate(4 117)\">\n",
       "<polygon fill=\"white\" stroke=\"none\" points=\"-4,4 -4,-117 378.4,-117 378.4,4 -4,4\"/>\n",
       "<!-- U -->\n",
       "<g id=\"node1\" class=\"node\">\n",
       "<title>U</title>\n",
       "<ellipse fill=\"none\" stroke=\"black\" cx=\"27\" cy=\"-95\" rx=\"27\" ry=\"18\"/>\n",
       "<text text-anchor=\"middle\" x=\"27\" y=\"-89.95\" font-family=\"Times,serif\" font-size=\"14.00\">U</text>\n",
       "</g>\n",
       "<!-- conversion -->\n",
       "<g id=\"node2\" class=\"node\">\n",
       "<title>conversion</title>\n",
       "<ellipse fill=\"none\" stroke=\"black\" cx=\"323.05\" cy=\"-72\" rx=\"51.35\" ry=\"18\"/>\n",
       "<text text-anchor=\"middle\" x=\"323.05\" y=\"-66.95\" font-family=\"Times,serif\" font-size=\"14.00\">conversion</text>\n",
       "</g>\n",
       "<!-- U&#45;&gt;conversion -->\n",
       "<g id=\"edge1\" class=\"edge\">\n",
       "<title>U&#45;&gt;conversion</title>\n",
       "<path fill=\"none\" stroke=\"black\" d=\"M53.77,-98.29C93.21,-102.71 170.81,-108.91 235.69,-99 249.4,-96.91 263.92,-93.05 277.07,-88.89\"/>\n",
       "<polygon fill=\"black\" stroke=\"black\" points=\"277.91,-92.3 286.3,-85.83 275.71,-85.65 277.91,-92.3\"/>\n",
       "</g>\n",
       "<!-- X -->\n",
       "<g id=\"node3\" class=\"node\">\n",
       "<title>X</title>\n",
       "<ellipse fill=\"none\" stroke=\"black\" cx=\"162.85\" cy=\"-72\" rx=\"27\" ry=\"18\"/>\n",
       "<text text-anchor=\"middle\" x=\"162.85\" y=\"-66.95\" font-family=\"Times,serif\" font-size=\"14.00\">X</text>\n",
       "</g>\n",
       "<!-- U&#45;&gt;X -->\n",
       "<g id=\"edge2\" class=\"edge\">\n",
       "<title>U&#45;&gt;X</title>\n",
       "<path fill=\"none\" stroke=\"black\" d=\"M53.49,-90.62C73.77,-87.13 102.42,-82.21 125.17,-78.3\"/>\n",
       "<polygon fill=\"black\" stroke=\"black\" points=\"125.7,-81.76 134.96,-76.62 124.51,-74.86 125.7,-81.76\"/>\n",
       "</g>\n",
       "<!-- X&#45;&gt;conversion -->\n",
       "<g id=\"edge4\" class=\"edge\">\n",
       "<title>X&#45;&gt;conversion</title>\n",
       "<path fill=\"none\" stroke=\"black\" d=\"M190.33,-72C209.39,-72 235.9,-72 260.16,-72\"/>\n",
       "<polygon fill=\"black\" stroke=\"black\" points=\"259.95,-75.5 269.95,-72 259.95,-68.5 259.95,-75.5\"/>\n",
       "</g>\n",
       "<!-- cross_sell_email -->\n",
       "<g id=\"node4\" class=\"node\">\n",
       "<title>cross_sell_email</title>\n",
       "<ellipse fill=\"none\" stroke=\"black\" cx=\"162.85\" cy=\"-18\" rx=\"72.85\" ry=\"18\"/>\n",
       "<text text-anchor=\"middle\" x=\"162.85\" y=\"-12.95\" font-family=\"Times,serif\" font-size=\"14.00\">cross_sell_email</text>\n",
       "</g>\n",
       "<!-- cross_sell_email&#45;&gt;conversion -->\n",
       "<g id=\"edge3\" class=\"edge\">\n",
       "<title>cross_sell_email&#45;&gt;conversion</title>\n",
       "<path fill=\"none\" stroke=\"black\" d=\"M207.08,-32.76C227.95,-39.88 253.06,-48.45 274.48,-55.76\"/>\n",
       "<polygon fill=\"black\" stroke=\"black\" points=\"273.28,-59.05 283.87,-58.97 275.54,-52.43 273.28,-59.05\"/>\n",
       "</g>\n",
       "</g>\n",
       "</svg>\n"
      ],
      "text/plain": [
       "<graphviz.graphs.Digraph at 0x134f92e90>"
      ]
     },
     "execution_count": 5,
     "metadata": {},
     "output_type": "execute_result"
    }
   ],
   "source": [
    "# rankdir:LR layers the graph from left to right\n",
    "g_cross_sell = gr.Digraph(graph_attr={\"rankdir\": \"LR\"})\n",
    "\n",
    "g_cross_sell.edge(\"U\", \"conversion\")\n",
    "g_cross_sell.edge(\"U\", \"X\")\n",
    "\n",
    "g_cross_sell.edge(\"cross_sell_email\", \"conversion\")\n",
    "g_cross_sell.edge(\"X\", \"conversion\")\n",
    "\n",
    "g_cross_sell"
   ]
  },
  {
   "cell_type": "code",
   "execution_count": 6,
   "metadata": {
    "ExecuteTime": {
     "end_time": "2023-06-25T15:09:29.004349Z",
     "start_time": "2023-06-25T15:09:28.801559Z"
    },
    "tags": [
     "hide-input"
    ]
   },
   "outputs": [
    {
     "data": {
      "image/svg+xml": [
       "<?xml version=\"1.0\" encoding=\"UTF-8\" standalone=\"no\"?>\n",
       "<!DOCTYPE svg PUBLIC \"-//W3C//DTD SVG 1.1//EN\"\n",
       " \"http://www.w3.org/Graphics/SVG/1.1/DTD/svg11.dtd\">\n",
       "<!-- Generated by graphviz version 10.0.1 (20240210.2158)\n",
       " -->\n",
       "<!-- Pages: 1 -->\n",
       "<svg width=\"382pt\" height=\"121pt\"\n",
       " viewBox=\"0.00 0.00 382.40 121.00\" xmlns=\"http://www.w3.org/2000/svg\" xmlns:xlink=\"http://www.w3.org/1999/xlink\">\n",
       "<g id=\"graph0\" class=\"graph\" transform=\"scale(1 1) rotate(0) translate(4 117)\">\n",
       "<polygon fill=\"white\" stroke=\"none\" points=\"-4,4 -4,-117 378.4,-117 378.4,4 -4,4\"/>\n",
       "<!-- U -->\n",
       "<g id=\"node1\" class=\"node\">\n",
       "<title>U</title>\n",
       "<ellipse fill=\"none\" stroke=\"black\" cx=\"27\" cy=\"-95\" rx=\"27\" ry=\"18\"/>\n",
       "<text text-anchor=\"middle\" x=\"27\" y=\"-89.95\" font-family=\"Times,serif\" font-size=\"14.00\">U</text>\n",
       "</g>\n",
       "<!-- conversion -->\n",
       "<g id=\"node2\" class=\"node\">\n",
       "<title>conversion</title>\n",
       "<ellipse fill=\"none\" stroke=\"black\" cx=\"323.05\" cy=\"-72\" rx=\"51.35\" ry=\"18\"/>\n",
       "<text text-anchor=\"middle\" x=\"323.05\" y=\"-66.95\" font-family=\"Times,serif\" font-size=\"14.00\">conversion</text>\n",
       "</g>\n",
       "<!-- U&#45;&gt;conversion -->\n",
       "<g id=\"edge1\" class=\"edge\">\n",
       "<title>U&#45;&gt;conversion</title>\n",
       "<path fill=\"none\" stroke=\"black\" d=\"M53.77,-98.29C93.21,-102.71 170.81,-108.91 235.69,-99 249.4,-96.91 263.92,-93.05 277.07,-88.89\"/>\n",
       "<polygon fill=\"black\" stroke=\"black\" points=\"277.91,-92.3 286.3,-85.83 275.71,-85.65 277.91,-92.3\"/>\n",
       "</g>\n",
       "<!-- X -->\n",
       "<g id=\"node3\" class=\"node\">\n",
       "<title>X</title>\n",
       "<ellipse fill=\"none\" stroke=\"black\" cx=\"162.85\" cy=\"-72\" rx=\"27\" ry=\"18\"/>\n",
       "<text text-anchor=\"middle\" x=\"162.85\" y=\"-66.95\" font-family=\"Times,serif\" font-size=\"14.00\">X</text>\n",
       "</g>\n",
       "<!-- U&#45;&gt;X -->\n",
       "<g id=\"edge2\" class=\"edge\">\n",
       "<title>U&#45;&gt;X</title>\n",
       "<path fill=\"none\" stroke=\"black\" d=\"M53.49,-90.62C73.77,-87.13 102.42,-82.21 125.17,-78.3\"/>\n",
       "<polygon fill=\"black\" stroke=\"black\" points=\"125.7,-81.76 134.96,-76.62 124.51,-74.86 125.7,-81.76\"/>\n",
       "</g>\n",
       "<!-- X&#45;&gt;conversion -->\n",
       "<g id=\"edge4\" class=\"edge\">\n",
       "<title>X&#45;&gt;conversion</title>\n",
       "<path fill=\"none\" stroke=\"black\" d=\"M190.33,-72C209.39,-72 235.9,-72 260.16,-72\"/>\n",
       "<polygon fill=\"black\" stroke=\"black\" points=\"259.95,-75.5 269.95,-72 259.95,-68.5 259.95,-75.5\"/>\n",
       "</g>\n",
       "<!-- cross_sell_email -->\n",
       "<g id=\"node4\" class=\"node\">\n",
       "<title>cross_sell_email</title>\n",
       "<ellipse fill=\"none\" stroke=\"black\" cx=\"162.85\" cy=\"-18\" rx=\"72.85\" ry=\"18\"/>\n",
       "<text text-anchor=\"middle\" x=\"162.85\" y=\"-12.95\" font-family=\"Times,serif\" font-size=\"14.00\">cross_sell_email</text>\n",
       "</g>\n",
       "<!-- cross_sell_email&#45;&gt;conversion -->\n",
       "<g id=\"edge3\" class=\"edge\">\n",
       "<title>cross_sell_email&#45;&gt;conversion</title>\n",
       "<path fill=\"none\" stroke=\"black\" d=\"M207.08,-32.76C227.95,-39.88 253.06,-48.45 274.48,-55.76\"/>\n",
       "<polygon fill=\"black\" stroke=\"black\" points=\"273.28,-59.05 283.87,-58.97 275.54,-52.43 273.28,-59.05\"/>\n",
       "</g>\n",
       "</g>\n",
       "</svg>\n"
      ],
      "text/plain": [
       "<graphviz.graphs.Digraph at 0x17ec11bd0>"
      ]
     },
     "execution_count": 6,
     "metadata": {},
     "output_type": "execute_result"
    }
   ],
   "source": [
    "g_cross_sell = gr.Digraph(graph_attr={\"rankdir\": \"LR\"})\n",
    "\n",
    "g_cross_sell.edge(\"U\", \"conversion\")\n",
    "g_cross_sell.edge(\"U\", \"X\")\n",
    "\n",
    "g_cross_sell.edge(\"cross_sell_email\", \"conversion\")\n",
    "g_cross_sell.edge(\"X\", \"conversion\")\n",
    "\n",
    "g_cross_sell"
   ]
  },
  {
   "cell_type": "markdown",
   "metadata": {},
   "source": [
    " \n",
    "### Are Consultants Worth it?\n"
   ]
  },
  {
   "cell_type": "code",
   "execution_count": 7,
   "metadata": {
    "ExecuteTime": {
     "end_time": "2023-06-25T15:09:29.204706Z",
     "start_time": "2023-06-25T15:09:29.006360Z"
    },
    "tags": [
     "hide-input",
     "hide-code"
    ]
   },
   "outputs": [
    {
     "data": {
      "image/svg+xml": [
       "<?xml version=\"1.0\" encoding=\"UTF-8\" standalone=\"no\"?>\n",
       "<!DOCTYPE svg PUBLIC \"-//W3C//DTD SVG 1.1//EN\"\n",
       " \"http://www.w3.org/Graphics/SVG/1.1/DTD/svg11.dtd\">\n",
       "<!-- Generated by graphviz version 10.0.1 (20240210.2158)\n",
       " -->\n",
       "<!-- Pages: 1 -->\n",
       "<svg width=\"570pt\" height=\"144pt\"\n",
       " viewBox=\"0.00 0.00 570.23 144.00\" xmlns=\"http://www.w3.org/2000/svg\" xmlns:xlink=\"http://www.w3.org/1999/xlink\">\n",
       "<g id=\"graph0\" class=\"graph\" transform=\"scale(1 1) rotate(0) translate(4 140)\">\n",
       "<polygon fill=\"white\" stroke=\"none\" points=\"-4,4 -4,-140 566.23,-140 566.23,4 -4,4\"/>\n",
       "<!-- U1 -->\n",
       "<g id=\"node1\" class=\"node\">\n",
       "<title>U1</title>\n",
       "<ellipse fill=\"none\" stroke=\"black\" cx=\"326.63\" cy=\"-118\" rx=\"27\" ry=\"18\"/>\n",
       "<text text-anchor=\"middle\" x=\"326.63\" y=\"-112.95\" font-family=\"Times,serif\" font-size=\"14.00\">U1</text>\n",
       "</g>\n",
       "<!-- profits_next_6m -->\n",
       "<g id=\"node2\" class=\"node\">\n",
       "<title>profits_next_6m</title>\n",
       "<ellipse fill=\"none\" stroke=\"black\" cx=\"489.9\" cy=\"-64\" rx=\"72.34\" ry=\"18\"/>\n",
       "<text text-anchor=\"middle\" x=\"489.9\" y=\"-58.95\" font-family=\"Times,serif\" font-size=\"14.00\">profits_next_6m</text>\n",
       "</g>\n",
       "<!-- U1&#45;&gt;profits_next_6m -->\n",
       "<g id=\"edge1\" class=\"edge\">\n",
       "<title>U1&#45;&gt;profits_next_6m</title>\n",
       "<path fill=\"none\" stroke=\"black\" d=\"M351.42,-110.03C373.33,-102.7 406.63,-91.55 434.97,-82.06\"/>\n",
       "<polygon fill=\"black\" stroke=\"black\" points=\"435.75,-85.49 444.12,-78.99 433.53,-78.85 435.75,-85.49\"/>\n",
       "</g>\n",
       "<!-- U2 -->\n",
       "<g id=\"node3\" class=\"node\">\n",
       "<title>U2</title>\n",
       "<ellipse fill=\"none\" stroke=\"black\" cx=\"162.85\" cy=\"-72\" rx=\"27\" ry=\"18\"/>\n",
       "<text text-anchor=\"middle\" x=\"162.85\" y=\"-66.95\" font-family=\"Times,serif\" font-size=\"14.00\">U2</text>\n",
       "</g>\n",
       "<!-- consultancy -->\n",
       "<g id=\"node4\" class=\"node\">\n",
       "<title>consultancy</title>\n",
       "<ellipse fill=\"none\" stroke=\"black\" cx=\"326.63\" cy=\"-64\" rx=\"54.93\" ry=\"18\"/>\n",
       "<text text-anchor=\"middle\" x=\"326.63\" y=\"-58.95\" font-family=\"Times,serif\" font-size=\"14.00\">consultancy</text>\n",
       "</g>\n",
       "<!-- U2&#45;&gt;consultancy -->\n",
       "<g id=\"edge2\" class=\"edge\">\n",
       "<title>U2&#45;&gt;consultancy</title>\n",
       "<path fill=\"none\" stroke=\"black\" d=\"M190.2,-70.7C209.22,-69.76 235.76,-68.44 260.31,-67.23\"/>\n",
       "<polygon fill=\"black\" stroke=\"black\" points=\"260.46,-70.73 270.27,-66.74 260.11,-63.74 260.46,-70.73\"/>\n",
       "</g>\n",
       "<!-- consultancy&#45;&gt;profits_next_6m -->\n",
       "<g id=\"edge4\" class=\"edge\">\n",
       "<title>consultancy&#45;&gt;profits_next_6m</title>\n",
       "<path fill=\"none\" stroke=\"black\" d=\"M381.78,-64C389.49,-64 397.57,-64 405.68,-64\"/>\n",
       "<polygon fill=\"black\" stroke=\"black\" points=\"405.62,-67.5 415.62,-64 405.62,-60.5 405.62,-67.5\"/>\n",
       "</g>\n",
       "<!-- U3 -->\n",
       "<g id=\"node5\" class=\"node\">\n",
       "<title>U3</title>\n",
       "<ellipse fill=\"none\" stroke=\"black\" cx=\"27\" cy=\"-18\" rx=\"27\" ry=\"18\"/>\n",
       "<text text-anchor=\"middle\" x=\"27\" y=\"-12.95\" font-family=\"Times,serif\" font-size=\"14.00\">U3</text>\n",
       "</g>\n",
       "<!-- profits_prev_6m -->\n",
       "<g id=\"node6\" class=\"node\">\n",
       "<title>profits_prev_6m</title>\n",
       "<ellipse fill=\"none\" stroke=\"black\" cx=\"162.85\" cy=\"-18\" rx=\"72.85\" ry=\"18\"/>\n",
       "<text text-anchor=\"middle\" x=\"162.85\" y=\"-12.95\" font-family=\"Times,serif\" font-size=\"14.00\">profits_prev_6m</text>\n",
       "</g>\n",
       "<!-- U3&#45;&gt;profits_prev_6m -->\n",
       "<g id=\"edge3\" class=\"edge\">\n",
       "<title>U3&#45;&gt;profits_prev_6m</title>\n",
       "<path fill=\"none\" stroke=\"black\" d=\"M54.44,-18C61.6,-18 69.73,-18 78.26,-18\"/>\n",
       "<polygon fill=\"black\" stroke=\"black\" points=\"78.12,-21.5 88.12,-18 78.12,-14.5 78.12,-21.5\"/>\n",
       "</g>\n",
       "<!-- profits_prev_6m&#45;&gt;profits_next_6m -->\n",
       "<g id=\"edge6\" class=\"edge\">\n",
       "<title>profits_prev_6m&#45;&gt;profits_next_6m</title>\n",
       "<path fill=\"none\" stroke=\"black\" d=\"M234.81,-21.33C277.54,-24.04 332.92,-28.81 381.56,-37 397.42,-39.67 414.38,-43.48 430.03,-47.4\"/>\n",
       "<polygon fill=\"black\" stroke=\"black\" points=\"429.13,-50.78 439.69,-49.88 430.87,-44 429.13,-50.78\"/>\n",
       "</g>\n",
       "<!-- profits_prev_6m&#45;&gt;consultancy -->\n",
       "<g id=\"edge5\" class=\"edge\">\n",
       "<title>profits_prev_6m&#45;&gt;consultancy</title>\n",
       "<path fill=\"none\" stroke=\"black\" d=\"M211.95,-31.68C231.27,-37.17 253.6,-43.52 273.32,-49.13\"/>\n",
       "<polygon fill=\"black\" stroke=\"black\" points=\"272.25,-52.46 282.83,-51.83 274.16,-45.73 272.25,-52.46\"/>\n",
       "</g>\n",
       "</g>\n",
       "</svg>\n"
      ],
      "text/plain": [
       "<graphviz.graphs.Digraph at 0x17ec12d50>"
      ]
     },
     "execution_count": 7,
     "metadata": {},
     "output_type": "execute_result"
    }
   ],
   "source": [
    "g_consultancy = gr.Digraph(graph_attr={\"rankdir\": \"LR\"})\n",
    "\n",
    "g_consultancy.edge(\"U1\", \"profits_next_6m\")\n",
    "g_consultancy.edge(\"U2\", \"consultancy\")\n",
    "g_consultancy.edge(\"U3\", \"profits_prev_6m\")\n",
    "\n",
    "g_consultancy.edge(\"consultancy\", \"profits_next_6m\")\n",
    "\n",
    "g_consultancy.edge(\"profits_prev_6m\", \"consultancy\")\n",
    "g_consultancy.edge(\"profits_prev_6m\", \"profits_next_6m\")\n",
    "\n",
    "g_consultancy"
   ]
  },
  {
   "cell_type": "code",
   "execution_count": 8,
   "metadata": {
    "ExecuteTime": {
     "end_time": "2023-06-25T15:09:29.429558Z",
     "start_time": "2023-06-25T15:09:29.207127Z"
    },
    "tags": [
     "hide-input",
     "hide-code"
    ]
   },
   "outputs": [
    {
     "data": {
      "image/svg+xml": [
       "<?xml version=\"1.0\" encoding=\"UTF-8\" standalone=\"no\"?>\n",
       "<!DOCTYPE svg PUBLIC \"-//W3C//DTD SVG 1.1//EN\"\n",
       " \"http://www.w3.org/Graphics/SVG/1.1/DTD/svg11.dtd\">\n",
       "<!-- Generated by graphviz version 10.0.1 (20240210.2158)\n",
       " -->\n",
       "<!-- Pages: 1 -->\n",
       "<svg width=\"480pt\" height=\"67pt\"\n",
       " viewBox=\"0.00 0.00 480.23 67.00\" xmlns=\"http://www.w3.org/2000/svg\" xmlns:xlink=\"http://www.w3.org/1999/xlink\">\n",
       "<g id=\"graph0\" class=\"graph\" transform=\"scale(1 1) rotate(0) translate(4 63)\">\n",
       "<polygon fill=\"white\" stroke=\"none\" points=\"-4,4 -4,-63 476.23,-63 476.23,4 -4,4\"/>\n",
       "<!-- consultancy -->\n",
       "<g id=\"node1\" class=\"node\">\n",
       "<title>consultancy</title>\n",
       "<ellipse fill=\"none\" stroke=\"black\" cx=\"236.63\" cy=\"-41\" rx=\"54.93\" ry=\"18\"/>\n",
       "<text text-anchor=\"middle\" x=\"236.63\" y=\"-35.95\" font-family=\"Times,serif\" font-size=\"14.00\">consultancy</text>\n",
       "</g>\n",
       "<!-- profits_next_6m -->\n",
       "<g id=\"node2\" class=\"node\">\n",
       "<title>profits_next_6m</title>\n",
       "<ellipse fill=\"none\" stroke=\"black\" cx=\"399.9\" cy=\"-18\" rx=\"72.34\" ry=\"18\"/>\n",
       "<text text-anchor=\"middle\" x=\"399.9\" y=\"-12.95\" font-family=\"Times,serif\" font-size=\"14.00\">profits_next_6m</text>\n",
       "</g>\n",
       "<!-- consultancy&#45;&gt;profits_next_6m -->\n",
       "<g id=\"edge1\" class=\"edge\">\n",
       "<title>consultancy&#45;&gt;profits_next_6m</title>\n",
       "<path fill=\"none\" stroke=\"black\" d=\"M287.33,-33.91C299.28,-32.21 312.31,-30.35 325.1,-28.53\"/>\n",
       "<polygon fill=\"black\" stroke=\"black\" points=\"325.34,-32.03 334.75,-27.15 324.36,-25.1 325.34,-32.03\"/>\n",
       "</g>\n",
       "<!-- profits_prev_6m -->\n",
       "<g id=\"node3\" class=\"node\">\n",
       "<title>profits_prev_6m</title>\n",
       "<ellipse fill=\"none\" stroke=\"black\" cx=\"72.85\" cy=\"-18\" rx=\"72.85\" ry=\"18\"/>\n",
       "<text text-anchor=\"middle\" x=\"72.85\" y=\"-12.95\" font-family=\"Times,serif\" font-size=\"14.00\">profits_prev_6m</text>\n",
       "</g>\n",
       "<!-- profits_prev_6m&#45;&gt;consultancy -->\n",
       "<g id=\"edge2\" class=\"edge\">\n",
       "<title>profits_prev_6m&#45;&gt;consultancy</title>\n",
       "<path fill=\"none\" stroke=\"black\" d=\"M136.86,-26.96C149.22,-28.72 162.17,-30.56 174.47,-32.31\"/>\n",
       "<polygon fill=\"black\" stroke=\"black\" points=\"173.66,-35.73 184.05,-33.67 174.65,-28.79 173.66,-35.73\"/>\n",
       "</g>\n",
       "<!-- profits_prev_6m&#45;&gt;profits_next_6m -->\n",
       "<g id=\"edge3\" class=\"edge\">\n",
       "<title>profits_prev_6m&#45;&gt;profits_next_6m</title>\n",
       "<path fill=\"none\" stroke=\"black\" d=\"M145.19,-14.98C157.37,-14.57 169.89,-14.22 181.69,-14 230.52,-13.09 242.74,-13.09 291.56,-14 299.79,-14.15 308.38,-14.37 316.95,-14.63\"/>\n",
       "<polygon fill=\"black\" stroke=\"black\" points=\"316.56,-18.12 326.67,-14.94 316.79,-11.12 316.56,-18.12\"/>\n",
       "</g>\n",
       "</g>\n",
       "</svg>\n"
      ],
      "text/plain": [
       "<graphviz.graphs.Digraph at 0x17ebf31d0>"
      ]
     },
     "execution_count": 8,
     "metadata": {},
     "output_type": "execute_result"
    }
   ],
   "source": [
    "g_consultancy = gr.Digraph(graph_attr={\"rankdir\":\"LR\"})\n",
    "\n",
    "g_consultancy.edge(\"consultancy\", \"profits_next_6m\")\n",
    "g_consultancy.edge(\"profits_prev_6m\", \"consultancy\")\n",
    "g_consultancy.edge(\"profits_prev_6m\", \"profits_next_6m\")\n",
    "\n",
    "g_consultancy"
   ]
  },
  {
   "cell_type": "markdown",
   "metadata": {},
   "source": [
    "## Crash Course in Graphical Models\n",
    " \n",
    " \n",
    "### Chains\n"
   ]
  },
  {
   "cell_type": "code",
   "execution_count": 9,
   "metadata": {
    "ExecuteTime": {
     "end_time": "2023-06-25T15:09:29.656253Z",
     "start_time": "2023-06-25T15:09:29.431670Z"
    },
    "tags": [
     "hide-input"
    ]
   },
   "outputs": [
    {
     "data": {
      "image/svg+xml": [
       "<?xml version=\"1.0\" encoding=\"UTF-8\" standalone=\"no\"?>\n",
       "<!DOCTYPE svg PUBLIC \"-//W3C//DTD SVG 1.1//EN\"\n",
       " \"http://www.w3.org/Graphics/SVG/1.1/DTD/svg11.dtd\">\n",
       "<!-- Generated by graphviz version 10.0.1 (20240210.2158)\n",
       " -->\n",
       "<!-- Pages: 1 -->\n",
       "<svg width=\"498pt\" height=\"98pt\"\n",
       " viewBox=\"0.00 0.00 497.64 98.00\" xmlns=\"http://www.w3.org/2000/svg\" xmlns:xlink=\"http://www.w3.org/1999/xlink\">\n",
       "<g id=\"graph0\" class=\"graph\" transform=\"scale(1 1) rotate(0) translate(4 94)\">\n",
       "<polygon fill=\"white\" stroke=\"none\" points=\"-4,4 -4,-94 493.64,-94 493.64,4 -4,4\"/>\n",
       "<!-- T -->\n",
       "<g id=\"node1\" class=\"node\">\n",
       "<title>T</title>\n",
       "<ellipse fill=\"none\" stroke=\"black\" cx=\"76.94\" cy=\"-18\" rx=\"27\" ry=\"18\"/>\n",
       "<text text-anchor=\"middle\" x=\"76.94\" y=\"-12.95\" font-family=\"Times,serif\" font-size=\"14.00\">T</text>\n",
       "</g>\n",
       "<!-- M -->\n",
       "<g id=\"node2\" class=\"node\">\n",
       "<title>M</title>\n",
       "<ellipse fill=\"none\" stroke=\"black\" cx=\"257.61\" cy=\"-18\" rx=\"27\" ry=\"18\"/>\n",
       "<text text-anchor=\"middle\" x=\"257.61\" y=\"-12.95\" font-family=\"Times,serif\" font-size=\"14.00\">M</text>\n",
       "</g>\n",
       "<!-- T&#45;&gt;M -->\n",
       "<g id=\"edge1\" class=\"edge\">\n",
       "<title>T&#45;&gt;M</title>\n",
       "<path fill=\"none\" stroke=\"black\" d=\"M104.31,-18C134.52,-18 184.3,-18 218.68,-18\"/>\n",
       "<polygon fill=\"black\" stroke=\"black\" points=\"218.63,-21.5 228.63,-18 218.63,-14.5 218.63,-21.5\"/>\n",
       "</g>\n",
       "<!-- Y -->\n",
       "<g id=\"node3\" class=\"node\">\n",
       "<title>Y</title>\n",
       "<ellipse fill=\"none\" stroke=\"black\" cx=\"425.49\" cy=\"-18\" rx=\"27\" ry=\"18\"/>\n",
       "<text text-anchor=\"middle\" x=\"425.49\" y=\"-12.95\" font-family=\"Times,serif\" font-size=\"14.00\">Y</text>\n",
       "</g>\n",
       "<!-- M&#45;&gt;Y -->\n",
       "<g id=\"edge2\" class=\"edge\">\n",
       "<title>M&#45;&gt;Y</title>\n",
       "<path fill=\"none\" stroke=\"black\" d=\"M284.9,-18C312.36,-18 355.69,-18 386.79,-18\"/>\n",
       "<polygon fill=\"black\" stroke=\"black\" points=\"386.54,-21.5 396.54,-18 386.54,-14.5 386.54,-21.5\"/>\n",
       "</g>\n",
       "<!-- causal knowledge -->\n",
       "<g id=\"node4\" class=\"node\">\n",
       "<title>causal knowledge</title>\n",
       "<ellipse fill=\"none\" stroke=\"black\" cx=\"76.94\" cy=\"-72\" rx=\"76.94\" ry=\"18\"/>\n",
       "<text text-anchor=\"middle\" x=\"76.94\" y=\"-66.95\" font-family=\"Times,serif\" font-size=\"14.00\">causal knowledge</text>\n",
       "</g>\n",
       "<!-- solve problems -->\n",
       "<g id=\"node5\" class=\"node\">\n",
       "<title>solve problems</title>\n",
       "<ellipse fill=\"none\" stroke=\"black\" cx=\"257.61\" cy=\"-72\" rx=\"67.73\" ry=\"18\"/>\n",
       "<text text-anchor=\"middle\" x=\"257.61\" y=\"-66.95\" font-family=\"Times,serif\" font-size=\"14.00\">solve problems</text>\n",
       "</g>\n",
       "<!-- causal knowledge&#45;&gt;solve problems -->\n",
       "<g id=\"edge3\" class=\"edge\">\n",
       "<title>causal knowledge&#45;&gt;solve problems</title>\n",
       "<path fill=\"none\" stroke=\"black\" d=\"M154.23,-72C162.13,-72 170.18,-72 178.1,-72\"/>\n",
       "<polygon fill=\"black\" stroke=\"black\" points=\"178.09,-75.5 188.09,-72 178.09,-68.5 178.09,-75.5\"/>\n",
       "</g>\n",
       "<!-- job promotion -->\n",
       "<g id=\"node6\" class=\"node\">\n",
       "<title>job promotion</title>\n",
       "<ellipse fill=\"none\" stroke=\"black\" cx=\"425.49\" cy=\"-72\" rx=\"64.15\" ry=\"18\"/>\n",
       "<text text-anchor=\"middle\" x=\"425.49\" y=\"-66.95\" font-family=\"Times,serif\" font-size=\"14.00\">job promotion</text>\n",
       "</g>\n",
       "<!-- solve problems&#45;&gt;job promotion -->\n",
       "<g id=\"edge4\" class=\"edge\">\n",
       "<title>solve problems&#45;&gt;job promotion</title>\n",
       "<path fill=\"none\" stroke=\"black\" d=\"M325.6,-72C333.55,-72 341.7,-72 349.74,-72\"/>\n",
       "<polygon fill=\"black\" stroke=\"black\" points=\"349.5,-75.5 359.5,-72 349.5,-68.5 349.5,-75.5\"/>\n",
       "</g>\n",
       "</g>\n",
       "</svg>\n"
      ],
      "text/plain": [
       "<graphviz.graphs.Digraph at 0x17ec13e90>"
      ]
     },
     "execution_count": 9,
     "metadata": {},
     "output_type": "execute_result"
    }
   ],
   "source": [
    "g = gr.Digraph(graph_attr={\"rankdir\": \"LR\"})\n",
    "\n",
    "g.edge(\"T\", \"M\")\n",
    "g.edge(\"M\", \"Y\")\n",
    "g.node(\"M\", \"M\")\n",
    "\n",
    "\n",
    "g.edge(\"causal knowledge\", \"solve problems\")\n",
    "g.edge(\"solve problems\", \"job promotion\")\n",
    "\n",
    "g"
   ]
  },
  {
   "cell_type": "code",
   "execution_count": 10,
   "metadata": {
    "ExecuteTime": {
     "end_time": "2023-06-25T15:09:29.870382Z",
     "start_time": "2023-06-25T15:09:29.661788Z"
    },
    "tags": [
     "hide-input"
    ]
   },
   "outputs": [
    {
     "data": {
      "image/svg+xml": [
       "<?xml version=\"1.0\" encoding=\"UTF-8\" standalone=\"no\"?>\n",
       "<!DOCTYPE svg PUBLIC \"-//W3C//DTD SVG 1.1//EN\"\n",
       " \"http://www.w3.org/Graphics/SVG/1.1/DTD/svg11.dtd\">\n",
       "<!-- Generated by graphviz version 10.0.1 (20240210.2158)\n",
       " -->\n",
       "<!-- Pages: 1 -->\n",
       "<svg width=\"498pt\" height=\"98pt\"\n",
       " viewBox=\"0.00 0.00 497.64 98.00\" xmlns=\"http://www.w3.org/2000/svg\" xmlns:xlink=\"http://www.w3.org/1999/xlink\">\n",
       "<g id=\"graph0\" class=\"graph\" transform=\"scale(1 1) rotate(0) translate(4 94)\">\n",
       "<polygon fill=\"white\" stroke=\"none\" points=\"-4,4 -4,-94 493.64,-94 493.64,4 -4,4\"/>\n",
       "<!-- T -->\n",
       "<g id=\"node1\" class=\"node\">\n",
       "<title>T</title>\n",
       "<ellipse fill=\"none\" stroke=\"black\" cx=\"76.94\" cy=\"-18\" rx=\"27\" ry=\"18\"/>\n",
       "<text text-anchor=\"middle\" x=\"76.94\" y=\"-12.95\" font-family=\"Times,serif\" font-size=\"14.00\">T</text>\n",
       "</g>\n",
       "<!-- M -->\n",
       "<g id=\"node2\" class=\"node\">\n",
       "<title>M</title>\n",
       "<ellipse fill=\"lightgrey\" stroke=\"lightgrey\" cx=\"257.61\" cy=\"-18\" rx=\"27\" ry=\"18\"/>\n",
       "<text text-anchor=\"middle\" x=\"257.61\" y=\"-12.95\" font-family=\"Times,serif\" font-size=\"14.00\">M</text>\n",
       "</g>\n",
       "<!-- T&#45;&gt;M -->\n",
       "<g id=\"edge1\" class=\"edge\">\n",
       "<title>T&#45;&gt;M</title>\n",
       "<path fill=\"none\" stroke=\"black\" d=\"M104.31,-18C134.52,-18 184.3,-18 218.68,-18\"/>\n",
       "<polygon fill=\"black\" stroke=\"black\" points=\"218.63,-21.5 228.63,-18 218.63,-14.5 218.63,-21.5\"/>\n",
       "</g>\n",
       "<!-- Y -->\n",
       "<g id=\"node3\" class=\"node\">\n",
       "<title>Y</title>\n",
       "<ellipse fill=\"none\" stroke=\"black\" cx=\"425.49\" cy=\"-18\" rx=\"27\" ry=\"18\"/>\n",
       "<text text-anchor=\"middle\" x=\"425.49\" y=\"-12.95\" font-family=\"Times,serif\" font-size=\"14.00\">Y</text>\n",
       "</g>\n",
       "<!-- M&#45;&gt;Y -->\n",
       "<g id=\"edge2\" class=\"edge\">\n",
       "<title>M&#45;&gt;Y</title>\n",
       "<path fill=\"none\" stroke=\"black\" d=\"M284.9,-18C312.36,-18 355.69,-18 386.79,-18\"/>\n",
       "<polygon fill=\"black\" stroke=\"black\" points=\"386.54,-21.5 396.54,-18 386.54,-14.5 386.54,-21.5\"/>\n",
       "</g>\n",
       "<!-- causal knowledge -->\n",
       "<g id=\"node4\" class=\"node\">\n",
       "<title>causal knowledge</title>\n",
       "<ellipse fill=\"none\" stroke=\"black\" cx=\"76.94\" cy=\"-72\" rx=\"76.94\" ry=\"18\"/>\n",
       "<text text-anchor=\"middle\" x=\"76.94\" y=\"-66.95\" font-family=\"Times,serif\" font-size=\"14.00\">causal knowledge</text>\n",
       "</g>\n",
       "<!-- solve problems -->\n",
       "<g id=\"node5\" class=\"node\">\n",
       "<title>solve problems</title>\n",
       "<ellipse fill=\"lightgrey\" stroke=\"lightgrey\" cx=\"257.61\" cy=\"-72\" rx=\"67.73\" ry=\"18\"/>\n",
       "<text text-anchor=\"middle\" x=\"257.61\" y=\"-66.95\" font-family=\"Times,serif\" font-size=\"14.00\">solve problems</text>\n",
       "</g>\n",
       "<!-- causal knowledge&#45;&gt;solve problems -->\n",
       "<g id=\"edge3\" class=\"edge\">\n",
       "<title>causal knowledge&#45;&gt;solve problems</title>\n",
       "<path fill=\"none\" stroke=\"black\" d=\"M154.23,-72C162.13,-72 170.18,-72 178.1,-72\"/>\n",
       "<polygon fill=\"black\" stroke=\"black\" points=\"178.09,-75.5 188.09,-72 178.09,-68.5 178.09,-75.5\"/>\n",
       "</g>\n",
       "<!-- job promotion -->\n",
       "<g id=\"node6\" class=\"node\">\n",
       "<title>job promotion</title>\n",
       "<ellipse fill=\"none\" stroke=\"black\" cx=\"425.49\" cy=\"-72\" rx=\"64.15\" ry=\"18\"/>\n",
       "<text text-anchor=\"middle\" x=\"425.49\" y=\"-66.95\" font-family=\"Times,serif\" font-size=\"14.00\">job promotion</text>\n",
       "</g>\n",
       "<!-- solve problems&#45;&gt;job promotion -->\n",
       "<g id=\"edge4\" class=\"edge\">\n",
       "<title>solve problems&#45;&gt;job promotion</title>\n",
       "<path fill=\"none\" stroke=\"black\" d=\"M325.6,-72C333.55,-72 341.7,-72 349.74,-72\"/>\n",
       "<polygon fill=\"black\" stroke=\"black\" points=\"349.5,-75.5 359.5,-72 349.5,-68.5 349.5,-75.5\"/>\n",
       "</g>\n",
       "</g>\n",
       "</svg>\n"
      ],
      "text/plain": [
       "<graphviz.graphs.Digraph at 0x17ec10590>"
      ]
     },
     "execution_count": 10,
     "metadata": {},
     "output_type": "execute_result"
    }
   ],
   "source": [
    "g = gr.Digraph(graph_attr={\"rankdir\": \"LR\"})\n",
    "\n",
    "g.edge(\"T\", \"M\")\n",
    "g.edge(\"M\", \"Y\")\n",
    "g.node(\"M\", \"M\")\n",
    "g.node(\"M\", color=\"lightgrey\", style=\"filled\")\n",
    "\n",
    "\n",
    "g.edge(\"causal knowledge\", \"solve problems\")\n",
    "g.edge(\"solve problems\", \"job promotion\")\n",
    "g.node(\"solve problems\", color=\"lightgrey\", style=\"filled\")\n",
    "\n",
    "g"
   ]
  },
  {
   "cell_type": "markdown",
   "metadata": {},
   "source": [
    "\n",
    "### Forks\n",
    " \n"
   ]
  },
  {
   "cell_type": "code",
   "execution_count": 11,
   "metadata": {
    "ExecuteTime": {
     "end_time": "2023-06-25T15:09:30.108147Z",
     "start_time": "2023-06-25T15:09:29.872267Z"
    },
    "tags": [
     "hide-input"
    ]
   },
   "outputs": [
    {
     "data": {
      "image/svg+xml": [
       "<?xml version=\"1.0\" encoding=\"UTF-8\" standalone=\"no\"?>\n",
       "<!DOCTYPE svg PUBLIC \"-//W3C//DTD SVG 1.1//EN\"\n",
       " \"http://www.w3.org/Graphics/SVG/1.1/DTD/svg11.dtd\">\n",
       "<!-- Generated by graphviz version 10.0.1 (20240210.2158)\n",
       " -->\n",
       "<!-- Pages: 1 -->\n",
       "<svg width=\"462pt\" height=\"116pt\"\n",
       " viewBox=\"0.00 0.00 462.41 116.00\" xmlns=\"http://www.w3.org/2000/svg\" xmlns:xlink=\"http://www.w3.org/1999/xlink\">\n",
       "<g id=\"graph0\" class=\"graph\" transform=\"scale(1 1) rotate(0) translate(4 112)\">\n",
       "<polygon fill=\"white\" stroke=\"none\" points=\"-4,4 -4,-112 458.41,-112 458.41,4 -4,4\"/>\n",
       "<!-- X -->\n",
       "<g id=\"node1\" class=\"node\">\n",
       "<title>X</title>\n",
       "<ellipse fill=\"none\" stroke=\"black\" cx=\"63\" cy=\"-90\" rx=\"27\" ry=\"18\"/>\n",
       "<text text-anchor=\"middle\" x=\"63\" y=\"-84.95\" font-family=\"Times,serif\" font-size=\"14.00\">X</text>\n",
       "</g>\n",
       "<!-- Y -->\n",
       "<g id=\"node2\" class=\"node\">\n",
       "<title>Y</title>\n",
       "<ellipse fill=\"none\" stroke=\"black\" cx=\"27\" cy=\"-18\" rx=\"27\" ry=\"18\"/>\n",
       "<text text-anchor=\"middle\" x=\"27\" y=\"-12.95\" font-family=\"Times,serif\" font-size=\"14.00\">Y</text>\n",
       "</g>\n",
       "<!-- X&#45;&gt;Y -->\n",
       "<g id=\"edge1\" class=\"edge\">\n",
       "<title>X&#45;&gt;Y</title>\n",
       "<path fill=\"none\" stroke=\"black\" d=\"M54.65,-72.76C50.42,-64.55 45.19,-54.37 40.42,-45.09\"/>\n",
       "<polygon fill=\"black\" stroke=\"black\" points=\"43.68,-43.79 36,-36.49 37.46,-46.99 43.68,-43.79\"/>\n",
       "</g>\n",
       "<!-- T -->\n",
       "<g id=\"node3\" class=\"node\">\n",
       "<title>T</title>\n",
       "<ellipse fill=\"none\" stroke=\"black\" cx=\"99\" cy=\"-18\" rx=\"27\" ry=\"18\"/>\n",
       "<text text-anchor=\"middle\" x=\"99\" y=\"-12.95\" font-family=\"Times,serif\" font-size=\"14.00\">T</text>\n",
       "</g>\n",
       "<!-- X&#45;&gt;T -->\n",
       "<g id=\"edge2\" class=\"edge\">\n",
       "<title>X&#45;&gt;T</title>\n",
       "<path fill=\"none\" stroke=\"black\" d=\"M71.35,-72.76C75.58,-64.55 80.81,-54.37 85.58,-45.09\"/>\n",
       "<polygon fill=\"black\" stroke=\"black\" points=\"88.54,-46.99 90,-36.49 82.32,-43.79 88.54,-46.99\"/>\n",
       "</g>\n",
       "<!-- statistics -->\n",
       "<g id=\"node4\" class=\"node\">\n",
       "<title>statistics</title>\n",
       "<ellipse fill=\"none\" stroke=\"black\" cx=\"297\" cy=\"-90\" rx=\"42.65\" ry=\"18\"/>\n",
       "<text text-anchor=\"middle\" x=\"297\" y=\"-84.95\" font-family=\"Times,serif\" font-size=\"14.00\">statistics</text>\n",
       "</g>\n",
       "<!-- causal inference -->\n",
       "<g id=\"node5\" class=\"node\">\n",
       "<title>causal inference</title>\n",
       "<ellipse fill=\"none\" stroke=\"black\" cx=\"215\" cy=\"-18\" rx=\"70.8\" ry=\"18\"/>\n",
       "<text text-anchor=\"middle\" x=\"215\" y=\"-12.95\" font-family=\"Times,serif\" font-size=\"14.00\">causal inference</text>\n",
       "</g>\n",
       "<!-- statistics&#45;&gt;causal inference -->\n",
       "<g id=\"edge3\" class=\"edge\">\n",
       "<title>statistics&#45;&gt;causal inference</title>\n",
       "<path fill=\"none\" stroke=\"black\" d=\"M278.8,-73.46C268.35,-64.54 255,-53.14 243.21,-43.08\"/>\n",
       "<polygon fill=\"black\" stroke=\"black\" points=\"245.61,-40.53 235.73,-36.7 241.06,-45.85 245.61,-40.53\"/>\n",
       "</g>\n",
       "<!-- machine learning -->\n",
       "<g id=\"node6\" class=\"node\">\n",
       "<title>machine learning</title>\n",
       "<ellipse fill=\"none\" stroke=\"black\" cx=\"379\" cy=\"-18\" rx=\"75.41\" ry=\"18\"/>\n",
       "<text text-anchor=\"middle\" x=\"379\" y=\"-12.95\" font-family=\"Times,serif\" font-size=\"14.00\">machine learning</text>\n",
       "</g>\n",
       "<!-- statistics&#45;&gt;machine learning -->\n",
       "<g id=\"edge4\" class=\"edge\">\n",
       "<title>statistics&#45;&gt;machine learning</title>\n",
       "<path fill=\"none\" stroke=\"black\" d=\"M315.2,-73.46C325.65,-64.54 339,-53.14 350.79,-43.08\"/>\n",
       "<polygon fill=\"black\" stroke=\"black\" points=\"352.94,-45.85 358.27,-36.7 348.39,-40.53 352.94,-45.85\"/>\n",
       "</g>\n",
       "</g>\n",
       "</svg>\n"
      ],
      "text/plain": [
       "<graphviz.graphs.Digraph at 0x17ec137d0>"
      ]
     },
     "execution_count": 11,
     "metadata": {},
     "output_type": "execute_result"
    }
   ],
   "source": [
    "g = gr.Digraph()\n",
    "\n",
    "\n",
    "g.edge(\"X\", \"Y\")\n",
    "g.edge(\"X\", \"T\")\n",
    "g.node(\"X\", \"X\")\n",
    "\n",
    "g.edge(\"statistics\", \"causal inference\")\n",
    "g.edge(\"statistics\", \"machine learning\")\n",
    "\n",
    "g"
   ]
  },
  {
   "cell_type": "code",
   "execution_count": 12,
   "metadata": {
    "ExecuteTime": {
     "end_time": "2023-06-25T15:09:30.323535Z",
     "start_time": "2023-06-25T15:09:30.110294Z"
    },
    "tags": [
     "hide-input"
    ]
   },
   "outputs": [
    {
     "data": {
      "image/svg+xml": [
       "<?xml version=\"1.0\" encoding=\"UTF-8\" standalone=\"no\"?>\n",
       "<!DOCTYPE svg PUBLIC \"-//W3C//DTD SVG 1.1//EN\"\n",
       " \"http://www.w3.org/Graphics/SVG/1.1/DTD/svg11.dtd\">\n",
       "<!-- Generated by graphviz version 10.0.1 (20240210.2158)\n",
       " -->\n",
       "<!-- Pages: 1 -->\n",
       "<svg width=\"356pt\" height=\"116pt\"\n",
       " viewBox=\"0.00 0.00 356.14 116.00\" xmlns=\"http://www.w3.org/2000/svg\" xmlns:xlink=\"http://www.w3.org/1999/xlink\">\n",
       "<g id=\"graph0\" class=\"graph\" transform=\"scale(1 1) rotate(0) translate(4 112)\">\n",
       "<polygon fill=\"white\" stroke=\"none\" points=\"-4,4 -4,-112 352.14,-112 352.14,4 -4,4\"/>\n",
       "<!-- good programmer -->\n",
       "<g id=\"node1\" class=\"node\">\n",
       "<title>good programmer</title>\n",
       "<ellipse fill=\"none\" stroke=\"black\" cx=\"187.9\" cy=\"-90\" rx=\"78.48\" ry=\"18\"/>\n",
       "<text text-anchor=\"middle\" x=\"187.9\" y=\"-84.95\" font-family=\"Times,serif\" font-size=\"14.00\">good programmer</text>\n",
       "</g>\n",
       "<!-- can invert a binary tree -->\n",
       "<g id=\"node2\" class=\"node\">\n",
       "<title>can invert a binary tree</title>\n",
       "<ellipse fill=\"none\" stroke=\"black\" cx=\"96.9\" cy=\"-18\" rx=\"96.9\" ry=\"18\"/>\n",
       "<text text-anchor=\"middle\" x=\"96.9\" y=\"-12.95\" font-family=\"Times,serif\" font-size=\"14.00\">can invert a binary tree</text>\n",
       "</g>\n",
       "<!-- good programmer&#45;&gt;can invert a binary tree -->\n",
       "<g id=\"edge1\" class=\"edge\">\n",
       "<title>good programmer&#45;&gt;can invert a binary tree</title>\n",
       "<path fill=\"none\" stroke=\"black\" d=\"M166.34,-72.41C154.83,-63.56 140.48,-52.52 127.81,-42.77\"/>\n",
       "<polygon fill=\"black\" stroke=\"black\" points=\"130.21,-40.2 120.15,-36.88 125.94,-45.75 130.21,-40.2\"/>\n",
       "</g>\n",
       "<!-- good employee -->\n",
       "<g id=\"node3\" class=\"node\">\n",
       "<title>good employee</title>\n",
       "<ellipse fill=\"none\" stroke=\"black\" cx=\"279.9\" cy=\"-18\" rx=\"68.24\" ry=\"18\"/>\n",
       "<text text-anchor=\"middle\" x=\"279.9\" y=\"-12.95\" font-family=\"Times,serif\" font-size=\"14.00\">good employee</text>\n",
       "</g>\n",
       "<!-- good programmer&#45;&gt;good employee -->\n",
       "<g id=\"edge2\" class=\"edge\">\n",
       "<title>good programmer&#45;&gt;good employee</title>\n",
       "<path fill=\"none\" stroke=\"black\" d=\"M209.71,-72.41C221.51,-63.43 236.28,-52.19 249.22,-42.34\"/>\n",
       "<polygon fill=\"black\" stroke=\"black\" points=\"251.21,-45.23 257.05,-36.39 246.97,-39.66 251.21,-45.23\"/>\n",
       "</g>\n",
       "</g>\n",
       "</svg>\n"
      ],
      "text/plain": [
       "<graphviz.graphs.Digraph at 0x17ec12650>"
      ]
     },
     "execution_count": 12,
     "metadata": {},
     "output_type": "execute_result"
    }
   ],
   "source": [
    "g = gr.Digraph()\n",
    "\n",
    "g.edge(\"good programmer\", \"can invert a binary tree\")\n",
    "g.edge(\"good programmer\", \"good employee\")\n",
    "\n",
    "g"
   ]
  },
  {
   "cell_type": "markdown",
   "metadata": {},
   "source": [
    "\n",
    " \n",
    "### Immorality or Collider \n"
   ]
  },
  {
   "cell_type": "code",
   "execution_count": 13,
   "metadata": {
    "ExecuteTime": {
     "end_time": "2023-06-25T15:09:30.517990Z",
     "start_time": "2023-06-25T15:09:30.326021Z"
    },
    "tags": [
     "hide-input"
    ]
   },
   "outputs": [
    {
     "data": {
      "image/svg+xml": [
       "<?xml version=\"1.0\" encoding=\"UTF-8\" standalone=\"no\"?>\n",
       "<!DOCTYPE svg PUBLIC \"-//W3C//DTD SVG 1.1//EN\"\n",
       " \"http://www.w3.org/Graphics/SVG/1.1/DTD/svg11.dtd\">\n",
       "<!-- Generated by graphviz version 10.0.1 (20240210.2158)\n",
       " -->\n",
       "<!-- Pages: 1 -->\n",
       "<svg width=\"332pt\" height=\"116pt\"\n",
       " viewBox=\"0.00 0.00 331.93 116.00\" xmlns=\"http://www.w3.org/2000/svg\" xmlns:xlink=\"http://www.w3.org/1999/xlink\">\n",
       "<g id=\"graph0\" class=\"graph\" transform=\"scale(1 1) rotate(0) translate(4 112)\">\n",
       "<polygon fill=\"white\" stroke=\"none\" points=\"-4,4 -4,-112 327.93,-112 327.93,4 -4,4\"/>\n",
       "<!-- Y -->\n",
       "<g id=\"node1\" class=\"node\">\n",
       "<title>Y</title>\n",
       "<ellipse fill=\"none\" stroke=\"black\" cx=\"27\" cy=\"-90\" rx=\"27\" ry=\"18\"/>\n",
       "<text text-anchor=\"middle\" x=\"27\" y=\"-84.95\" font-family=\"Times,serif\" font-size=\"14.00\">Y</text>\n",
       "</g>\n",
       "<!-- X -->\n",
       "<g id=\"node2\" class=\"node\">\n",
       "<title>X</title>\n",
       "<ellipse fill=\"none\" stroke=\"black\" cx=\"78\" cy=\"-18\" rx=\"27\" ry=\"18\"/>\n",
       "<text text-anchor=\"middle\" x=\"78\" y=\"-12.95\" font-family=\"Times,serif\" font-size=\"14.00\">X</text>\n",
       "</g>\n",
       "<!-- Y&#45;&gt;X -->\n",
       "<g id=\"edge1\" class=\"edge\">\n",
       "<title>Y&#45;&gt;X</title>\n",
       "<path fill=\"none\" stroke=\"black\" d=\"M38.32,-73.46C44.72,-64.67 52.88,-53.48 60.13,-43.53\"/>\n",
       "<polygon fill=\"black\" stroke=\"black\" points=\"62.76,-45.86 65.82,-35.72 57.1,-41.74 62.76,-45.86\"/>\n",
       "</g>\n",
       "<!-- T -->\n",
       "<g id=\"node3\" class=\"node\">\n",
       "<title>T</title>\n",
       "<ellipse fill=\"none\" stroke=\"black\" cx=\"99\" cy=\"-90\" rx=\"27\" ry=\"18\"/>\n",
       "<text text-anchor=\"middle\" x=\"99\" y=\"-84.95\" font-family=\"Times,serif\" font-size=\"14.00\">T</text>\n",
       "</g>\n",
       "<!-- T&#45;&gt;X -->\n",
       "<g id=\"edge2\" class=\"edge\">\n",
       "<title>T&#45;&gt;X</title>\n",
       "<path fill=\"none\" stroke=\"black\" d=\"M93.92,-72.05C91.62,-64.4 88.85,-55.16 86.27,-46.56\"/>\n",
       "<polygon fill=\"black\" stroke=\"black\" points=\"89.7,-45.81 83.47,-37.24 82.99,-47.82 89.7,-45.81\"/>\n",
       "</g>\n",
       "<!-- statistics -->\n",
       "<g id=\"node4\" class=\"node\">\n",
       "<title>statistics</title>\n",
       "<ellipse fill=\"none\" stroke=\"black\" cx=\"197\" cy=\"-90\" rx=\"42.65\" ry=\"18\"/>\n",
       "<text text-anchor=\"middle\" x=\"197\" y=\"-84.95\" font-family=\"Times,serif\" font-size=\"14.00\">statistics</text>\n",
       "</g>\n",
       "<!-- job promotion -->\n",
       "<g id=\"node5\" class=\"node\">\n",
       "<title>job promotion</title>\n",
       "<ellipse fill=\"none\" stroke=\"black\" cx=\"217\" cy=\"-18\" rx=\"64.15\" ry=\"18\"/>\n",
       "<text text-anchor=\"middle\" x=\"217\" y=\"-12.95\" font-family=\"Times,serif\" font-size=\"14.00\">job promotion</text>\n",
       "</g>\n",
       "<!-- statistics&#45;&gt;job promotion -->\n",
       "<g id=\"edge3\" class=\"edge\">\n",
       "<title>statistics&#45;&gt;job promotion</title>\n",
       "<path fill=\"none\" stroke=\"black\" d=\"M201.94,-71.7C204.08,-64.24 206.62,-55.32 209.01,-46.97\"/>\n",
       "<polygon fill=\"black\" stroke=\"black\" points=\"212.32,-48.14 211.7,-37.56 205.58,-46.21 212.32,-48.14\"/>\n",
       "</g>\n",
       "<!-- flatter -->\n",
       "<g id=\"node6\" class=\"node\">\n",
       "<title>flatter</title>\n",
       "<ellipse fill=\"none\" stroke=\"black\" cx=\"291\" cy=\"-90\" rx=\"32.93\" ry=\"18\"/>\n",
       "<text text-anchor=\"middle\" x=\"291\" y=\"-84.95\" font-family=\"Times,serif\" font-size=\"14.00\">flatter</text>\n",
       "</g>\n",
       "<!-- flatter&#45;&gt;job promotion -->\n",
       "<g id=\"edge4\" class=\"edge\">\n",
       "<title>flatter&#45;&gt;job promotion</title>\n",
       "<path fill=\"none\" stroke=\"black\" d=\"M274.94,-73.81C265.55,-64.93 253.48,-53.5 242.78,-43.39\"/>\n",
       "<polygon fill=\"black\" stroke=\"black\" points=\"245.35,-41 235.68,-36.67 240.54,-46.08 245.35,-41\"/>\n",
       "</g>\n",
       "</g>\n",
       "</svg>\n"
      ],
      "text/plain": [
       "<graphviz.graphs.Digraph at 0x17ec1a150>"
      ]
     },
     "execution_count": 13,
     "metadata": {},
     "output_type": "execute_result"
    }
   ],
   "source": [
    "g = gr.Digraph()\n",
    "\n",
    "g.edge(\"Y\", \"X\")\n",
    "g.edge(\"T\", \"X\")\n",
    "\n",
    "g.edge(\"statistics\", \"job promotion\")\n",
    "g.edge(\"flatter\", \"job promotion\")\n",
    "\n",
    "g"
   ]
  },
  {
   "cell_type": "code",
   "execution_count": 14,
   "metadata": {
    "ExecuteTime": {
     "end_time": "2023-06-25T15:09:30.744680Z",
     "start_time": "2023-06-25T15:09:30.519766Z"
    },
    "scrolled": true,
    "tags": [
     "hide-input"
    ]
   },
   "outputs": [
    {
     "data": {
      "image/svg+xml": [
       "<?xml version=\"1.0\" encoding=\"UTF-8\" standalone=\"no\"?>\n",
       "<!DOCTYPE svg PUBLIC \"-//W3C//DTD SVG 1.1//EN\"\n",
       " \"http://www.w3.org/Graphics/SVG/1.1/DTD/svg11.dtd\">\n",
       "<!-- Generated by graphviz version 10.0.1 (20240210.2158)\n",
       " -->\n",
       "<!-- Pages: 1 -->\n",
       "<svg width=\"332pt\" height=\"188pt\"\n",
       " viewBox=\"0.00 0.00 331.93 188.00\" xmlns=\"http://www.w3.org/2000/svg\" xmlns:xlink=\"http://www.w3.org/1999/xlink\">\n",
       "<g id=\"graph0\" class=\"graph\" transform=\"scale(1 1) rotate(0) translate(4 184)\">\n",
       "<polygon fill=\"white\" stroke=\"none\" points=\"-4,4 -4,-184 327.93,-184 327.93,4 -4,4\"/>\n",
       "<!-- Y -->\n",
       "<g id=\"node1\" class=\"node\">\n",
       "<title>Y</title>\n",
       "<ellipse fill=\"none\" stroke=\"black\" cx=\"27\" cy=\"-162\" rx=\"27\" ry=\"18\"/>\n",
       "<text text-anchor=\"middle\" x=\"27\" y=\"-156.95\" font-family=\"Times,serif\" font-size=\"14.00\">Y</text>\n",
       "</g>\n",
       "<!-- X1 -->\n",
       "<g id=\"node2\" class=\"node\">\n",
       "<title>X1</title>\n",
       "<ellipse fill=\"none\" stroke=\"black\" cx=\"78\" cy=\"-90\" rx=\"27\" ry=\"18\"/>\n",
       "<text text-anchor=\"middle\" x=\"78\" y=\"-84.95\" font-family=\"Times,serif\" font-size=\"14.00\">X1</text>\n",
       "</g>\n",
       "<!-- Y&#45;&gt;X1 -->\n",
       "<g id=\"edge1\" class=\"edge\">\n",
       "<title>Y&#45;&gt;X1</title>\n",
       "<path fill=\"none\" stroke=\"black\" d=\"M38.32,-145.46C44.72,-136.67 52.88,-125.48 60.13,-115.53\"/>\n",
       "<polygon fill=\"black\" stroke=\"black\" points=\"62.76,-117.86 65.82,-107.72 57.1,-113.74 62.76,-117.86\"/>\n",
       "</g>\n",
       "<!-- X2 -->\n",
       "<g id=\"node4\" class=\"node\">\n",
       "<title>X2</title>\n",
       "<ellipse fill=\"lightgrey\" stroke=\"lightgrey\" cx=\"78\" cy=\"-18\" rx=\"27\" ry=\"18\"/>\n",
       "<text text-anchor=\"middle\" x=\"78\" y=\"-12.95\" font-family=\"Times,serif\" font-size=\"14.00\">X2</text>\n",
       "</g>\n",
       "<!-- X1&#45;&gt;X2 -->\n",
       "<g id=\"edge3\" class=\"edge\">\n",
       "<title>X1&#45;&gt;X2</title>\n",
       "<path fill=\"none\" stroke=\"black\" d=\"M78,-71.7C78,-64.41 78,-55.73 78,-47.54\"/>\n",
       "<polygon fill=\"black\" stroke=\"black\" points=\"81.5,-47.62 78,-37.62 74.5,-47.62 81.5,-47.62\"/>\n",
       "</g>\n",
       "<!-- T -->\n",
       "<g id=\"node3\" class=\"node\">\n",
       "<title>T</title>\n",
       "<ellipse fill=\"none\" stroke=\"black\" cx=\"99\" cy=\"-162\" rx=\"27\" ry=\"18\"/>\n",
       "<text text-anchor=\"middle\" x=\"99\" y=\"-156.95\" font-family=\"Times,serif\" font-size=\"14.00\">T</text>\n",
       "</g>\n",
       "<!-- T&#45;&gt;X1 -->\n",
       "<g id=\"edge2\" class=\"edge\">\n",
       "<title>T&#45;&gt;X1</title>\n",
       "<path fill=\"none\" stroke=\"black\" d=\"M93.92,-144.05C91.62,-136.4 88.85,-127.16 86.27,-118.56\"/>\n",
       "<polygon fill=\"black\" stroke=\"black\" points=\"89.7,-117.81 83.47,-109.24 82.99,-119.82 89.7,-117.81\"/>\n",
       "</g>\n",
       "<!-- statistics -->\n",
       "<g id=\"node5\" class=\"node\">\n",
       "<title>statistics</title>\n",
       "<ellipse fill=\"none\" stroke=\"black\" cx=\"197\" cy=\"-162\" rx=\"42.65\" ry=\"18\"/>\n",
       "<text text-anchor=\"middle\" x=\"197\" y=\"-156.95\" font-family=\"Times,serif\" font-size=\"14.00\">statistics</text>\n",
       "</g>\n",
       "<!-- job promotion -->\n",
       "<g id=\"node6\" class=\"node\">\n",
       "<title>job promotion</title>\n",
       "<ellipse fill=\"none\" stroke=\"black\" cx=\"217\" cy=\"-90\" rx=\"64.15\" ry=\"18\"/>\n",
       "<text text-anchor=\"middle\" x=\"217\" y=\"-84.95\" font-family=\"Times,serif\" font-size=\"14.00\">job promotion</text>\n",
       "</g>\n",
       "<!-- statistics&#45;&gt;job promotion -->\n",
       "<g id=\"edge4\" class=\"edge\">\n",
       "<title>statistics&#45;&gt;job promotion</title>\n",
       "<path fill=\"none\" stroke=\"black\" d=\"M201.94,-143.7C204.08,-136.24 206.62,-127.32 209.01,-118.97\"/>\n",
       "<polygon fill=\"black\" stroke=\"black\" points=\"212.32,-120.14 211.7,-109.56 205.58,-118.21 212.32,-120.14\"/>\n",
       "</g>\n",
       "<!-- high salary -->\n",
       "<g id=\"node8\" class=\"node\">\n",
       "<title>high salary</title>\n",
       "<ellipse fill=\"lightgrey\" stroke=\"lightgrey\" cx=\"217\" cy=\"-18\" rx=\"51.86\" ry=\"18\"/>\n",
       "<text text-anchor=\"middle\" x=\"217\" y=\"-12.95\" font-family=\"Times,serif\" font-size=\"14.00\">high salary</text>\n",
       "</g>\n",
       "<!-- job promotion&#45;&gt;high salary -->\n",
       "<g id=\"edge6\" class=\"edge\">\n",
       "<title>job promotion&#45;&gt;high salary</title>\n",
       "<path fill=\"none\" stroke=\"black\" d=\"M217,-71.7C217,-64.41 217,-55.73 217,-47.54\"/>\n",
       "<polygon fill=\"black\" stroke=\"black\" points=\"220.5,-47.62 217,-37.62 213.5,-47.62 220.5,-47.62\"/>\n",
       "</g>\n",
       "<!-- flatter -->\n",
       "<g id=\"node7\" class=\"node\">\n",
       "<title>flatter</title>\n",
       "<ellipse fill=\"none\" stroke=\"black\" cx=\"291\" cy=\"-162\" rx=\"32.93\" ry=\"18\"/>\n",
       "<text text-anchor=\"middle\" x=\"291\" y=\"-156.95\" font-family=\"Times,serif\" font-size=\"14.00\">flatter</text>\n",
       "</g>\n",
       "<!-- flatter&#45;&gt;job promotion -->\n",
       "<g id=\"edge5\" class=\"edge\">\n",
       "<title>flatter&#45;&gt;job promotion</title>\n",
       "<path fill=\"none\" stroke=\"black\" d=\"M274.94,-145.81C265.55,-136.93 253.48,-125.5 242.78,-115.39\"/>\n",
       "<polygon fill=\"black\" stroke=\"black\" points=\"245.35,-113 235.68,-108.67 240.54,-118.08 245.35,-113\"/>\n",
       "</g>\n",
       "</g>\n",
       "</svg>\n"
      ],
      "text/plain": [
       "<graphviz.graphs.Digraph at 0x17ec1add0>"
      ]
     },
     "execution_count": 14,
     "metadata": {},
     "output_type": "execute_result"
    }
   ],
   "source": [
    "g = gr.Digraph()\n",
    "\n",
    "g.edge(\"Y\", \"X1\")\n",
    "g.edge(\"T\", \"X1\")\n",
    "g.edge(\"X1\", \"X2\")\n",
    "g.node(\"X2\", color=\"lightgrey\", style=\"filled\")\n",
    "\n",
    "g.edge(\"statistics\", \"job promotion\")\n",
    "g.edge(\"flatter\", \"job promotion\")\n",
    "g.edge(\"job promotion\", \"high salary\")\n",
    "\n",
    "g.node(\"high salary\", color=\"lightgrey\", style=\"filled\")\n",
    "\n",
    "g"
   ]
  },
  {
   "cell_type": "markdown",
   "metadata": {},
   "source": [
    "### The Flow of Association Cheat Sheet\n"
   ]
  },
  {
   "cell_type": "markdown",
   "metadata": {},
   "source": [
    "### Querying a Graph in Python\n"
   ]
  },
  {
   "cell_type": "code",
   "execution_count": 15,
   "metadata": {
    "ExecuteTime": {
     "end_time": "2023-06-25T15:09:30.952339Z",
     "start_time": "2023-06-25T15:09:30.746564Z"
    },
    "tags": [
     "hide-input"
    ]
   },
   "outputs": [
    {
     "data": {
      "image/svg+xml": [
       "<?xml version=\"1.0\" encoding=\"UTF-8\" standalone=\"no\"?>\n",
       "<!DOCTYPE svg PUBLIC \"-//W3C//DTD SVG 1.1//EN\"\n",
       " \"http://www.w3.org/Graphics/SVG/1.1/DTD/svg11.dtd\">\n",
       "<!-- Generated by graphviz version 10.0.1 (20240210.2158)\n",
       " -->\n",
       "<!-- Pages: 1 -->\n",
       "<svg width=\"242pt\" height=\"152pt\"\n",
       " viewBox=\"0.00 0.00 242.00 152.00\" xmlns=\"http://www.w3.org/2000/svg\" xmlns:xlink=\"http://www.w3.org/1999/xlink\">\n",
       "<g id=\"graph0\" class=\"graph\" transform=\"scale(1 1) rotate(0) translate(4 148)\">\n",
       "<polygon fill=\"white\" stroke=\"none\" points=\"-4,4 -4,-148 238,-148 238,4 -4,4\"/>\n",
       "<!-- C -->\n",
       "<g id=\"node1\" class=\"node\">\n",
       "<title>C</title>\n",
       "<ellipse fill=\"none\" stroke=\"black\" cx=\"27\" cy=\"-72\" rx=\"27\" ry=\"18\"/>\n",
       "<text text-anchor=\"middle\" x=\"27\" y=\"-66.95\" font-family=\"Times,serif\" font-size=\"14.00\">C</text>\n",
       "</g>\n",
       "<!-- A -->\n",
       "<g id=\"node2\" class=\"node\">\n",
       "<title>A</title>\n",
       "<ellipse fill=\"none\" stroke=\"black\" cx=\"117\" cy=\"-126\" rx=\"27\" ry=\"18\"/>\n",
       "<text text-anchor=\"middle\" x=\"117\" y=\"-120.95\" font-family=\"Times,serif\" font-size=\"14.00\">A</text>\n",
       "</g>\n",
       "<!-- C&#45;&gt;A -->\n",
       "<g id=\"edge1\" class=\"edge\">\n",
       "<title>C&#45;&gt;A</title>\n",
       "<path fill=\"none\" stroke=\"black\" d=\"M47.53,-83.98C59.15,-91.12 74.11,-100.3 87.08,-108.25\"/>\n",
       "<polygon fill=\"black\" stroke=\"black\" points=\"84.88,-111.01 95.23,-113.26 88.54,-105.04 84.88,-111.01\"/>\n",
       "</g>\n",
       "<!-- B -->\n",
       "<g id=\"node3\" class=\"node\">\n",
       "<title>B</title>\n",
       "<ellipse fill=\"none\" stroke=\"black\" cx=\"117\" cy=\"-72\" rx=\"27\" ry=\"18\"/>\n",
       "<text text-anchor=\"middle\" x=\"117\" y=\"-66.95\" font-family=\"Times,serif\" font-size=\"14.00\">B</text>\n",
       "</g>\n",
       "<!-- C&#45;&gt;B -->\n",
       "<g id=\"edge2\" class=\"edge\">\n",
       "<title>C&#45;&gt;B</title>\n",
       "<path fill=\"none\" stroke=\"black\" d=\"M54.4,-72C61.89,-72 70.18,-72 78.2,-72\"/>\n",
       "<polygon fill=\"black\" stroke=\"black\" points=\"78.1,-75.5 88.1,-72 78.1,-68.5 78.1,-75.5\"/>\n",
       "</g>\n",
       "<!-- G -->\n",
       "<g id=\"node7\" class=\"node\">\n",
       "<title>G</title>\n",
       "<ellipse fill=\"none\" stroke=\"black\" cx=\"207\" cy=\"-126\" rx=\"27\" ry=\"18\"/>\n",
       "<text text-anchor=\"middle\" x=\"207\" y=\"-120.95\" font-family=\"Times,serif\" font-size=\"14.00\">G</text>\n",
       "</g>\n",
       "<!-- A&#45;&gt;G -->\n",
       "<g id=\"edge6\" class=\"edge\">\n",
       "<title>A&#45;&gt;G</title>\n",
       "<path fill=\"none\" stroke=\"black\" d=\"M144.4,-126C151.89,-126 160.18,-126 168.2,-126\"/>\n",
       "<polygon fill=\"black\" stroke=\"black\" points=\"168.1,-129.5 178.1,-126 168.1,-122.5 168.1,-129.5\"/>\n",
       "</g>\n",
       "<!-- E -->\n",
       "<g id=\"node5\" class=\"node\">\n",
       "<title>E</title>\n",
       "<ellipse fill=\"none\" stroke=\"black\" cx=\"207\" cy=\"-45\" rx=\"27\" ry=\"18\"/>\n",
       "<text text-anchor=\"middle\" x=\"207\" y=\"-39.95\" font-family=\"Times,serif\" font-size=\"14.00\">E</text>\n",
       "</g>\n",
       "<!-- B&#45;&gt;E -->\n",
       "<g id=\"edge4\" class=\"edge\">\n",
       "<title>B&#45;&gt;E</title>\n",
       "<path fill=\"none\" stroke=\"black\" d=\"M142.05,-64.62C150.97,-61.88 161.29,-58.72 170.99,-55.74\"/>\n",
       "<polygon fill=\"black\" stroke=\"black\" points=\"172,-59.09 180.54,-52.81 169.95,-52.4 172,-59.09\"/>\n",
       "</g>\n",
       "<!-- D -->\n",
       "<g id=\"node4\" class=\"node\">\n",
       "<title>D</title>\n",
       "<ellipse fill=\"none\" stroke=\"black\" cx=\"27\" cy=\"-126\" rx=\"27\" ry=\"18\"/>\n",
       "<text text-anchor=\"middle\" x=\"27\" y=\"-120.95\" font-family=\"Times,serif\" font-size=\"14.00\">D</text>\n",
       "</g>\n",
       "<!-- D&#45;&gt;A -->\n",
       "<g id=\"edge3\" class=\"edge\">\n",
       "<title>D&#45;&gt;A</title>\n",
       "<path fill=\"none\" stroke=\"black\" d=\"M54.4,-126C61.89,-126 70.18,-126 78.2,-126\"/>\n",
       "<polygon fill=\"black\" stroke=\"black\" points=\"78.1,-129.5 88.1,-126 78.1,-122.5 78.1,-129.5\"/>\n",
       "</g>\n",
       "<!-- F -->\n",
       "<g id=\"node6\" class=\"node\">\n",
       "<title>F</title>\n",
       "<ellipse fill=\"none\" stroke=\"black\" cx=\"117\" cy=\"-18\" rx=\"27\" ry=\"18\"/>\n",
       "<text text-anchor=\"middle\" x=\"117\" y=\"-12.95\" font-family=\"Times,serif\" font-size=\"14.00\">F</text>\n",
       "</g>\n",
       "<!-- F&#45;&gt;E -->\n",
       "<g id=\"edge5\" class=\"edge\">\n",
       "<title>F&#45;&gt;E</title>\n",
       "<path fill=\"none\" stroke=\"black\" d=\"M142.05,-25.38C150.97,-28.12 161.29,-31.28 170.99,-34.26\"/>\n",
       "<polygon fill=\"black\" stroke=\"black\" points=\"169.95,-37.6 180.54,-37.19 172,-30.91 169.95,-37.6\"/>\n",
       "</g>\n",
       "</g>\n",
       "</svg>\n"
      ],
      "text/plain": [
       "<graphviz.graphs.Digraph at 0x17ec1a610>"
      ]
     },
     "execution_count": 15,
     "metadata": {},
     "output_type": "execute_result"
    }
   ],
   "source": [
    "g = gr.Digraph(graph_attr={\"rankdir\": \"LR\"})\n",
    "g.edge(\"C\", \"A\")\n",
    "g.edge(\"C\", \"B\")\n",
    "g.edge(\"D\", \"A\")\n",
    "g.edge(\"B\", \"E\")\n",
    "g.edge(\"F\", \"E\")\n",
    "g.edge(\"A\", \"G\")\n",
    "\n",
    "g"
   ]
  },
  {
   "cell_type": "code",
   "execution_count": 16,
   "metadata": {
    "ExecuteTime": {
     "end_time": "2023-06-25T15:09:31.066650Z",
     "start_time": "2023-06-25T15:09:30.954496Z"
    }
   },
   "outputs": [],
   "source": [
    "import networkx as nx\n",
    "\n",
    "model = nx.DiGraph([\n",
    "    (\"C\", \"A\"),\n",
    "    (\"C\", \"B\"),\n",
    "    (\"D\", \"A\"),\n",
    "    (\"B\", \"E\"),\n",
    "    (\"F\", \"E\"),\n",
    "    (\"A\", \"G\"),\n",
    "])\n"
   ]
  },
  {
   "cell_type": "code",
   "execution_count": 46,
   "metadata": {
    "ExecuteTime": {
     "end_time": "2023-06-25T15:09:31.073162Z",
     "start_time": "2023-06-25T15:09:31.068365Z"
    }
   },
   "outputs": [
    {
     "name": "stdout",
     "output_type": "stream",
     "text": [
      "Are D and C dependent?\n",
      "False\n",
      "Are D and C dependent given A?\n",
      "True\n",
      "Are D and C dependent given G?\n",
      "True\n"
     ]
    }
   ],
   "source": [
    "print(\"Are D and C dependent?\")\n",
    "print(not(nx.d_separated(model, {\"D\"}, {\"C\"}, {})))\n",
    "\n",
    "print(\"Are D and C dependent given A?\")\n",
    "print(not(nx.d_separated(model, {\"D\"}, {\"C\"}, {\"A\"})))\n",
    "\n",
    "print(\"Are D and C dependent given G?\")\n",
    "print(not(nx.d_separated(model, {\"D\"}, {\"C\"}, {\"G\"})))"
   ]
  },
  {
   "cell_type": "code",
   "execution_count": 48,
   "metadata": {
    "ExecuteTime": {
     "end_time": "2023-06-25T15:09:31.077511Z",
     "start_time": "2023-06-25T15:09:31.074704Z"
    }
   },
   "outputs": [
    {
     "name": "stdout",
     "output_type": "stream",
     "text": [
      "Are G and D dependent?\n",
      "True\n",
      "Are G and D dependent given A?\n",
      "False\n"
     ]
    }
   ],
   "source": [
    "print(\"Are G and D dependent?\")\n",
    "print(not(nx.d_separated(model, {\"G\"}, {\"D\"}, {})))\n",
    "\n",
    "print(\"Are G and D dependent given A?\")\n",
    "print(not(nx.d_separated(model, {\"G\"}, {\"D\"}, {\"A\"})))"
   ]
  },
  {
   "cell_type": "code",
   "execution_count": 49,
   "metadata": {
    "ExecuteTime": {
     "end_time": "2023-06-25T15:09:31.082324Z",
     "start_time": "2023-06-25T15:09:31.079124Z"
    }
   },
   "outputs": [
    {
     "name": "stdout",
     "output_type": "stream",
     "text": [
      "Are A and B dependent?\n",
      "True\n",
      "Are A and B dependent given C?\n",
      "False\n"
     ]
    }
   ],
   "source": [
    "print(\"Are A and B dependent?\")\n",
    "print(not(nx.d_separated(model, {\"A\"}, {\"B\"}, {})))\n",
    "\n",
    "print(\"Are A and B dependent given C?\")\n",
    "print(not(nx.d_separated(model, {\"A\"}, {\"B\"}, {\"C\"})))"
   ]
  },
  {
   "cell_type": "code",
   "execution_count": 50,
   "metadata": {
    "ExecuteTime": {
     "end_time": "2023-06-25T15:09:31.087167Z",
     "start_time": "2023-06-25T15:09:31.083938Z"
    }
   },
   "outputs": [
    {
     "name": "stdout",
     "output_type": "stream",
     "text": [
      "Are G and F dependent?\n",
      "False\n",
      "Are G and F dependent given E?\n",
      "True\n"
     ]
    }
   ],
   "source": [
    "print(\"Are G and F dependent?\")\n",
    "print(not(nx.d_separated(model, {\"G\"}, {\"F\"}, {})))\n",
    "\n",
    "print(\"Are G and F dependent given E?\")\n",
    "print(not(nx.d_separated(model, {\"G\"}, {\"F\"}, {\"E\"})))"
   ]
  },
  {
   "cell_type": "markdown",
   "metadata": {},
   "source": [
    "\n",
    " \n",
    "## Identification Revisited\n"
   ]
  },
  {
   "cell_type": "code",
   "execution_count": 51,
   "metadata": {
    "ExecuteTime": {
     "end_time": "2023-06-25T15:09:31.290464Z",
     "start_time": "2023-06-25T15:09:31.088696Z"
    },
    "tags": [
     "hide-input"
    ]
   },
   "outputs": [
    {
     "data": {
      "image/svg+xml": [
       "<?xml version=\"1.0\" encoding=\"UTF-8\" standalone=\"no\"?>\n",
       "<!DOCTYPE svg PUBLIC \"-//W3C//DTD SVG 1.1//EN\"\n",
       " \"http://www.w3.org/Graphics/SVG/1.1/DTD/svg11.dtd\">\n",
       "<!-- Generated by graphviz version 10.0.1 (20240210.2158)\n",
       " -->\n",
       "<!-- Pages: 1 -->\n",
       "<svg width=\"334pt\" height=\"98pt\"\n",
       " viewBox=\"0.00 0.00 334.37 98.00\" xmlns=\"http://www.w3.org/2000/svg\" xmlns:xlink=\"http://www.w3.org/1999/xlink\">\n",
       "<g id=\"graph0\" class=\"graph\" transform=\"scale(1 1) rotate(0) translate(4 94)\">\n",
       "<polygon fill=\"white\" stroke=\"none\" points=\"-4,4 -4,-94 330.37,-94 330.37,4 -4,4\"/>\n",
       "<!-- profits_prev_6m -->\n",
       "<g id=\"node1\" class=\"node\">\n",
       "<title>profits_prev_6m</title>\n",
       "<ellipse fill=\"none\" stroke=\"black\" cx=\"72.85\" cy=\"-45\" rx=\"72.85\" ry=\"18\"/>\n",
       "<text text-anchor=\"middle\" x=\"72.85\" y=\"-39.95\" font-family=\"Times,serif\" font-size=\"14.00\">profits_prev_6m</text>\n",
       "</g>\n",
       "<!-- profits_next_6m -->\n",
       "<g id=\"node2\" class=\"node\">\n",
       "<title>profits_next_6m</title>\n",
       "<ellipse fill=\"none\" stroke=\"black\" cx=\"254.03\" cy=\"-72\" rx=\"72.34\" ry=\"18\"/>\n",
       "<text text-anchor=\"middle\" x=\"254.03\" y=\"-66.95\" font-family=\"Times,serif\" font-size=\"14.00\">profits_next_6m</text>\n",
       "</g>\n",
       "<!-- profits_prev_6m&#45;&gt;profits_next_6m -->\n",
       "<g id=\"edge1\" class=\"edge\">\n",
       "<title>profits_prev_6m&#45;&gt;profits_next_6m</title>\n",
       "<path fill=\"none\" stroke=\"black\" d=\"M136.01,-54.37C150.27,-56.52 165.55,-58.82 180.21,-61.03\"/>\n",
       "<polygon fill=\"black\" stroke=\"black\" points=\"179.37,-64.44 189.78,-62.47 180.41,-57.52 179.37,-64.44\"/>\n",
       "</g>\n",
       "<!-- consultancy -->\n",
       "<g id=\"node3\" class=\"node\">\n",
       "<title>consultancy</title>\n",
       "<ellipse fill=\"none\" stroke=\"black\" cx=\"254.03\" cy=\"-18\" rx=\"54.93\" ry=\"18\"/>\n",
       "<text text-anchor=\"middle\" x=\"254.03\" y=\"-12.95\" font-family=\"Times,serif\" font-size=\"14.00\">consultancy</text>\n",
       "</g>\n",
       "<!-- profits_prev_6m&#45;&gt;consultancy -->\n",
       "<g id=\"edge2\" class=\"edge\">\n",
       "<title>profits_prev_6m&#45;&gt;consultancy</title>\n",
       "<path fill=\"none\" stroke=\"black\" d=\"M136.01,-35.63C154.18,-32.9 174,-29.91 192.09,-27.18\"/>\n",
       "<polygon fill=\"black\" stroke=\"black\" points=\"192.52,-30.66 201.89,-25.71 191.48,-23.74 192.52,-30.66\"/>\n",
       "</g>\n",
       "</g>\n",
       "</svg>\n"
      ],
      "text/plain": [
       "<graphviz.graphs.Digraph at 0x17ed696d0>"
      ]
     },
     "execution_count": 51,
     "metadata": {},
     "output_type": "execute_result"
    }
   ],
   "source": [
    "consultancy_sev = gr.Digraph(graph_attr={\"rankdir\": \"LR\"})\n",
    "consultancy_sev.edge(\"profits_prev_6m\", \"profits_next_6m\")\n",
    "consultancy_sev.edge(\"profits_prev_6m\", \"consultancy\")\n",
    "\n",
    "consultancy_sev"
   ]
  },
  {
   "cell_type": "code",
   "execution_count": 52,
   "metadata": {
    "ExecuteTime": {
     "end_time": "2023-06-25T15:09:31.297704Z",
     "start_time": "2023-06-25T15:09:31.292738Z"
    }
   },
   "outputs": [
    {
     "data": {
      "text/plain": [
       "True"
      ]
     },
     "execution_count": 52,
     "metadata": {},
     "output_type": "execute_result"
    }
   ],
   "source": [
    "consultancy_model_severed = nx.DiGraph([\n",
    "    (\"profits_prev_6m\", \"profits_next_6m\"),\n",
    "    (\"profits_prev_6m\", \"consultancy\"),\n",
    "#     (\"consultancy\", \"profits_next_6m\"), # causal relationship removed\n",
    "])\n",
    "\n",
    "not(nx.d_separated(consultancy_model_severed,\n",
    "                   {\"consultancy\"}, {\"profits_next_6m\"}, {}))"
   ]
  },
  {
   "cell_type": "code",
   "execution_count": 53,
   "metadata": {
    "ExecuteTime": {
     "end_time": "2023-06-25T15:09:31.505182Z",
     "start_time": "2023-06-25T15:09:31.299411Z"
    },
    "tags": [
     "hide-input"
    ]
   },
   "outputs": [
    {
     "data": {
      "image/svg+xml": [
       "<?xml version=\"1.0\" encoding=\"UTF-8\" standalone=\"no\"?>\n",
       "<!DOCTYPE svg PUBLIC \"-//W3C//DTD SVG 1.1//EN\"\n",
       " \"http://www.w3.org/Graphics/SVG/1.1/DTD/svg11.dtd\">\n",
       "<!-- Generated by graphviz version 10.0.1 (20240210.2158)\n",
       " -->\n",
       "<!-- Pages: 1 -->\n",
       "<svg width=\"480pt\" height=\"67pt\"\n",
       " viewBox=\"0.00 0.00 480.23 67.00\" xmlns=\"http://www.w3.org/2000/svg\" xmlns:xlink=\"http://www.w3.org/1999/xlink\">\n",
       "<g id=\"graph0\" class=\"graph\" transform=\"scale(1 1) rotate(0) translate(4 63)\">\n",
       "<polygon fill=\"white\" stroke=\"none\" points=\"-4,4 -4,-63 476.23,-63 476.23,4 -4,4\"/>\n",
       "<!-- profits_prev_6m -->\n",
       "<g id=\"node1\" class=\"node\">\n",
       "<title>profits_prev_6m</title>\n",
       "<ellipse fill=\"lightgrey\" stroke=\"lightgrey\" cx=\"72.85\" cy=\"-41\" rx=\"72.85\" ry=\"18\"/>\n",
       "<text text-anchor=\"middle\" x=\"72.85\" y=\"-35.95\" font-family=\"Times,serif\" font-size=\"14.00\">profits_prev_6m</text>\n",
       "</g>\n",
       "<!-- profits_next_6m -->\n",
       "<g id=\"node2\" class=\"node\">\n",
       "<title>profits_next_6m</title>\n",
       "<ellipse fill=\"none\" stroke=\"black\" cx=\"399.9\" cy=\"-41\" rx=\"72.34\" ry=\"18\"/>\n",
       "<text text-anchor=\"middle\" x=\"399.9\" y=\"-35.95\" font-family=\"Times,serif\" font-size=\"14.00\">profits_next_6m</text>\n",
       "</g>\n",
       "<!-- profits_prev_6m&#45;&gt;profits_next_6m -->\n",
       "<g id=\"edge1\" class=\"edge\">\n",
       "<title>profits_prev_6m&#45;&gt;profits_next_6m</title>\n",
       "<path fill=\"none\" stroke=\"black\" d=\"M145.19,-44.02C157.37,-44.43 169.89,-44.78 181.69,-45 230.52,-45.91 242.74,-45.91 291.56,-45 299.79,-44.85 308.38,-44.63 316.95,-44.37\"/>\n",
       "<polygon fill=\"black\" stroke=\"black\" points=\"316.79,-47.88 326.67,-44.06 316.56,-40.88 316.79,-47.88\"/>\n",
       "</g>\n",
       "<!-- consultancy -->\n",
       "<g id=\"node3\" class=\"node\">\n",
       "<title>consultancy</title>\n",
       "<ellipse fill=\"none\" stroke=\"black\" cx=\"236.63\" cy=\"-18\" rx=\"54.93\" ry=\"18\"/>\n",
       "<text text-anchor=\"middle\" x=\"236.63\" y=\"-12.95\" font-family=\"Times,serif\" font-size=\"14.00\">consultancy</text>\n",
       "</g>\n",
       "<!-- profits_prev_6m&#45;&gt;consultancy -->\n",
       "<g id=\"edge2\" class=\"edge\">\n",
       "<title>profits_prev_6m&#45;&gt;consultancy</title>\n",
       "<path fill=\"none\" stroke=\"black\" d=\"M136.86,-32.04C149.22,-30.28 162.17,-28.44 174.47,-26.69\"/>\n",
       "<polygon fill=\"black\" stroke=\"black\" points=\"174.65,-30.21 184.05,-25.33 173.66,-23.27 174.65,-30.21\"/>\n",
       "</g>\n",
       "<!-- consultancy&#45;&gt;profits_next_6m -->\n",
       "<g id=\"edge3\" class=\"edge\">\n",
       "<title>consultancy&#45;&gt;profits_next_6m</title>\n",
       "<path fill=\"none\" stroke=\"black\" d=\"M287.33,-25.09C299.28,-26.79 312.31,-28.65 325.1,-30.47\"/>\n",
       "<polygon fill=\"black\" stroke=\"black\" points=\"324.36,-33.9 334.75,-31.85 325.34,-26.97 324.36,-33.9\"/>\n",
       "</g>\n",
       "</g>\n",
       "</svg>\n"
      ],
      "text/plain": [
       "<graphviz.graphs.Digraph at 0x17ed36ed0>"
      ]
     },
     "execution_count": 53,
     "metadata": {},
     "output_type": "execute_result"
    }
   ],
   "source": [
    "g_consultancy = gr.Digraph(graph_attr={\"rankdir\":\"LR\"})\n",
    "g_consultancy.edge(\"profits_prev_6m\", \"profits_next_6m\")\n",
    "g_consultancy.edge(\"profits_prev_6m\", \"consultancy\")\n",
    "g_consultancy.edge(\"consultancy\", \"profits_next_6m\")\n",
    "g_consultancy.node(\"profits_prev_6m\", color=\"lightgrey\", style=\"filled\")\n",
    "\n",
    "g_consultancy"
   ]
  },
  {
   "cell_type": "markdown",
   "metadata": {},
   "source": [
    "## CIA and The Adjustment Formula\n",
    " \n",
    "## Positivity Assumption\n"
   ]
  },
  {
   "cell_type": "markdown",
   "metadata": {},
   "source": [
    "## An Identification Example with Data\n"
   ]
  },
  {
   "cell_type": "code",
   "execution_count": 54,
   "metadata": {
    "ExecuteTime": {
     "end_time": "2023-06-25T15:09:31.518818Z",
     "start_time": "2023-06-25T15:09:31.507110Z"
    }
   },
   "outputs": [
    {
     "data": {
      "text/html": [
       "<div>\n",
       "<style scoped>\n",
       "    .dataframe tbody tr th:only-of-type {\n",
       "        vertical-align: middle;\n",
       "    }\n",
       "\n",
       "    .dataframe tbody tr th {\n",
       "        vertical-align: top;\n",
       "    }\n",
       "\n",
       "    .dataframe thead th {\n",
       "        text-align: right;\n",
       "    }\n",
       "</style>\n",
       "<table border=\"1\" class=\"dataframe\">\n",
       "  <thead>\n",
       "    <tr style=\"text-align: right;\">\n",
       "      <th></th>\n",
       "      <th>profits_prev_6m</th>\n",
       "      <th>consultancy</th>\n",
       "      <th>profits_next_6m</th>\n",
       "    </tr>\n",
       "  </thead>\n",
       "  <tbody>\n",
       "    <tr>\n",
       "      <th>0</th>\n",
       "      <td>1.0</td>\n",
       "      <td>0</td>\n",
       "      <td>1.0</td>\n",
       "    </tr>\n",
       "    <tr>\n",
       "      <th>1</th>\n",
       "      <td>1.0</td>\n",
       "      <td>0</td>\n",
       "      <td>1.1</td>\n",
       "    </tr>\n",
       "    <tr>\n",
       "      <th>2</th>\n",
       "      <td>1.0</td>\n",
       "      <td>1</td>\n",
       "      <td>1.2</td>\n",
       "    </tr>\n",
       "    <tr>\n",
       "      <th>3</th>\n",
       "      <td>5.0</td>\n",
       "      <td>0</td>\n",
       "      <td>5.5</td>\n",
       "    </tr>\n",
       "    <tr>\n",
       "      <th>4</th>\n",
       "      <td>5.0</td>\n",
       "      <td>1</td>\n",
       "      <td>5.7</td>\n",
       "    </tr>\n",
       "    <tr>\n",
       "      <th>5</th>\n",
       "      <td>5.0</td>\n",
       "      <td>1</td>\n",
       "      <td>5.7</td>\n",
       "    </tr>\n",
       "  </tbody>\n",
       "</table>\n",
       "</div>"
      ],
      "text/plain": [
       "   profits_prev_6m  consultancy  profits_next_6m\n",
       "0              1.0            0              1.0\n",
       "1              1.0            0              1.1\n",
       "2              1.0            1              1.2\n",
       "3              5.0            0              5.5\n",
       "4              5.0            1              5.7\n",
       "5              5.0            1              5.7"
      ]
     },
     "execution_count": 54,
     "metadata": {},
     "output_type": "execute_result"
    }
   ],
   "source": [
    "df = pd.DataFrame(dict(\n",
    "    profits_prev_6m=[1.0, 1.0, 1.0, 5.0, 5.0, 5.0],\n",
    "    consultancy=[0, 0, 1, 0, 1, 1],\n",
    "    profits_next_6m=[1, 1.1, 1.2, 5.5, 5.7, 5.7],\n",
    "))\n",
    "\n",
    "df"
   ]
  },
  {
   "cell_type": "code",
   "execution_count": 55,
   "metadata": {
    "ExecuteTime": {
     "end_time": "2023-06-25T15:09:31.528085Z",
     "start_time": "2023-06-25T15:09:31.520733Z"
    }
   },
   "outputs": [
    {
     "data": {
      "text/plain": [
       "1.666666666666667"
      ]
     },
     "execution_count": 55,
     "metadata": {},
     "output_type": "execute_result"
    }
   ],
   "source": [
    "(df.query(\"consultancy==1\")[\"profits_next_6m\"].mean() \n",
    " - df.query(\"consultancy==0\")[\"profits_next_6m\"].mean())"
   ]
  },
  {
   "cell_type": "code",
   "execution_count": 56,
   "metadata": {
    "ExecuteTime": {
     "end_time": "2023-06-25T15:09:31.538760Z",
     "start_time": "2023-06-25T15:09:31.529677Z"
    }
   },
   "outputs": [
    {
     "data": {
      "text/plain": [
       "profits_prev_6m\n",
       "1.0    0.15\n",
       "5.0    0.20\n",
       "Name: profits_next_6m, dtype: float64"
      ]
     },
     "execution_count": 56,
     "metadata": {},
     "output_type": "execute_result"
    }
   ],
   "source": [
    "avg_df = (df\n",
    "          .groupby([\"consultancy\", \"profits_prev_6m\"])\n",
    "          [\"profits_next_6m\"]\n",
    "          .mean())\n",
    "\n",
    "avg_df.loc[1] - avg_df.loc[0] "
   ]
  },
  {
   "cell_type": "code",
   "execution_count": 57,
   "metadata": {},
   "outputs": [
    {
     "data": {
      "text/plain": [
       "consultancy  profits_prev_6m\n",
       "0            1.0                1.05\n",
       "             5.0                5.50\n",
       "1            1.0                1.20\n",
       "             5.0                5.70\n",
       "Name: profits_next_6m, dtype: float64"
      ]
     },
     "execution_count": 57,
     "metadata": {},
     "output_type": "execute_result"
    }
   ],
   "source": [
    "avg_df"
   ]
  },
  {
   "cell_type": "code",
   "execution_count": 58,
   "metadata": {
    "ExecuteTime": {
     "end_time": "2023-06-25T15:09:31.745712Z",
     "start_time": "2023-06-25T15:09:31.540150Z"
    },
    "tags": [
     "hide-input"
    ]
   },
   "outputs": [
    {
     "data": {
      "image/svg+xml": [
       "<?xml version=\"1.0\" encoding=\"UTF-8\" standalone=\"no\"?>\n",
       "<!DOCTYPE svg PUBLIC \"-//W3C//DTD SVG 1.1//EN\"\n",
       " \"http://www.w3.org/Graphics/SVG/1.1/DTD/svg11.dtd\">\n",
       "<!-- Generated by graphviz version 10.0.1 (20240210.2158)\n",
       " -->\n",
       "<!-- Pages: 1 -->\n",
       "<svg width=\"332pt\" height=\"67pt\"\n",
       " viewBox=\"0.00 0.00 332.00 67.00\" xmlns=\"http://www.w3.org/2000/svg\" xmlns:xlink=\"http://www.w3.org/1999/xlink\">\n",
       "<g id=\"graph0\" class=\"graph\" transform=\"scale(1 1) rotate(0) translate(4 63)\">\n",
       "<polygon fill=\"white\" stroke=\"none\" points=\"-4,4 -4,-63 328,-63 328,4 -4,4\"/>\n",
       "<!-- U -->\n",
       "<g id=\"node1\" class=\"node\">\n",
       "<title>U</title>\n",
       "<ellipse fill=\"none\" stroke=\"black\" cx=\"27\" cy=\"-18\" rx=\"27\" ry=\"18\"/>\n",
       "<text text-anchor=\"middle\" x=\"27\" y=\"-12.95\" font-family=\"Times,serif\" font-size=\"14.00\">U</text>\n",
       "</g>\n",
       "<!-- T -->\n",
       "<g id=\"node2\" class=\"node\">\n",
       "<title>T</title>\n",
       "<ellipse fill=\"none\" stroke=\"black\" cx=\"117\" cy=\"-41\" rx=\"27\" ry=\"18\"/>\n",
       "<text text-anchor=\"middle\" x=\"117\" y=\"-35.95\" font-family=\"Times,serif\" font-size=\"14.00\">T</text>\n",
       "</g>\n",
       "<!-- U&#45;&gt;T -->\n",
       "<g id=\"edge1\" class=\"edge\">\n",
       "<title>U&#45;&gt;T</title>\n",
       "<path fill=\"none\" stroke=\"black\" d=\"M52.51,-24.41C61.12,-26.66 70.97,-29.23 80.3,-31.67\"/>\n",
       "<polygon fill=\"black\" stroke=\"black\" points=\"79.29,-35.02 89.85,-34.17 81.06,-28.25 79.29,-35.02\"/>\n",
       "</g>\n",
       "<!-- Y -->\n",
       "<g id=\"node3\" class=\"node\">\n",
       "<title>Y</title>\n",
       "<ellipse fill=\"none\" stroke=\"black\" cx=\"297\" cy=\"-18\" rx=\"27\" ry=\"18\"/>\n",
       "<text text-anchor=\"middle\" x=\"297\" y=\"-12.95\" font-family=\"Times,serif\" font-size=\"14.00\">Y</text>\n",
       "</g>\n",
       "<!-- U&#45;&gt;Y -->\n",
       "<g id=\"edge2\" class=\"edge\">\n",
       "<title>U&#45;&gt;Y</title>\n",
       "<path fill=\"none\" stroke=\"black\" d=\"M54.23,-15.93C65.26,-15.16 78.25,-14.38 90,-14 153.97,-11.94 170.03,-11.94 234,-14 241.9,-14.25 250.35,-14.69 258.39,-15.18\"/>\n",
       "<polygon fill=\"black\" stroke=\"black\" points=\"258.05,-18.67 268.26,-15.83 258.51,-11.68 258.05,-18.67\"/>\n",
       "</g>\n",
       "<!-- M -->\n",
       "<g id=\"node4\" class=\"node\">\n",
       "<title>M</title>\n",
       "<ellipse fill=\"none\" stroke=\"black\" cx=\"207\" cy=\"-41\" rx=\"27\" ry=\"18\"/>\n",
       "<text text-anchor=\"middle\" x=\"207\" y=\"-35.95\" font-family=\"Times,serif\" font-size=\"14.00\">M</text>\n",
       "</g>\n",
       "<!-- T&#45;&gt;M -->\n",
       "<g id=\"edge3\" class=\"edge\">\n",
       "<title>T&#45;&gt;M</title>\n",
       "<path fill=\"none\" stroke=\"black\" d=\"M144.4,-41C151.89,-41 160.18,-41 168.2,-41\"/>\n",
       "<polygon fill=\"black\" stroke=\"black\" points=\"168.1,-44.5 178.1,-41 168.1,-37.5 168.1,-44.5\"/>\n",
       "</g>\n",
       "<!-- M&#45;&gt;Y -->\n",
       "<g id=\"edge4\" class=\"edge\">\n",
       "<title>M&#45;&gt;Y</title>\n",
       "<path fill=\"none\" stroke=\"black\" d=\"M232.51,-34.59C241.12,-32.34 250.97,-29.77 260.3,-27.33\"/>\n",
       "<polygon fill=\"black\" stroke=\"black\" points=\"261.06,-30.75 269.85,-24.83 259.29,-23.98 261.06,-30.75\"/>\n",
       "</g>\n",
       "</g>\n",
       "</svg>\n"
      ],
      "text/plain": [
       "<graphviz.graphs.Digraph at 0x17ed6aad0>"
      ]
     },
     "execution_count": 58,
     "metadata": {},
     "output_type": "execute_result"
    }
   ],
   "source": [
    "g = gr.Digraph(graph_attr={\"rankdir\":\"LR\"})\n",
    "g.edge(\"U\", \"T\")\n",
    "g.edge(\"U\", \"Y\")\n",
    "g.edge(\"T\", \"M\")\n",
    "g.edge(\"M\", \"Y\")\n",
    "\n",
    "g"
   ]
  },
  {
   "cell_type": "markdown",
   "metadata": {},
   "source": [
    "## Confounding Bias\n",
    " \n",
    "The first significant cause of bias is confounding. It's the bias we've been discussing so far. Now, we are just putting a name to it. **Confounding happens when there is an open backdoor path through which association flows non-causally, usually because the treatment and the outcome share a common cause**. For example, let's say that you work in HR and you want to know if your new management training program is increasing employers' engagement. However, since the training is optional, you believe only managers that are already doing great attend the program and those who need it the most, don't. When you measure engagement of the teams under the managers that took the training, it is much higher than that of the teams under the managers who didn't attend the training. But it's hard to know how much of this is causal. Since there is a common cause between treatment and outcome (the training and being a good manager, respectively) they would move together regardless of a causal effect. \n",
    " \n",
    "To identify that causal effect, you need to close all backdoor paths between the treatment and the outcome. If you do so, the only effect that will be left is the direct effect $T \\to Y$. In our example, you could somehow control for the manager's quality prior to taking the training. In that situation, the difference in the outcome will be only due to the training, since manager quality prior to the training would be held constant between treatment and control. Simply put, **to adjust for confounding bias, you need to adjust for the common causes of the treatment and the outcome**."
   ]
  },
  {
   "cell_type": "code",
   "execution_count": 59,
   "metadata": {
    "ExecuteTime": {
     "end_time": "2023-06-25T15:09:31.958504Z",
     "start_time": "2023-06-25T15:09:31.756409Z"
    },
    "tags": [
     "hide-input"
    ]
   },
   "outputs": [
    {
     "data": {
      "image/svg+xml": [
       "<?xml version=\"1.0\" encoding=\"UTF-8\" standalone=\"no\"?>\n",
       "<!DOCTYPE svg PUBLIC \"-//W3C//DTD SVG 1.1//EN\"\n",
       " \"http://www.w3.org/Graphics/SVG/1.1/DTD/svg11.dtd\">\n",
       "<!-- Generated by graphviz version 10.0.1 (20240210.2158)\n",
       " -->\n",
       "<!-- Pages: 1 -->\n",
       "<svg width=\"429pt\" height=\"166pt\"\n",
       " viewBox=\"0.00 0.00 429.05 166.00\" xmlns=\"http://www.w3.org/2000/svg\" xmlns:xlink=\"http://www.w3.org/1999/xlink\">\n",
       "<g id=\"graph0\" class=\"graph\" transform=\"scale(1 1) rotate(0) translate(4 162)\">\n",
       "<polygon fill=\"white\" stroke=\"none\" points=\"-4,4 -4,-162 425.05,-162 425.05,4 -4,4\"/>\n",
       "<!-- X -->\n",
       "<g id=\"node1\" class=\"node\">\n",
       "<title>X</title>\n",
       "<ellipse fill=\"none\" stroke=\"black\" cx=\"74.38\" cy=\"-34\" rx=\"27\" ry=\"18\"/>\n",
       "<text text-anchor=\"middle\" x=\"74.38\" y=\"-28.95\" font-family=\"Times,serif\" font-size=\"14.00\">X</text>\n",
       "</g>\n",
       "<!-- T -->\n",
       "<g id=\"node2\" class=\"node\">\n",
       "<title>T</title>\n",
       "<ellipse fill=\"none\" stroke=\"black\" cx=\"227.42\" cy=\"-41\" rx=\"27\" ry=\"18\"/>\n",
       "<text text-anchor=\"middle\" x=\"227.42\" y=\"-35.95\" font-family=\"Times,serif\" font-size=\"14.00\">T</text>\n",
       "</g>\n",
       "<!-- X&#45;&gt;T -->\n",
       "<g id=\"edge1\" class=\"edge\">\n",
       "<title>X&#45;&gt;T</title>\n",
       "<path fill=\"none\" stroke=\"black\" d=\"M101.69,-35.22C125.76,-36.34 161.66,-38 188.77,-39.25\"/>\n",
       "<polygon fill=\"black\" stroke=\"black\" points=\"188.49,-42.75 198.64,-39.71 188.82,-35.75 188.49,-42.75\"/>\n",
       "</g>\n",
       "<!-- Y -->\n",
       "<g id=\"node3\" class=\"node\">\n",
       "<title>Y</title>\n",
       "<ellipse fill=\"none\" stroke=\"black\" cx=\"363.56\" cy=\"-18\" rx=\"27\" ry=\"18\"/>\n",
       "<text text-anchor=\"middle\" x=\"363.56\" y=\"-12.95\" font-family=\"Times,serif\" font-size=\"14.00\">Y</text>\n",
       "</g>\n",
       "<!-- X&#45;&gt;Y -->\n",
       "<g id=\"edge2\" class=\"edge\">\n",
       "<title>X&#45;&gt;Y</title>\n",
       "<path fill=\"none\" stroke=\"black\" d=\"M100.4,-28.09C122.46,-23.2 155.54,-16.65 184.77,-14 222.52,-10.58 232.16,-13.18 270.07,-14 288.21,-14.39 308.35,-15.22 325.19,-16.02\"/>\n",
       "<polygon fill=\"black\" stroke=\"black\" points=\"324.59,-19.49 334.75,-16.49 324.93,-12.5 324.59,-19.49\"/>\n",
       "</g>\n",
       "<!-- T&#45;&gt;Y -->\n",
       "<g id=\"edge3\" class=\"edge\">\n",
       "<title>T&#45;&gt;Y</title>\n",
       "<path fill=\"none\" stroke=\"black\" d=\"M253.96,-36.62C274.29,-33.13 303,-28.21 325.8,-24.3\"/>\n",
       "<polygon fill=\"black\" stroke=\"black\" points=\"326.35,-27.76 335.62,-22.62 325.17,-20.86 326.35,-27.76\"/>\n",
       "</g>\n",
       "<!-- Manager Quality -->\n",
       "<g id=\"node4\" class=\"node\">\n",
       "<title>Manager Quality</title>\n",
       "<ellipse fill=\"none\" stroke=\"black\" cx=\"74.38\" cy=\"-107\" rx=\"74.38\" ry=\"18\"/>\n",
       "<text text-anchor=\"middle\" x=\"74.38\" y=\"-101.95\" font-family=\"Times,serif\" font-size=\"14.00\">Manager Quality</text>\n",
       "</g>\n",
       "<!-- Training -->\n",
       "<g id=\"node5\" class=\"node\">\n",
       "<title>Training</title>\n",
       "<ellipse fill=\"none\" stroke=\"black\" cx=\"227.42\" cy=\"-140\" rx=\"42.65\" ry=\"18\"/>\n",
       "<text text-anchor=\"middle\" x=\"227.42\" y=\"-134.95\" font-family=\"Times,serif\" font-size=\"14.00\">Training</text>\n",
       "</g>\n",
       "<!-- Manager Quality&#45;&gt;Training -->\n",
       "<g id=\"edge4\" class=\"edge\">\n",
       "<title>Manager Quality&#45;&gt;Training</title>\n",
       "<path fill=\"none\" stroke=\"black\" d=\"M130.76,-119.1C146.19,-122.47 162.83,-126.11 177.84,-129.39\"/>\n",
       "<polygon fill=\"black\" stroke=\"black\" points=\"176.96,-132.78 187.47,-131.49 178.45,-125.94 176.96,-132.78\"/>\n",
       "</g>\n",
       "<!-- Engagement -->\n",
       "<g id=\"node6\" class=\"node\">\n",
       "<title>Engagement</title>\n",
       "<ellipse fill=\"none\" stroke=\"black\" cx=\"363.56\" cy=\"-117\" rx=\"57.49\" ry=\"18\"/>\n",
       "<text text-anchor=\"middle\" x=\"363.56\" y=\"-111.95\" font-family=\"Times,serif\" font-size=\"14.00\">Engagement</text>\n",
       "</g>\n",
       "<!-- Manager Quality&#45;&gt;Engagement -->\n",
       "<g id=\"edge5\" class=\"edge\">\n",
       "<title>Manager Quality&#45;&gt;Engagement</title>\n",
       "<path fill=\"none\" stroke=\"black\" d=\"M148.42,-109.04C184.96,-110.11 229.85,-111.51 270.07,-113 278.13,-113.3 286.58,-113.63 294.97,-113.98\"/>\n",
       "<polygon fill=\"black\" stroke=\"black\" points=\"294.67,-117.47 304.8,-114.39 294.96,-110.48 294.67,-117.47\"/>\n",
       "</g>\n",
       "<!-- Training&#45;&gt;Engagement -->\n",
       "<g id=\"edge6\" class=\"edge\">\n",
       "<title>Training&#45;&gt;Engagement</title>\n",
       "<path fill=\"none\" stroke=\"black\" d=\"M267.58,-133.29C278.13,-131.48 289.81,-129.47 301.26,-127.51\"/>\n",
       "<polygon fill=\"black\" stroke=\"black\" points=\"301.83,-130.96 311.1,-125.82 300.65,-124.06 301.83,-130.96\"/>\n",
       "</g>\n",
       "</g>\n",
       "</svg>\n"
      ],
      "text/plain": [
       "<graphviz.graphs.Digraph at 0x17ed6cd50>"
      ]
     },
     "execution_count": 59,
     "metadata": {},
     "output_type": "execute_result"
    }
   ],
   "source": [
    "g = gr.Digraph(graph_attr={\"rankdir\":\"LR\"})\n",
    "g.edge(\"X\", \"T\")\n",
    "g.edge(\"X\", \"Y\")\n",
    "g.edge(\"T\", \"Y\")\n",
    "\n",
    "g.edge(\"Manager Quality\", \"Training\"),\n",
    "g.edge(\"Manager Quality\", \"Engagement\"),\n",
    "g.edge(\"Training\", \"Engagement\")\n",
    "\n",
    "g"
   ]
  },
  {
   "cell_type": "markdown",
   "metadata": {},
   "source": [
    "\n",
    "### Surrogate Confounding\n"
   ]
  },
  {
   "cell_type": "code",
   "execution_count": 60,
   "metadata": {
    "ExecuteTime": {
     "end_time": "2023-06-25T15:09:32.157902Z",
     "start_time": "2023-06-25T15:09:31.960159Z"
    },
    "tags": [
     "hide-input"
    ]
   },
   "outputs": [
    {
     "data": {
      "image/svg+xml": [
       "<?xml version=\"1.0\" encoding=\"UTF-8\" standalone=\"no\"?>\n",
       "<!DOCTYPE svg PUBLIC \"-//W3C//DTD SVG 1.1//EN\"\n",
       " \"http://www.w3.org/Graphics/SVG/1.1/DTD/svg11.dtd\">\n",
       "<!-- Generated by graphviz version 10.0.1 (20240210.2158)\n",
       " -->\n",
       "<!-- Pages: 1 -->\n",
       "<svg width=\"756pt\" height=\"260pt\"\n",
       " viewBox=\"0.00 0.00 755.77 260.00\" xmlns=\"http://www.w3.org/2000/svg\" xmlns:xlink=\"http://www.w3.org/1999/xlink\">\n",
       "<g id=\"graph0\" class=\"graph\" transform=\"scale(1 1) rotate(0) translate(4 256)\">\n",
       "<polygon fill=\"white\" stroke=\"none\" points=\"-4,4 -4,-256 751.77,-256 751.77,4 -4,4\"/>\n",
       "<!-- X1 -->\n",
       "<g id=\"node1\" class=\"node\">\n",
       "<title>X1</title>\n",
       "<ellipse fill=\"none\" stroke=\"black\" cx=\"99\" cy=\"-234\" rx=\"27\" ry=\"18\"/>\n",
       "<text text-anchor=\"middle\" x=\"99\" y=\"-228.95\" font-family=\"Times,serif\" font-size=\"14.00\">X1</text>\n",
       "</g>\n",
       "<!-- U -->\n",
       "<g id=\"node2\" class=\"node\">\n",
       "<title>U</title>\n",
       "<ellipse fill=\"none\" stroke=\"black\" cx=\"99\" cy=\"-162\" rx=\"27\" ry=\"18\"/>\n",
       "<text text-anchor=\"middle\" x=\"99\" y=\"-156.95\" font-family=\"Times,serif\" font-size=\"14.00\">U</text>\n",
       "</g>\n",
       "<!-- X1&#45;&gt;U -->\n",
       "<g id=\"edge1\" class=\"edge\">\n",
       "<title>X1&#45;&gt;U</title>\n",
       "<path fill=\"none\" stroke=\"black\" d=\"M99,-215.7C99,-208.41 99,-199.73 99,-191.54\"/>\n",
       "<polygon fill=\"black\" stroke=\"black\" points=\"102.5,-191.62 99,-181.62 95.5,-191.62 102.5,-191.62\"/>\n",
       "</g>\n",
       "<!-- X2 -->\n",
       "<g id=\"node3\" class=\"node\">\n",
       "<title>X2</title>\n",
       "<ellipse fill=\"none\" stroke=\"black\" cx=\"27\" cy=\"-90\" rx=\"27\" ry=\"18\"/>\n",
       "<text text-anchor=\"middle\" x=\"27\" y=\"-84.95\" font-family=\"Times,serif\" font-size=\"14.00\">X2</text>\n",
       "</g>\n",
       "<!-- U&#45;&gt;X2 -->\n",
       "<g id=\"edge2\" class=\"edge\">\n",
       "<title>U&#45;&gt;X2</title>\n",
       "<path fill=\"none\" stroke=\"black\" d=\"M84.08,-146.5C74.23,-136.92 61.14,-124.19 49.97,-113.34\"/>\n",
       "<polygon fill=\"black\" stroke=\"black\" points=\"52.59,-111 42.98,-106.54 47.71,-116.02 52.59,-111\"/>\n",
       "</g>\n",
       "<!-- T -->\n",
       "<g id=\"node4\" class=\"node\">\n",
       "<title>T</title>\n",
       "<ellipse fill=\"none\" stroke=\"black\" cx=\"99\" cy=\"-90\" rx=\"27\" ry=\"18\"/>\n",
       "<text text-anchor=\"middle\" x=\"99\" y=\"-84.95\" font-family=\"Times,serif\" font-size=\"14.00\">T</text>\n",
       "</g>\n",
       "<!-- U&#45;&gt;T -->\n",
       "<g id=\"edge3\" class=\"edge\">\n",
       "<title>U&#45;&gt;T</title>\n",
       "<path fill=\"none\" stroke=\"black\" d=\"M99,-143.7C99,-136.41 99,-127.73 99,-119.54\"/>\n",
       "<polygon fill=\"black\" stroke=\"black\" points=\"102.5,-119.62 99,-109.62 95.5,-119.62 102.5,-119.62\"/>\n",
       "</g>\n",
       "<!-- Y -->\n",
       "<g id=\"node5\" class=\"node\">\n",
       "<title>Y</title>\n",
       "<ellipse fill=\"none\" stroke=\"black\" cx=\"127\" cy=\"-18\" rx=\"27\" ry=\"18\"/>\n",
       "<text text-anchor=\"middle\" x=\"127\" y=\"-12.95\" font-family=\"Times,serif\" font-size=\"14.00\">Y</text>\n",
       "</g>\n",
       "<!-- U&#45;&gt;Y -->\n",
       "<g id=\"edge5\" class=\"edge\">\n",
       "<title>U&#45;&gt;Y</title>\n",
       "<path fill=\"none\" stroke=\"black\" d=\"M112.75,-146.07C120.96,-136.1 130.62,-122.25 135,-108 141.07,-88.27 138.67,-65 134.96,-47.21\"/>\n",
       "<polygon fill=\"black\" stroke=\"black\" points=\"138.4,-46.53 132.69,-37.61 131.58,-48.14 138.4,-46.53\"/>\n",
       "</g>\n",
       "<!-- T&#45;&gt;Y -->\n",
       "<g id=\"edge4\" class=\"edge\">\n",
       "<title>T&#45;&gt;Y</title>\n",
       "<path fill=\"none\" stroke=\"black\" d=\"M105.64,-72.41C108.77,-64.57 112.6,-54.99 116.15,-46.13\"/>\n",
       "<polygon fill=\"black\" stroke=\"black\" points=\"119.39,-47.46 119.85,-36.88 112.89,-44.86 119.39,-47.46\"/>\n",
       "</g>\n",
       "<!-- Manager Quality -->\n",
       "<g id=\"node6\" class=\"node\">\n",
       "<title>Manager Quality</title>\n",
       "<ellipse fill=\"none\" stroke=\"black\" cx=\"531\" cy=\"-162\" rx=\"74.38\" ry=\"18\"/>\n",
       "<text text-anchor=\"middle\" x=\"531\" y=\"-156.95\" font-family=\"Times,serif\" font-size=\"14.00\">Manager Quality</text>\n",
       "</g>\n",
       "<!-- Team&#39;s Attrition -->\n",
       "<g id=\"node7\" class=\"node\">\n",
       "<title>Team&#39;s Attrition</title>\n",
       "<ellipse fill=\"none\" stroke=\"black\" cx=\"253\" cy=\"-90\" rx=\"71.31\" ry=\"18\"/>\n",
       "<text text-anchor=\"middle\" x=\"253\" y=\"-84.95\" font-family=\"Times,serif\" font-size=\"14.00\">Team&#39;s Attrition</text>\n",
       "</g>\n",
       "<!-- Manager Quality&#45;&gt;Team&#39;s Attrition -->\n",
       "<g id=\"edge6\" class=\"edge\">\n",
       "<title>Manager Quality&#45;&gt;Team&#39;s Attrition</title>\n",
       "<path fill=\"none\" stroke=\"black\" d=\"M480.66,-148.32C433.52,-136.46 363.05,-118.71 313.02,-106.11\"/>\n",
       "<polygon fill=\"black\" stroke=\"black\" points=\"314.06,-102.76 303.5,-103.72 312.35,-109.55 314.06,-102.76\"/>\n",
       "</g>\n",
       "<!-- Team&#39;s Past Performance -->\n",
       "<g id=\"node8\" class=\"node\">\n",
       "<title>Team&#39;s Past Performance</title>\n",
       "<ellipse fill=\"none\" stroke=\"black\" cx=\"448\" cy=\"-90\" rx=\"105.6\" ry=\"18\"/>\n",
       "<text text-anchor=\"middle\" x=\"448\" y=\"-84.95\" font-family=\"Times,serif\" font-size=\"14.00\">Team&#39;s Past Performance</text>\n",
       "</g>\n",
       "<!-- Manager Quality&#45;&gt;Team&#39;s Past Performance -->\n",
       "<g id=\"edge7\" class=\"edge\">\n",
       "<title>Manager Quality&#45;&gt;Team&#39;s Past Performance</title>\n",
       "<path fill=\"none\" stroke=\"black\" d=\"M511.33,-144.41C501.04,-135.73 488.25,-124.95 476.86,-115.34\"/>\n",
       "<polygon fill=\"black\" stroke=\"black\" points=\"479.16,-112.7 469.26,-108.93 474.65,-118.05 479.16,-112.7\"/>\n",
       "</g>\n",
       "<!-- Training -->\n",
       "<g id=\"node11\" class=\"node\">\n",
       "<title>Training</title>\n",
       "<ellipse fill=\"none\" stroke=\"black\" cx=\"614\" cy=\"-90\" rx=\"42.65\" ry=\"18\"/>\n",
       "<text text-anchor=\"middle\" x=\"614\" y=\"-84.95\" font-family=\"Times,serif\" font-size=\"14.00\">Training</text>\n",
       "</g>\n",
       "<!-- Manager Quality&#45;&gt;Training -->\n",
       "<g id=\"edge10\" class=\"edge\">\n",
       "<title>Manager Quality&#45;&gt;Training</title>\n",
       "<path fill=\"none\" stroke=\"black\" d=\"M550.67,-144.41C561.52,-135.26 575.15,-123.76 586.98,-113.78\"/>\n",
       "<polygon fill=\"black\" stroke=\"black\" points=\"589.06,-116.61 594.45,-107.49 584.55,-111.26 589.06,-116.61\"/>\n",
       "</g>\n",
       "<!-- Engagement -->\n",
       "<g id=\"node12\" class=\"node\">\n",
       "<title>Engagement</title>\n",
       "<ellipse fill=\"none\" stroke=\"black\" cx=\"649\" cy=\"-18\" rx=\"57.49\" ry=\"18\"/>\n",
       "<text text-anchor=\"middle\" x=\"649\" y=\"-12.95\" font-family=\"Times,serif\" font-size=\"14.00\">Engagement</text>\n",
       "</g>\n",
       "<!-- Manager Quality&#45;&gt;Engagement -->\n",
       "<g id=\"edge12\" class=\"edge\">\n",
       "<title>Manager Quality&#45;&gt;Engagement</title>\n",
       "<path fill=\"none\" stroke=\"black\" d=\"M594.26,-152.16C621.04,-144.94 649.76,-131.82 666,-108 678.37,-89.85 672.19,-65.03 664.02,-46.21\"/>\n",
       "<polygon fill=\"black\" stroke=\"black\" points=\"667.22,-44.8 659.75,-37.29 660.91,-47.82 667.22,-44.8\"/>\n",
       "</g>\n",
       "<!-- Manager&#39;s Tenure -->\n",
       "<g id=\"node9\" class=\"node\">\n",
       "<title>Manager&#39;s Tenure</title>\n",
       "<ellipse fill=\"none\" stroke=\"black\" cx=\"427\" cy=\"-234\" rx=\"77.45\" ry=\"18\"/>\n",
       "<text text-anchor=\"middle\" x=\"427\" y=\"-228.95\" font-family=\"Times,serif\" font-size=\"14.00\">Manager&#39;s Tenure</text>\n",
       "</g>\n",
       "<!-- Manager&#39;s Tenure&#45;&gt;Manager Quality -->\n",
       "<g id=\"edge8\" class=\"edge\">\n",
       "<title>Manager&#39;s Tenure&#45;&gt;Manager Quality</title>\n",
       "<path fill=\"none\" stroke=\"black\" d=\"M451.38,-216.59C465.07,-207.37 482.36,-195.74 497.33,-185.66\"/>\n",
       "<polygon fill=\"black\" stroke=\"black\" points=\"499.17,-188.64 505.51,-180.15 495.26,-182.83 499.17,-188.64\"/>\n",
       "</g>\n",
       "<!-- Manager&#39;s Education Level -->\n",
       "<g id=\"node10\" class=\"node\">\n",
       "<title>Manager&#39;s Education Level</title>\n",
       "<ellipse fill=\"none\" stroke=\"black\" cx=\"635\" cy=\"-234\" rx=\"112.77\" ry=\"18\"/>\n",
       "<text text-anchor=\"middle\" x=\"635\" y=\"-228.95\" font-family=\"Times,serif\" font-size=\"14.00\">Manager&#39;s Education Level</text>\n",
       "</g>\n",
       "<!-- Manager&#39;s Education Level&#45;&gt;Manager Quality -->\n",
       "<g id=\"edge9\" class=\"edge\">\n",
       "<title>Manager&#39;s Education Level&#45;&gt;Manager Quality</title>\n",
       "<path fill=\"none\" stroke=\"black\" d=\"M609.82,-216.05C596.21,-206.89 579.23,-195.46 564.51,-185.56\"/>\n",
       "<polygon fill=\"black\" stroke=\"black\" points=\"566.73,-182.83 556.48,-180.15 562.82,-188.64 566.73,-182.83\"/>\n",
       "</g>\n",
       "<!-- Training&#45;&gt;Engagement -->\n",
       "<g id=\"edge11\" class=\"edge\">\n",
       "<title>Training&#45;&gt;Engagement</title>\n",
       "<path fill=\"none\" stroke=\"black\" d=\"M622.47,-72.05C626.33,-64.35 630.99,-55.03 635.32,-46.36\"/>\n",
       "<polygon fill=\"black\" stroke=\"black\" points=\"638.34,-48.14 639.69,-37.63 632.08,-45.01 638.34,-48.14\"/>\n",
       "</g>\n",
       "</g>\n",
       "</svg>\n"
      ],
      "text/plain": [
       "<graphviz.graphs.Digraph at 0x17ed69e10>"
      ]
     },
     "execution_count": 60,
     "metadata": {},
     "output_type": "execute_result"
    }
   ],
   "source": [
    "g = gr.Digraph()\n",
    "g.edge(\"X1\", \"U\")\n",
    "g.edge(\"U\", \"X2\")\n",
    "g.edge(\"U\", \"T\")\n",
    "g.edge(\"T\", \"Y\")\n",
    "g.edge(\"U\", \"Y\")\n",
    "\n",
    "g.edge(\"Manager Quality\", \"Team's Attrition\")\n",
    "g.edge(\"Manager Quality\", \"Team's Past Performance\")\n",
    "g.edge(\"Manager's Tenure\", \"Manager Quality\")\n",
    "g.edge(\"Manager's Education Level\", \"Manager Quality\")\n",
    "\n",
    "g.edge(\"Manager Quality\", \"Training\")\n",
    "g.edge(\"Training\", \"Engagement\")\n",
    "g.edge(\"Manager Quality\", \"Engagement\")\n",
    "\n",
    "g"
   ]
  },
  {
   "cell_type": "markdown",
   "metadata": {},
   "source": [
    "### Randomization Revisited\n"
   ]
  },
  {
   "cell_type": "code",
   "execution_count": 61,
   "metadata": {
    "ExecuteTime": {
     "end_time": "2023-06-25T15:09:32.361584Z",
     "start_time": "2023-06-25T15:09:32.160291Z"
    },
    "tags": [
     "hide-input"
    ]
   },
   "outputs": [
    {
     "data": {
      "image/svg+xml": [
       "<?xml version=\"1.0\" encoding=\"UTF-8\" standalone=\"no\"?>\n",
       "<!DOCTYPE svg PUBLIC \"-//W3C//DTD SVG 1.1//EN\"\n",
       " \"http://www.w3.org/Graphics/SVG/1.1/DTD/svg11.dtd\">\n",
       "<!-- Generated by graphviz version 10.0.1 (20240210.2158)\n",
       " -->\n",
       "<!-- Pages: 1 -->\n",
       "<svg width=\"242pt\" height=\"98pt\"\n",
       " viewBox=\"0.00 0.00 242.00 98.00\" xmlns=\"http://www.w3.org/2000/svg\" xmlns:xlink=\"http://www.w3.org/1999/xlink\">\n",
       "<g id=\"graph0\" class=\"graph\" transform=\"scale(1 1) rotate(0) translate(4 94)\">\n",
       "<polygon fill=\"white\" stroke=\"none\" points=\"-4,4 -4,-94 238,-94 238,4 -4,4\"/>\n",
       "<!-- rnd -->\n",
       "<g id=\"node1\" class=\"node\">\n",
       "<title>rnd</title>\n",
       "<ellipse fill=\"none\" stroke=\"black\" cx=\"27\" cy=\"-72\" rx=\"27\" ry=\"18\"/>\n",
       "<text text-anchor=\"middle\" x=\"27\" y=\"-66.95\" font-family=\"Times,serif\" font-size=\"14.00\">rnd</text>\n",
       "</g>\n",
       "<!-- T -->\n",
       "<g id=\"node2\" class=\"node\">\n",
       "<title>T</title>\n",
       "<ellipse fill=\"none\" stroke=\"black\" cx=\"117\" cy=\"-72\" rx=\"27\" ry=\"18\"/>\n",
       "<text text-anchor=\"middle\" x=\"117\" y=\"-66.95\" font-family=\"Times,serif\" font-size=\"14.00\">T</text>\n",
       "</g>\n",
       "<!-- rnd&#45;&gt;T -->\n",
       "<g id=\"edge1\" class=\"edge\">\n",
       "<title>rnd&#45;&gt;T</title>\n",
       "<path fill=\"none\" stroke=\"black\" d=\"M54.4,-72C61.89,-72 70.18,-72 78.2,-72\"/>\n",
       "<polygon fill=\"black\" stroke=\"black\" points=\"78.1,-75.5 88.1,-72 78.1,-68.5 78.1,-75.5\"/>\n",
       "</g>\n",
       "<!-- Y -->\n",
       "<g id=\"node3\" class=\"node\">\n",
       "<title>Y</title>\n",
       "<ellipse fill=\"none\" stroke=\"black\" cx=\"207\" cy=\"-45\" rx=\"27\" ry=\"18\"/>\n",
       "<text text-anchor=\"middle\" x=\"207\" y=\"-39.95\" font-family=\"Times,serif\" font-size=\"14.00\">Y</text>\n",
       "</g>\n",
       "<!-- T&#45;&gt;Y -->\n",
       "<g id=\"edge2\" class=\"edge\">\n",
       "<title>T&#45;&gt;Y</title>\n",
       "<path fill=\"none\" stroke=\"black\" d=\"M142.05,-64.62C150.97,-61.88 161.29,-58.72 170.99,-55.74\"/>\n",
       "<polygon fill=\"black\" stroke=\"black\" points=\"172,-59.09 180.54,-52.81 169.95,-52.4 172,-59.09\"/>\n",
       "</g>\n",
       "<!-- U -->\n",
       "<g id=\"node4\" class=\"node\">\n",
       "<title>U</title>\n",
       "<ellipse fill=\"none\" stroke=\"black\" cx=\"117\" cy=\"-18\" rx=\"27\" ry=\"18\"/>\n",
       "<text text-anchor=\"middle\" x=\"117\" y=\"-12.95\" font-family=\"Times,serif\" font-size=\"14.00\">U</text>\n",
       "</g>\n",
       "<!-- U&#45;&gt;Y -->\n",
       "<g id=\"edge3\" class=\"edge\">\n",
       "<title>U&#45;&gt;Y</title>\n",
       "<path fill=\"none\" stroke=\"black\" d=\"M142.05,-25.38C150.97,-28.12 161.29,-31.28 170.99,-34.26\"/>\n",
       "<polygon fill=\"black\" stroke=\"black\" points=\"169.95,-37.6 180.54,-37.19 172,-30.91 169.95,-37.6\"/>\n",
       "</g>\n",
       "</g>\n",
       "</svg>\n"
      ],
      "text/plain": [
       "<graphviz.graphs.Digraph at 0x171b00310>"
      ]
     },
     "execution_count": 61,
     "metadata": {},
     "output_type": "execute_result"
    }
   ],
   "source": [
    "g = gr.Digraph(graph_attr={\"rankdir\":\"LR\"})\n",
    "g.edge(\"rnd\", \"T\")\n",
    "g.edge(\"T\", \"Y\")\n",
    "g.edge(\"U\", \"Y\")\n",
    "\n",
    "g"
   ]
  },
  {
   "cell_type": "markdown",
   "metadata": {},
   "source": [
    "## Selection Bias\n",
    " \n",
    "### Conditioning on a Collider\n"
   ]
  },
  {
   "cell_type": "code",
   "execution_count": 62,
   "metadata": {
    "ExecuteTime": {
     "end_time": "2023-06-25T15:09:32.574282Z",
     "start_time": "2023-06-25T15:09:32.363619Z"
    },
    "tags": [
     "hide-input"
    ]
   },
   "outputs": [
    {
     "data": {
      "image/svg+xml": [
       "<?xml version=\"1.0\" encoding=\"UTF-8\" standalone=\"no\"?>\n",
       "<!DOCTYPE svg PUBLIC \"-//W3C//DTD SVG 1.1//EN\"\n",
       " \"http://www.w3.org/Graphics/SVG/1.1/DTD/svg11.dtd\">\n",
       "<!-- Generated by graphviz version 10.0.1 (20240210.2158)\n",
       " -->\n",
       "<!-- Pages: 1 -->\n",
       "<svg width=\"573pt\" height=\"180pt\"\n",
       " viewBox=\"0.00 0.00 572.87 180.00\" xmlns=\"http://www.w3.org/2000/svg\" xmlns:xlink=\"http://www.w3.org/1999/xlink\">\n",
       "<g id=\"graph0\" class=\"graph\" transform=\"scale(1 1) rotate(0) translate(4 176)\">\n",
       "<polygon fill=\"white\" stroke=\"none\" points=\"-4,4 -4,-176 568.87,-176 568.87,4 -4,4\"/>\n",
       "<!-- T -->\n",
       "<g id=\"node1\" class=\"node\">\n",
       "<title>T</title>\n",
       "<ellipse fill=\"none\" stroke=\"black\" cx=\"30.37\" cy=\"-50\" rx=\"27\" ry=\"18\"/>\n",
       "<text text-anchor=\"middle\" x=\"30.37\" y=\"-44.95\" font-family=\"Times,serif\" font-size=\"14.00\">T</text>\n",
       "</g>\n",
       "<!-- S -->\n",
       "<g id=\"node2\" class=\"node\">\n",
       "<title>S</title>\n",
       "<ellipse fill=\"lightgrey\" stroke=\"lightgrey\" cx=\"343.09\" cy=\"-18\" rx=\"27\" ry=\"18\"/>\n",
       "<text text-anchor=\"middle\" x=\"343.09\" y=\"-12.95\" font-family=\"Times,serif\" font-size=\"14.00\">S</text>\n",
       "</g>\n",
       "<!-- T&#45;&gt;S -->\n",
       "<g id=\"edge1\" class=\"edge\">\n",
       "<title>T&#45;&gt;S</title>\n",
       "<path fill=\"none\" stroke=\"black\" d=\"M57.75,-50.76C93.32,-51.45 158.55,-51.51 213.77,-45 245.53,-41.25 281.07,-33.49 306.69,-27.24\"/>\n",
       "<polygon fill=\"black\" stroke=\"black\" points=\"307.38,-30.68 316.24,-24.87 305.69,-23.89 307.38,-30.68\"/>\n",
       "</g>\n",
       "<!-- Y -->\n",
       "<g id=\"node3\" class=\"node\">\n",
       "<title>Y</title>\n",
       "<ellipse fill=\"none\" stroke=\"black\" cx=\"155.25\" cy=\"-18\" rx=\"27\" ry=\"18\"/>\n",
       "<text text-anchor=\"middle\" x=\"155.25\" y=\"-12.95\" font-family=\"Times,serif\" font-size=\"14.00\">Y</text>\n",
       "</g>\n",
       "<!-- T&#45;&gt;Y -->\n",
       "<g id=\"edge2\" class=\"edge\">\n",
       "<title>T&#45;&gt;Y</title>\n",
       "<path fill=\"none\" stroke=\"black\" d=\"M55.94,-43.6C73.94,-38.91 98.64,-32.48 118.78,-27.24\"/>\n",
       "<polygon fill=\"black\" stroke=\"black\" points=\"119.46,-30.68 128.26,-24.77 117.7,-23.9 119.46,-30.68\"/>\n",
       "</g>\n",
       "<!-- Y&#45;&gt;S -->\n",
       "<g id=\"edge3\" class=\"edge\">\n",
       "<title>Y&#45;&gt;S</title>\n",
       "<path fill=\"none\" stroke=\"black\" d=\"M182.48,-18C214.35,-18 268.34,-18 304.59,-18\"/>\n",
       "<polygon fill=\"black\" stroke=\"black\" points=\"304.18,-21.5 314.18,-18 304.18,-14.5 304.18,-21.5\"/>\n",
       "</g>\n",
       "<!-- RND -->\n",
       "<g id=\"node4\" class=\"node\">\n",
       "<title>RND</title>\n",
       "<ellipse fill=\"none\" stroke=\"black\" cx=\"30.37\" cy=\"-123\" rx=\"30.37\" ry=\"18\"/>\n",
       "<text text-anchor=\"middle\" x=\"30.37\" y=\"-117.95\" font-family=\"Times,serif\" font-size=\"14.00\">RND</text>\n",
       "</g>\n",
       "<!-- New Feature -->\n",
       "<g id=\"node5\" class=\"node\">\n",
       "<title>New Feature</title>\n",
       "<ellipse fill=\"none\" stroke=\"black\" cx=\"155.25\" cy=\"-123\" rx=\"58.52\" ry=\"18\"/>\n",
       "<text text-anchor=\"middle\" x=\"155.25\" y=\"-117.95\" font-family=\"Times,serif\" font-size=\"14.00\">New Feature</text>\n",
       "</g>\n",
       "<!-- RND&#45;&gt;New Feature -->\n",
       "<g id=\"edge4\" class=\"edge\">\n",
       "<title>RND&#45;&gt;New Feature</title>\n",
       "<path fill=\"none\" stroke=\"black\" d=\"M61.11,-123C68.44,-123 76.59,-123 84.94,-123\"/>\n",
       "<polygon fill=\"black\" stroke=\"black\" points=\"84.88,-126.5 94.88,-123 84.88,-119.5 84.88,-126.5\"/>\n",
       "</g>\n",
       "<!-- Customer Satisfaction -->\n",
       "<g id=\"node6\" class=\"node\">\n",
       "<title>Customer Satisfaction</title>\n",
       "<ellipse fill=\"none\" stroke=\"black\" cx=\"343.09\" cy=\"-146\" rx=\"93.32\" ry=\"18\"/>\n",
       "<text text-anchor=\"middle\" x=\"343.09\" y=\"-140.95\" font-family=\"Times,serif\" font-size=\"14.00\">Customer Satisfaction</text>\n",
       "</g>\n",
       "<!-- New Feature&#45;&gt;Customer Satisfaction -->\n",
       "<g id=\"edge5\" class=\"edge\">\n",
       "<title>New Feature&#45;&gt;Customer Satisfaction</title>\n",
       "<path fill=\"none\" stroke=\"black\" d=\"M210,-129.65C223.33,-131.3 237.97,-133.11 252.5,-134.91\"/>\n",
       "<polygon fill=\"black\" stroke=\"black\" points=\"251.71,-138.34 262.07,-136.1 252.57,-131.39 251.71,-138.34\"/>\n",
       "</g>\n",
       "<!-- Response -->\n",
       "<g id=\"node8\" class=\"node\">\n",
       "<title>Response</title>\n",
       "<ellipse fill=\"lightgrey\" stroke=\"lightgrey\" cx=\"518.64\" cy=\"-100\" rx=\"46.23\" ry=\"18\"/>\n",
       "<text text-anchor=\"middle\" x=\"518.64\" y=\"-94.95\" font-family=\"Times,serif\" font-size=\"14.00\">Response</text>\n",
       "</g>\n",
       "<!-- New Feature&#45;&gt;Response -->\n",
       "<g id=\"edge8\" class=\"edge\">\n",
       "<title>New Feature&#45;&gt;Response</title>\n",
       "<path fill=\"none\" stroke=\"black\" d=\"M213.12,-119.38C280.95,-115.06 393.64,-107.89 461.26,-103.59\"/>\n",
       "<polygon fill=\"black\" stroke=\"black\" points=\"461.26,-107.1 471.02,-102.97 460.81,-100.11 461.26,-107.1\"/>\n",
       "</g>\n",
       "<!-- NPS -->\n",
       "<g id=\"node7\" class=\"node\">\n",
       "<title>NPS</title>\n",
       "<ellipse fill=\"none\" stroke=\"black\" cx=\"518.64\" cy=\"-154\" rx=\"27.81\" ry=\"18\"/>\n",
       "<text text-anchor=\"middle\" x=\"518.64\" y=\"-148.95\" font-family=\"Times,serif\" font-size=\"14.00\">NPS</text>\n",
       "</g>\n",
       "<!-- Customer Satisfaction&#45;&gt;NPS -->\n",
       "<g id=\"edge6\" class=\"edge\">\n",
       "<title>Customer Satisfaction&#45;&gt;NPS</title>\n",
       "<path fill=\"none\" stroke=\"black\" d=\"M434.42,-150.16C450.35,-150.9 466.11,-151.62 479.57,-152.25\"/>\n",
       "<polygon fill=\"black\" stroke=\"black\" points=\"479.08,-155.73 489.23,-152.69 479.4,-148.73 479.08,-155.73\"/>\n",
       "</g>\n",
       "<!-- Customer Satisfaction&#45;&gt;Response -->\n",
       "<g id=\"edge7\" class=\"edge\">\n",
       "<title>Customer Satisfaction&#45;&gt;Response</title>\n",
       "<path fill=\"none\" stroke=\"black\" d=\"M399.48,-131.32C421.78,-125.41 447.28,-118.65 468.87,-112.93\"/>\n",
       "<polygon fill=\"black\" stroke=\"black\" points=\"469.53,-116.37 478.3,-110.43 467.74,-109.61 469.53,-116.37\"/>\n",
       "</g>\n",
       "</g>\n",
       "</svg>\n"
      ],
      "text/plain": [
       "<graphviz.graphs.Digraph at 0x17ed6cb50>"
      ]
     },
     "execution_count": 62,
     "metadata": {},
     "output_type": "execute_result"
    }
   ],
   "source": [
    "g = gr.Digraph(graph_attr={\"rankdir\": \"LR\"})\n",
    "g.edge(\"T\", \"S\")\n",
    "g.edge(\"T\", \"Y\")\n",
    "g.edge(\"Y\", \"S\")\n",
    "g.node(\"S\", color=\"lightgrey\", style=\"filled\")\n",
    "\n",
    "g.edge(\"RND\", \"New Feature\"),\n",
    "g.edge(\"New Feature\", \"Customer Satisfaction\"),\n",
    "g.edge(\"Customer Satisfaction\", \"NPS\"),\n",
    "g.edge(\"Customer Satisfaction\", \"Response\"),\n",
    "g.edge(\"New Feature\", \"Response\"),\n",
    "g.node(\"Response\", \"Response\", color=\"lightgrey\", style=\"filled\")\n",
    "\n",
    "g"
   ]
  },
  {
   "cell_type": "code",
   "execution_count": 63,
   "metadata": {
    "ExecuteTime": {
     "end_time": "2023-06-25T15:09:32.581278Z",
     "start_time": "2023-06-25T15:09:32.576515Z"
    }
   },
   "outputs": [
    {
     "data": {
      "text/plain": [
       "True"
      ]
     },
     "execution_count": 63,
     "metadata": {},
     "output_type": "execute_result"
    }
   ],
   "source": [
    "nps_model = nx.DiGraph([\n",
    "   (\"RND\", \"New Feature\"),\n",
    "#     (\"New Feature\", \"Customer Satisfaction\"),\n",
    "    (\"Customer Satisfaction\", \"NPS\"),\n",
    "    (\"Customer Satisfaction\", \"Response\"),\n",
    "    (\"New Feature\", \"Response\"),\n",
    "])\n",
    "\n",
    "\n",
    "not(nx.d_separated(nps_model, {\"NPS\"}, {\"New Feature\"}, {\"Response\"}))"
   ]
  },
  {
   "cell_type": "code",
   "execution_count": 66,
   "metadata": {},
   "outputs": [
    {
     "data": {
      "text/plain": [
       "array([-0.0031072 ,  0.10440001, -0.70445174, ..., -0.34019968,\n",
       "        0.23214503,  0.70514534])"
      ]
     },
     "execution_count": 66,
     "metadata": {},
     "output_type": "execute_result"
    }
   ],
   "source": [
    "satisfaction_0"
   ]
  },
  {
   "cell_type": "code",
   "execution_count": 64,
   "metadata": {
    "ExecuteTime": {
     "end_time": "2023-06-25T15:09:32.622363Z",
     "start_time": "2023-06-25T15:09:32.582667Z"
    },
    "scrolled": true,
    "tags": [
     "hide-input"
    ]
   },
   "outputs": [
    {
     "data": {
      "text/html": [
       "<div>\n",
       "<style scoped>\n",
       "    .dataframe tbody tr th:only-of-type {\n",
       "        vertical-align: middle;\n",
       "    }\n",
       "\n",
       "    .dataframe tbody tr th {\n",
       "        vertical-align: top;\n",
       "    }\n",
       "\n",
       "    .dataframe thead th {\n",
       "        text-align: right;\n",
       "    }\n",
       "</style>\n",
       "<table border=\"1\" class=\"dataframe\">\n",
       "  <thead>\n",
       "    <tr style=\"text-align: right;\">\n",
       "      <th></th>\n",
       "      <th>responded</th>\n",
       "      <th>nps_0</th>\n",
       "      <th>nps_1</th>\n",
       "      <th>nps</th>\n",
       "    </tr>\n",
       "    <tr>\n",
       "      <th>new_feature</th>\n",
       "      <th></th>\n",
       "      <th></th>\n",
       "      <th></th>\n",
       "      <th></th>\n",
       "    </tr>\n",
       "  </thead>\n",
       "  <tbody>\n",
       "    <tr>\n",
       "      <th>0</th>\n",
       "      <td>0.183715</td>\n",
       "      <td>-0.005047</td>\n",
       "      <td>0.395015</td>\n",
       "      <td>-0.005047</td>\n",
       "    </tr>\n",
       "    <tr>\n",
       "      <th>1</th>\n",
       "      <td>0.639342</td>\n",
       "      <td>-0.005239</td>\n",
       "      <td>0.401082</td>\n",
       "      <td>0.401082</td>\n",
       "    </tr>\n",
       "  </tbody>\n",
       "</table>\n",
       "</div>"
      ],
      "text/plain": [
       "             responded     nps_0     nps_1       nps\n",
       "new_feature                                         \n",
       "0             0.183715 -0.005047  0.395015 -0.005047\n",
       "1             0.639342 -0.005239  0.401082  0.401082"
      ]
     },
     "execution_count": 64,
     "metadata": {},
     "output_type": "execute_result"
    }
   ],
   "source": [
    "np.random.seed(2)\n",
    "n = 100000\n",
    "new_feature = np.random.binomial(1, 0.5, n)\n",
    "\n",
    "satisfaction_0 = np.random.normal(0, 0.5, n)\n",
    "satisfaction_1 = satisfaction_0 + 0.4\n",
    "satisfaction = new_feature*satisfaction_1 + (1-new_feature)*satisfaction_0\n",
    "\n",
    "nps_0 = np.random.normal(satisfaction_0, 1)\n",
    "nps_1 = np.random.normal(satisfaction_1, 1)\n",
    "nps = new_feature*nps_1 + (1-new_feature)*nps_0\n",
    "\n",
    "\n",
    "responded  = (np.random.normal(0 + new_feature + satisfaction, 1) > 1).astype(int)\n",
    "\n",
    "tr_df = pd.DataFrame(dict(new_feature=new_feature,\n",
    "                          responded=responded,\n",
    "                          nps_0=nps_0,\n",
    "                          nps_1=nps_1,\n",
    "                          nps=nps))\n",
    "\n",
    "tr_df_measurable = pd.DataFrame(dict(new_feature=new_feature,\n",
    "                                     responded=responded,\n",
    "                                     nps_0=np.nan,\n",
    "                                     nps_1=np.nan,\n",
    "                                     nps=np.where(responded, nps, np.nan)))\n",
    "\n",
    "tr_df.groupby(\"new_feature\").mean()"
   ]
  },
  {
   "cell_type": "code",
   "execution_count": 72,
   "metadata": {},
   "outputs": [
    {
     "data": {
      "text/html": [
       "<div>\n",
       "<style scoped>\n",
       "    .dataframe tbody tr th:only-of-type {\n",
       "        vertical-align: middle;\n",
       "    }\n",
       "\n",
       "    .dataframe tbody tr th {\n",
       "        vertical-align: top;\n",
       "    }\n",
       "\n",
       "    .dataframe thead th {\n",
       "        text-align: right;\n",
       "    }\n",
       "</style>\n",
       "<table border=\"1\" class=\"dataframe\">\n",
       "  <thead>\n",
       "    <tr style=\"text-align: right;\">\n",
       "      <th></th>\n",
       "      <th>new_feature</th>\n",
       "      <th>responded</th>\n",
       "      <th>nps_0</th>\n",
       "      <th>nps_1</th>\n",
       "      <th>nps</th>\n",
       "    </tr>\n",
       "  </thead>\n",
       "  <tbody>\n",
       "    <tr>\n",
       "      <th>0</th>\n",
       "      <td>0</td>\n",
       "      <td>0</td>\n",
       "      <td>-0.271982</td>\n",
       "      <td>-1.402841</td>\n",
       "      <td>-0.271982</td>\n",
       "    </tr>\n",
       "    <tr>\n",
       "      <th>1</th>\n",
       "      <td>0</td>\n",
       "      <td>0</td>\n",
       "      <td>-0.413847</td>\n",
       "      <td>0.994528</td>\n",
       "      <td>-0.413847</td>\n",
       "    </tr>\n",
       "    <tr>\n",
       "      <th>2</th>\n",
       "      <td>1</td>\n",
       "      <td>0</td>\n",
       "      <td>0.902235</td>\n",
       "      <td>1.358330</td>\n",
       "      <td>1.358330</td>\n",
       "    </tr>\n",
       "    <tr>\n",
       "      <th>3</th>\n",
       "      <td>0</td>\n",
       "      <td>0</td>\n",
       "      <td>-0.538221</td>\n",
       "      <td>0.536031</td>\n",
       "      <td>-0.538221</td>\n",
       "    </tr>\n",
       "    <tr>\n",
       "      <th>4</th>\n",
       "      <td>0</td>\n",
       "      <td>0</td>\n",
       "      <td>-2.159296</td>\n",
       "      <td>-0.218786</td>\n",
       "      <td>-2.159296</td>\n",
       "    </tr>\n",
       "    <tr>\n",
       "      <th>...</th>\n",
       "      <td>...</td>\n",
       "      <td>...</td>\n",
       "      <td>...</td>\n",
       "      <td>...</td>\n",
       "      <td>...</td>\n",
       "    </tr>\n",
       "    <tr>\n",
       "      <th>99995</th>\n",
       "      <td>0</td>\n",
       "      <td>1</td>\n",
       "      <td>-1.533625</td>\n",
       "      <td>0.011621</td>\n",
       "      <td>-1.533625</td>\n",
       "    </tr>\n",
       "    <tr>\n",
       "      <th>99996</th>\n",
       "      <td>1</td>\n",
       "      <td>1</td>\n",
       "      <td>0.899836</td>\n",
       "      <td>3.580665</td>\n",
       "      <td>3.580665</td>\n",
       "    </tr>\n",
       "    <tr>\n",
       "      <th>99997</th>\n",
       "      <td>0</td>\n",
       "      <td>1</td>\n",
       "      <td>0.233907</td>\n",
       "      <td>1.161959</td>\n",
       "      <td>0.233907</td>\n",
       "    </tr>\n",
       "    <tr>\n",
       "      <th>99998</th>\n",
       "      <td>0</td>\n",
       "      <td>0</td>\n",
       "      <td>0.481545</td>\n",
       "      <td>-1.206703</td>\n",
       "      <td>0.481545</td>\n",
       "    </tr>\n",
       "    <tr>\n",
       "      <th>99999</th>\n",
       "      <td>1</td>\n",
       "      <td>1</td>\n",
       "      <td>1.012860</td>\n",
       "      <td>0.336996</td>\n",
       "      <td>0.336996</td>\n",
       "    </tr>\n",
       "  </tbody>\n",
       "</table>\n",
       "<p>100000 rows × 5 columns</p>\n",
       "</div>"
      ],
      "text/plain": [
       "       new_feature  responded     nps_0     nps_1       nps\n",
       "0                0          0 -0.271982 -1.402841 -0.271982\n",
       "1                0          0 -0.413847  0.994528 -0.413847\n",
       "2                1          0  0.902235  1.358330  1.358330\n",
       "3                0          0 -0.538221  0.536031 -0.538221\n",
       "4                0          0 -2.159296 -0.218786 -2.159296\n",
       "...            ...        ...       ...       ...       ...\n",
       "99995            0          1 -1.533625  0.011621 -1.533625\n",
       "99996            1          1  0.899836  3.580665  3.580665\n",
       "99997            0          1  0.233907  1.161959  0.233907\n",
       "99998            0          0  0.481545 -1.206703  0.481545\n",
       "99999            1          1  1.012860  0.336996  0.336996\n",
       "\n",
       "[100000 rows x 5 columns]"
      ]
     },
     "execution_count": 72,
     "metadata": {},
     "output_type": "execute_result"
    }
   ],
   "source": [
    "tr_df"
   ]
  },
  {
   "cell_type": "code",
   "execution_count": 70,
   "metadata": {},
   "outputs": [
    {
     "data": {
      "text/html": [
       "<div>\n",
       "<style scoped>\n",
       "    .dataframe tbody tr th:only-of-type {\n",
       "        vertical-align: middle;\n",
       "    }\n",
       "\n",
       "    .dataframe tbody tr th {\n",
       "        vertical-align: top;\n",
       "    }\n",
       "\n",
       "    .dataframe thead th {\n",
       "        text-align: right;\n",
       "    }\n",
       "</style>\n",
       "<table border=\"1\" class=\"dataframe\">\n",
       "  <thead>\n",
       "    <tr style=\"text-align: right;\">\n",
       "      <th></th>\n",
       "      <th>new_feature</th>\n",
       "      <th>responded</th>\n",
       "      <th>nps_0</th>\n",
       "      <th>nps_1</th>\n",
       "      <th>nps</th>\n",
       "    </tr>\n",
       "  </thead>\n",
       "  <tbody>\n",
       "    <tr>\n",
       "      <th>0</th>\n",
       "      <td>0</td>\n",
       "      <td>0</td>\n",
       "      <td>NaN</td>\n",
       "      <td>NaN</td>\n",
       "      <td>NaN</td>\n",
       "    </tr>\n",
       "    <tr>\n",
       "      <th>1</th>\n",
       "      <td>0</td>\n",
       "      <td>0</td>\n",
       "      <td>NaN</td>\n",
       "      <td>NaN</td>\n",
       "      <td>NaN</td>\n",
       "    </tr>\n",
       "    <tr>\n",
       "      <th>2</th>\n",
       "      <td>1</td>\n",
       "      <td>0</td>\n",
       "      <td>NaN</td>\n",
       "      <td>NaN</td>\n",
       "      <td>NaN</td>\n",
       "    </tr>\n",
       "    <tr>\n",
       "      <th>3</th>\n",
       "      <td>0</td>\n",
       "      <td>0</td>\n",
       "      <td>NaN</td>\n",
       "      <td>NaN</td>\n",
       "      <td>NaN</td>\n",
       "    </tr>\n",
       "    <tr>\n",
       "      <th>4</th>\n",
       "      <td>0</td>\n",
       "      <td>0</td>\n",
       "      <td>NaN</td>\n",
       "      <td>NaN</td>\n",
       "      <td>NaN</td>\n",
       "    </tr>\n",
       "    <tr>\n",
       "      <th>...</th>\n",
       "      <td>...</td>\n",
       "      <td>...</td>\n",
       "      <td>...</td>\n",
       "      <td>...</td>\n",
       "      <td>...</td>\n",
       "    </tr>\n",
       "    <tr>\n",
       "      <th>99995</th>\n",
       "      <td>0</td>\n",
       "      <td>1</td>\n",
       "      <td>NaN</td>\n",
       "      <td>NaN</td>\n",
       "      <td>-1.533625</td>\n",
       "    </tr>\n",
       "    <tr>\n",
       "      <th>99996</th>\n",
       "      <td>1</td>\n",
       "      <td>1</td>\n",
       "      <td>NaN</td>\n",
       "      <td>NaN</td>\n",
       "      <td>3.580665</td>\n",
       "    </tr>\n",
       "    <tr>\n",
       "      <th>99997</th>\n",
       "      <td>0</td>\n",
       "      <td>1</td>\n",
       "      <td>NaN</td>\n",
       "      <td>NaN</td>\n",
       "      <td>0.233907</td>\n",
       "    </tr>\n",
       "    <tr>\n",
       "      <th>99998</th>\n",
       "      <td>0</td>\n",
       "      <td>0</td>\n",
       "      <td>NaN</td>\n",
       "      <td>NaN</td>\n",
       "      <td>NaN</td>\n",
       "    </tr>\n",
       "    <tr>\n",
       "      <th>99999</th>\n",
       "      <td>1</td>\n",
       "      <td>1</td>\n",
       "      <td>NaN</td>\n",
       "      <td>NaN</td>\n",
       "      <td>0.336996</td>\n",
       "    </tr>\n",
       "  </tbody>\n",
       "</table>\n",
       "<p>100000 rows × 5 columns</p>\n",
       "</div>"
      ],
      "text/plain": [
       "       new_feature  responded  nps_0  nps_1       nps\n",
       "0                0          0    NaN    NaN       NaN\n",
       "1                0          0    NaN    NaN       NaN\n",
       "2                1          0    NaN    NaN       NaN\n",
       "3                0          0    NaN    NaN       NaN\n",
       "4                0          0    NaN    NaN       NaN\n",
       "...            ...        ...    ...    ...       ...\n",
       "99995            0          1    NaN    NaN -1.533625\n",
       "99996            1          1    NaN    NaN  3.580665\n",
       "99997            0          1    NaN    NaN  0.233907\n",
       "99998            0          0    NaN    NaN       NaN\n",
       "99999            1          1    NaN    NaN  0.336996\n",
       "\n",
       "[100000 rows x 5 columns]"
      ]
     },
     "execution_count": 70,
     "metadata": {},
     "output_type": "execute_result"
    }
   ],
   "source": [
    "tr_df_measurable"
   ]
  },
  {
   "cell_type": "code",
   "execution_count": 34,
   "metadata": {
    "ExecuteTime": {
     "end_time": "2023-06-25T15:09:32.634960Z",
     "start_time": "2023-06-25T15:09:32.624532Z"
    },
    "tags": [
     "hide-input"
    ]
   },
   "outputs": [
    {
     "data": {
      "text/html": [
       "<div>\n",
       "<style scoped>\n",
       "    .dataframe tbody tr th:only-of-type {\n",
       "        vertical-align: middle;\n",
       "    }\n",
       "\n",
       "    .dataframe tbody tr th {\n",
       "        vertical-align: top;\n",
       "    }\n",
       "\n",
       "    .dataframe thead th {\n",
       "        text-align: right;\n",
       "    }\n",
       "</style>\n",
       "<table border=\"1\" class=\"dataframe\">\n",
       "  <thead>\n",
       "    <tr style=\"text-align: right;\">\n",
       "      <th></th>\n",
       "      <th>responded</th>\n",
       "      <th>nps_0</th>\n",
       "      <th>nps_1</th>\n",
       "      <th>nps</th>\n",
       "    </tr>\n",
       "    <tr>\n",
       "      <th>new_feature</th>\n",
       "      <th></th>\n",
       "      <th></th>\n",
       "      <th></th>\n",
       "      <th></th>\n",
       "    </tr>\n",
       "  </thead>\n",
       "  <tbody>\n",
       "    <tr>\n",
       "      <th>0</th>\n",
       "      <td>0.183715</td>\n",
       "      <td>NaN</td>\n",
       "      <td>NaN</td>\n",
       "      <td>NaN</td>\n",
       "    </tr>\n",
       "    <tr>\n",
       "      <th>1</th>\n",
       "      <td>0.639342</td>\n",
       "      <td>NaN</td>\n",
       "      <td>NaN</td>\n",
       "      <td>NaN</td>\n",
       "    </tr>\n",
       "  </tbody>\n",
       "</table>\n",
       "</div>"
      ],
      "text/plain": [
       "             responded  nps_0  nps_1  nps\n",
       "new_feature                              \n",
       "0             0.183715    NaN    NaN  NaN\n",
       "1             0.639342    NaN    NaN  NaN"
      ]
     },
     "execution_count": 34,
     "metadata": {},
     "output_type": "execute_result"
    }
   ],
   "source": [
    "tr_df_measurable.groupby(\"new_feature\").mean().assign(**{\"nps\": np.nan})"
   ]
  },
  {
   "cell_type": "code",
   "execution_count": 74,
   "metadata": {
    "ExecuteTime": {
     "end_time": "2023-06-25T15:09:32.647398Z",
     "start_time": "2023-06-25T15:09:32.636260Z"
    },
    "tags": [
     "hide-input"
    ]
   },
   "outputs": [
    {
     "data": {
      "text/html": [
       "<div>\n",
       "<style scoped>\n",
       "    .dataframe tbody tr th:only-of-type {\n",
       "        vertical-align: middle;\n",
       "    }\n",
       "\n",
       "    .dataframe tbody tr th {\n",
       "        vertical-align: top;\n",
       "    }\n",
       "\n",
       "    .dataframe thead th {\n",
       "        text-align: right;\n",
       "    }\n",
       "</style>\n",
       "<table border=\"1\" class=\"dataframe\">\n",
       "  <thead>\n",
       "    <tr style=\"text-align: right;\">\n",
       "      <th></th>\n",
       "      <th></th>\n",
       "      <th>nps_0</th>\n",
       "      <th>nps_1</th>\n",
       "      <th>nps</th>\n",
       "    </tr>\n",
       "    <tr>\n",
       "      <th>responded</th>\n",
       "      <th>new_feature</th>\n",
       "      <th></th>\n",
       "      <th></th>\n",
       "      <th></th>\n",
       "    </tr>\n",
       "  </thead>\n",
       "  <tbody>\n",
       "    <tr>\n",
       "      <th rowspan=\"2\" valign=\"top\">0</th>\n",
       "      <th>0</th>\n",
       "      <td>NaN</td>\n",
       "      <td>NaN</td>\n",
       "      <td>NaN</td>\n",
       "    </tr>\n",
       "    <tr>\n",
       "      <th>1</th>\n",
       "      <td>NaN</td>\n",
       "      <td>NaN</td>\n",
       "      <td>NaN</td>\n",
       "    </tr>\n",
       "    <tr>\n",
       "      <th rowspan=\"2\" valign=\"top\">1</th>\n",
       "      <th>0</th>\n",
       "      <td>NaN</td>\n",
       "      <td>NaN</td>\n",
       "      <td>0.314073</td>\n",
       "    </tr>\n",
       "    <tr>\n",
       "      <th>1</th>\n",
       "      <td>NaN</td>\n",
       "      <td>NaN</td>\n",
       "      <td>0.536106</td>\n",
       "    </tr>\n",
       "  </tbody>\n",
       "</table>\n",
       "</div>"
      ],
      "text/plain": [
       "                       nps_0  nps_1       nps\n",
       "responded new_feature                        \n",
       "0         0              NaN    NaN       NaN\n",
       "          1              NaN    NaN       NaN\n",
       "1         0              NaN    NaN  0.314073\n",
       "          1              NaN    NaN  0.536106"
      ]
     },
     "execution_count": 74,
     "metadata": {},
     "output_type": "execute_result"
    }
   ],
   "source": [
    "tr_df_measurable.groupby([\"responded\", \"new_feature\"]).mean()"
   ]
  },
  {
   "cell_type": "code",
   "execution_count": 75,
   "metadata": {
    "ExecuteTime": {
     "end_time": "2023-06-25T15:09:32.658749Z",
     "start_time": "2023-06-25T15:09:32.648693Z"
    },
    "tags": [
     "hide-input"
    ]
   },
   "outputs": [
    {
     "data": {
      "text/html": [
       "<div>\n",
       "<style scoped>\n",
       "    .dataframe tbody tr th:only-of-type {\n",
       "        vertical-align: middle;\n",
       "    }\n",
       "\n",
       "    .dataframe tbody tr th {\n",
       "        vertical-align: top;\n",
       "    }\n",
       "\n",
       "    .dataframe thead th {\n",
       "        text-align: right;\n",
       "    }\n",
       "</style>\n",
       "<table border=\"1\" class=\"dataframe\">\n",
       "  <thead>\n",
       "    <tr style=\"text-align: right;\">\n",
       "      <th></th>\n",
       "      <th></th>\n",
       "      <th>nps_0</th>\n",
       "      <th>nps_1</th>\n",
       "      <th>nps</th>\n",
       "    </tr>\n",
       "    <tr>\n",
       "      <th>responded</th>\n",
       "      <th>new_feature</th>\n",
       "      <th></th>\n",
       "      <th></th>\n",
       "      <th></th>\n",
       "    </tr>\n",
       "  </thead>\n",
       "  <tbody>\n",
       "    <tr>\n",
       "      <th rowspan=\"2\" valign=\"top\">0</th>\n",
       "      <th>0</th>\n",
       "      <td>-0.076869</td>\n",
       "      <td>0.320616</td>\n",
       "      <td>-0.076869</td>\n",
       "    </tr>\n",
       "    <tr>\n",
       "      <th>1</th>\n",
       "      <td>-0.234852</td>\n",
       "      <td>0.161725</td>\n",
       "      <td>0.161725</td>\n",
       "    </tr>\n",
       "    <tr>\n",
       "      <th rowspan=\"2\" valign=\"top\">1</th>\n",
       "      <th>0</th>\n",
       "      <td>0.314073</td>\n",
       "      <td>0.725585</td>\n",
       "      <td>0.314073</td>\n",
       "    </tr>\n",
       "    <tr>\n",
       "      <th>1</th>\n",
       "      <td>0.124287</td>\n",
       "      <td>0.536106</td>\n",
       "      <td>0.536106</td>\n",
       "    </tr>\n",
       "  </tbody>\n",
       "</table>\n",
       "</div>"
      ],
      "text/plain": [
       "                          nps_0     nps_1       nps\n",
       "responded new_feature                              \n",
       "0         0           -0.076869  0.320616 -0.076869\n",
       "          1           -0.234852  0.161725  0.161725\n",
       "1         0            0.314073  0.725585  0.314073\n",
       "          1            0.124287  0.536106  0.536106"
      ]
     },
     "execution_count": 75,
     "metadata": {},
     "output_type": "execute_result"
    }
   ],
   "source": [
    "tr_df.groupby([\"responded\", \"new_feature\"]).mean()"
   ]
  },
  {
   "cell_type": "markdown",
   "metadata": {},
   "source": [
    "### Adjusting for Selection Bias\n"
   ]
  },
  {
   "cell_type": "code",
   "execution_count": 76,
   "metadata": {
    "ExecuteTime": {
     "end_time": "2023-06-25T15:09:32.862849Z",
     "start_time": "2023-06-25T15:09:32.660473Z"
    },
    "tags": [
     "hide-input"
    ]
   },
   "outputs": [
    {
     "data": {
      "image/svg+xml": [
       "<?xml version=\"1.0\" encoding=\"UTF-8\" standalone=\"no\"?>\n",
       "<!DOCTYPE svg PUBLIC \"-//W3C//DTD SVG 1.1//EN\"\n",
       " \"http://www.w3.org/Graphics/SVG/1.1/DTD/svg11.dtd\">\n",
       "<!-- Generated by graphviz version 10.0.1 (20240210.2158)\n",
       " -->\n",
       "<!-- Pages: 1 -->\n",
       "<svg width=\"576pt\" height=\"188pt\"\n",
       " viewBox=\"0.00 0.00 575.52 188.00\" xmlns=\"http://www.w3.org/2000/svg\" xmlns:xlink=\"http://www.w3.org/1999/xlink\">\n",
       "<g id=\"graph0\" class=\"graph\" transform=\"scale(1 1) rotate(0) translate(4 184)\">\n",
       "<polygon fill=\"white\" stroke=\"none\" points=\"-4,4 -4,-184 571.52,-184 571.52,4 -4,4\"/>\n",
       "<!-- U -->\n",
       "<g id=\"node1\" class=\"node\">\n",
       "<title>U</title>\n",
       "<ellipse fill=\"none\" stroke=\"black\" cx=\"54\" cy=\"-162\" rx=\"27\" ry=\"18\"/>\n",
       "<text text-anchor=\"middle\" x=\"54\" y=\"-156.95\" font-family=\"Times,serif\" font-size=\"14.00\">U</text>\n",
       "</g>\n",
       "<!-- X -->\n",
       "<g id=\"node2\" class=\"node\">\n",
       "<title>X</title>\n",
       "<ellipse fill=\"none\" stroke=\"black\" cx=\"27\" cy=\"-90\" rx=\"27\" ry=\"18\"/>\n",
       "<text text-anchor=\"middle\" x=\"27\" y=\"-84.95\" font-family=\"Times,serif\" font-size=\"14.00\">X</text>\n",
       "</g>\n",
       "<!-- U&#45;&gt;X -->\n",
       "<g id=\"edge1\" class=\"edge\">\n",
       "<title>U&#45;&gt;X</title>\n",
       "<path fill=\"none\" stroke=\"black\" d=\"M47.46,-144.05C44.48,-136.32 40.87,-126.96 37.52,-118.27\"/>\n",
       "<polygon fill=\"black\" stroke=\"black\" points=\"40.88,-117.27 34.02,-109.2 34.35,-119.79 40.88,-117.27\"/>\n",
       "</g>\n",
       "<!-- Y -->\n",
       "<g id=\"node4\" class=\"node\">\n",
       "<title>Y</title>\n",
       "<ellipse fill=\"none\" stroke=\"black\" cx=\"99\" cy=\"-90\" rx=\"27\" ry=\"18\"/>\n",
       "<text text-anchor=\"middle\" x=\"99\" y=\"-84.95\" font-family=\"Times,serif\" font-size=\"14.00\">Y</text>\n",
       "</g>\n",
       "<!-- U&#45;&gt;Y -->\n",
       "<g id=\"edge3\" class=\"edge\">\n",
       "<title>U&#45;&gt;Y</title>\n",
       "<path fill=\"none\" stroke=\"black\" d=\"M64.21,-145.12C69.68,-136.61 76.54,-125.94 82.72,-116.32\"/>\n",
       "<polygon fill=\"black\" stroke=\"black\" points=\"85.55,-118.4 88.01,-108.09 79.66,-114.61 85.55,-118.4\"/>\n",
       "</g>\n",
       "<!-- S -->\n",
       "<g id=\"node3\" class=\"node\">\n",
       "<title>S</title>\n",
       "<ellipse fill=\"lightgrey\" stroke=\"lightgrey\" cx=\"115\" cy=\"-18\" rx=\"27\" ry=\"18\"/>\n",
       "<text text-anchor=\"middle\" x=\"115\" y=\"-12.95\" font-family=\"Times,serif\" font-size=\"14.00\">S</text>\n",
       "</g>\n",
       "<!-- X&#45;&gt;S -->\n",
       "<g id=\"edge2\" class=\"edge\">\n",
       "<title>X&#45;&gt;S</title>\n",
       "<path fill=\"none\" stroke=\"black\" d=\"M43.97,-75.5C56.87,-65.24 74.84,-50.94 89.48,-39.3\"/>\n",
       "<polygon fill=\"black\" stroke=\"black\" points=\"91.25,-42.36 96.9,-33.4 86.9,-36.88 91.25,-42.36\"/>\n",
       "</g>\n",
       "<!-- T -->\n",
       "<g id=\"node5\" class=\"node\">\n",
       "<title>T</title>\n",
       "<ellipse fill=\"none\" stroke=\"black\" cx=\"140\" cy=\"-162\" rx=\"27\" ry=\"18\"/>\n",
       "<text text-anchor=\"middle\" x=\"140\" y=\"-156.95\" font-family=\"Times,serif\" font-size=\"14.00\">T</text>\n",
       "</g>\n",
       "<!-- T&#45;&gt;S -->\n",
       "<g id=\"edge5\" class=\"edge\">\n",
       "<title>T&#45;&gt;S</title>\n",
       "<path fill=\"none\" stroke=\"black\" d=\"M140.57,-143.73C140.81,-125.65 140.19,-96.53 135,-72 133.15,-63.27 130.1,-54.07 126.93,-45.83\"/>\n",
       "<polygon fill=\"black\" stroke=\"black\" points=\"130.23,-44.65 123.21,-36.72 123.75,-47.3 130.23,-44.65\"/>\n",
       "</g>\n",
       "<!-- T&#45;&gt;Y -->\n",
       "<g id=\"edge4\" class=\"edge\">\n",
       "<title>T&#45;&gt;Y</title>\n",
       "<path fill=\"none\" stroke=\"black\" d=\"M130.49,-144.76C125.63,-136.46 119.59,-126.15 114.11,-116.79\"/>\n",
       "<polygon fill=\"black\" stroke=\"black\" points=\"117.3,-115.31 109.22,-108.45 111.26,-118.85 117.3,-115.31\"/>\n",
       "</g>\n",
       "<!-- New Feature -->\n",
       "<g id=\"node6\" class=\"node\">\n",
       "<title>New Feature</title>\n",
       "<ellipse fill=\"none\" stroke=\"black\" cx=\"278\" cy=\"-162\" rx=\"58.52\" ry=\"18\"/>\n",
       "<text text-anchor=\"middle\" x=\"278\" y=\"-156.95\" font-family=\"Times,serif\" font-size=\"14.00\">New Feature</text>\n",
       "</g>\n",
       "<!-- Customer Satisfaction -->\n",
       "<g id=\"node7\" class=\"node\">\n",
       "<title>Customer Satisfaction</title>\n",
       "<ellipse fill=\"none\" stroke=\"black\" cx=\"339\" cy=\"-90\" rx=\"93.32\" ry=\"18\"/>\n",
       "<text text-anchor=\"middle\" x=\"339\" y=\"-84.95\" font-family=\"Times,serif\" font-size=\"14.00\">Customer Satisfaction</text>\n",
       "</g>\n",
       "<!-- New Feature&#45;&gt;Customer Satisfaction -->\n",
       "<g id=\"edge6\" class=\"edge\">\n",
       "<title>New Feature&#45;&gt;Customer Satisfaction</title>\n",
       "<path fill=\"none\" stroke=\"black\" d=\"M292.46,-144.41C299.72,-136.08 308.68,-125.8 316.79,-116.49\"/>\n",
       "<polygon fill=\"black\" stroke=\"black\" points=\"319.3,-118.94 323.23,-109.1 314.02,-114.34 319.3,-118.94\"/>\n",
       "</g>\n",
       "<!-- Response -->\n",
       "<g id=\"node10\" class=\"node\">\n",
       "<title>Response</title>\n",
       "<ellipse fill=\"lightgrey\" stroke=\"lightgrey\" cx=\"256\" cy=\"-18\" rx=\"46.23\" ry=\"18\"/>\n",
       "<text text-anchor=\"middle\" x=\"256\" y=\"-12.95\" font-family=\"Times,serif\" font-size=\"14.00\">Response</text>\n",
       "</g>\n",
       "<!-- New Feature&#45;&gt;Response -->\n",
       "<g id=\"edge10\" class=\"edge\">\n",
       "<title>New Feature&#45;&gt;Response</title>\n",
       "<path fill=\"none\" stroke=\"black\" d=\"M260.69,-144.61C251.75,-134.93 241.74,-121.87 237,-108 230.14,-87.91 235.71,-64.4 242.56,-46.58\"/>\n",
       "<polygon fill=\"black\" stroke=\"black\" points=\"245.75,-48.02 246.41,-37.45 239.3,-45.3 245.75,-48.02\"/>\n",
       "</g>\n",
       "<!-- Unknown Stuff -->\n",
       "<g id=\"node8\" class=\"node\">\n",
       "<title>Unknown Stuff</title>\n",
       "<ellipse fill=\"none\" stroke=\"black\" cx=\"453\" cy=\"-162\" rx=\"68.24\" ry=\"18\"/>\n",
       "<text text-anchor=\"middle\" x=\"453\" y=\"-156.95\" font-family=\"Times,serif\" font-size=\"14.00\">Unknown Stuff</text>\n",
       "</g>\n",
       "<!-- Unknown Stuff&#45;&gt;Customer Satisfaction -->\n",
       "<g id=\"edge7\" class=\"edge\">\n",
       "<title>Unknown Stuff&#45;&gt;Customer Satisfaction</title>\n",
       "<path fill=\"none\" stroke=\"black\" d=\"M426.85,-144.94C411.57,-135.56 392.06,-123.58 375.31,-113.3\"/>\n",
       "<polygon fill=\"black\" stroke=\"black\" points=\"377.47,-110.51 367.11,-108.26 373.8,-116.48 377.47,-110.51\"/>\n",
       "</g>\n",
       "<!-- Time in App -->\n",
       "<g id=\"node9\" class=\"node\">\n",
       "<title>Time in App</title>\n",
       "<ellipse fill=\"none\" stroke=\"black\" cx=\"509\" cy=\"-90\" rx=\"58.52\" ry=\"18\"/>\n",
       "<text text-anchor=\"middle\" x=\"509\" y=\"-84.95\" font-family=\"Times,serif\" font-size=\"14.00\">Time in App</text>\n",
       "</g>\n",
       "<!-- Unknown Stuff&#45;&gt;Time in App -->\n",
       "<g id=\"edge8\" class=\"edge\">\n",
       "<title>Unknown Stuff&#45;&gt;Time in App</title>\n",
       "<path fill=\"none\" stroke=\"black\" d=\"M466.56,-144.05C473.16,-135.8 481.24,-125.7 488.57,-116.54\"/>\n",
       "<polygon fill=\"black\" stroke=\"black\" points=\"491.11,-118.97 494.62,-108.97 485.64,-114.59 491.11,-118.97\"/>\n",
       "</g>\n",
       "<!-- Time in App&#45;&gt;Response -->\n",
       "<g id=\"edge9\" class=\"edge\">\n",
       "<title>Time in App&#45;&gt;Response</title>\n",
       "<path fill=\"none\" stroke=\"black\" d=\"M466.65,-77.28C421.69,-64.84 350.76,-45.22 303.82,-32.23\"/>\n",
       "<polygon fill=\"black\" stroke=\"black\" points=\"304.75,-28.86 294.18,-29.56 302.89,-35.6 304.75,-28.86\"/>\n",
       "</g>\n",
       "</g>\n",
       "</svg>\n"
      ],
      "text/plain": [
       "<graphviz.graphs.Digraph at 0x17ed7f210>"
      ]
     },
     "execution_count": 76,
     "metadata": {},
     "output_type": "execute_result"
    }
   ],
   "source": [
    "g = gr.Digraph()\n",
    "\n",
    "g.edge(\"U\", \"X\")\n",
    "g.edge(\"X\", \"S\")\n",
    "g.edge(\"U\", \"Y\")\n",
    "g.edge(\"T\", \"Y\")\n",
    "g.edge(\"T\", \"S\")\n",
    "g.node(\"S\", color=\"lightgrey\", style=\"filled\")\n",
    "\n",
    "g.edge(\"New Feature\", \"Customer Satisfaction\"),\n",
    "g.edge(\"Unknown Stuff\", \"Customer Satisfaction\"),\n",
    "g.edge(\"Unknown Stuff\", \"Time in App\"),\n",
    "g.edge(\"Time in App\", \"Response\"),\n",
    "g.edge(\"New Feature\", \"Response\"),\n",
    "\n",
    "g.node(\"Response\", \"Response\", color=\"lightgrey\", style=\"filled\")\n",
    "\n",
    "g"
   ]
  },
  {
   "cell_type": "code",
   "execution_count": 38,
   "metadata": {
    "ExecuteTime": {
     "end_time": "2023-06-25T15:09:33.077565Z",
     "start_time": "2023-06-25T15:09:32.864909Z"
    },
    "tags": [
     "hide-input"
    ]
   },
   "outputs": [
    {
     "data": {
      "image/svg+xml": [
       "<?xml version=\"1.0\" encoding=\"UTF-8\" standalone=\"no\"?>\n",
       "<!DOCTYPE svg PUBLIC \"-//W3C//DTD SVG 1.1//EN\"\n",
       " \"http://www.w3.org/Graphics/SVG/1.1/DTD/svg11.dtd\">\n",
       "<!-- Generated by graphviz version 10.0.1 (20240210.2158)\n",
       " -->\n",
       "<!-- Pages: 1 -->\n",
       "<svg width=\"422pt\" height=\"266pt\"\n",
       " viewBox=\"0.00 0.00 422.00 266.27\" xmlns=\"http://www.w3.org/2000/svg\" xmlns:xlink=\"http://www.w3.org/1999/xlink\">\n",
       "<g id=\"graph0\" class=\"graph\" transform=\"scale(1 1) rotate(0) translate(4 262.27)\">\n",
       "<polygon fill=\"white\" stroke=\"none\" points=\"-4,4 -4,-262.27 418,-262.27 418,4 -4,4\"/>\n",
       "<!-- X1 -->\n",
       "<g id=\"node1\" class=\"node\">\n",
       "<title>X1</title>\n",
       "<ellipse fill=\"none\" stroke=\"black\" cx=\"27\" cy=\"-173.27\" rx=\"27\" ry=\"18\"/>\n",
       "<text text-anchor=\"middle\" x=\"27\" y=\"-168.22\" font-family=\"Times,serif\" font-size=\"14.00\">X1</text>\n",
       "</g>\n",
       "<!-- U -->\n",
       "<g id=\"node2\" class=\"node\">\n",
       "<title>U</title>\n",
       "<ellipse fill=\"none\" stroke=\"black\" cx=\"117\" cy=\"-173.27\" rx=\"27\" ry=\"18\"/>\n",
       "<text text-anchor=\"middle\" x=\"117\" y=\"-168.22\" font-family=\"Times,serif\" font-size=\"14.00\">U</text>\n",
       "</g>\n",
       "<!-- X1&#45;&gt;U -->\n",
       "<g id=\"edge1\" class=\"edge\">\n",
       "<title>X1&#45;&gt;U</title>\n",
       "<path fill=\"none\" stroke=\"black\" d=\"M54.4,-173.27C61.89,-173.27 70.18,-173.27 78.2,-173.27\"/>\n",
       "<polygon fill=\"black\" stroke=\"black\" points=\"78.1,-176.77 88.1,-173.27 78.1,-169.77 78.1,-176.77\"/>\n",
       "</g>\n",
       "<!-- X2 -->\n",
       "<g id=\"node3\" class=\"node\">\n",
       "<title>X2</title>\n",
       "<ellipse fill=\"none\" stroke=\"black\" cx=\"207\" cy=\"-240.27\" rx=\"27\" ry=\"18\"/>\n",
       "<text text-anchor=\"middle\" x=\"207\" y=\"-235.22\" font-family=\"Times,serif\" font-size=\"14.00\">X2</text>\n",
       "</g>\n",
       "<!-- U&#45;&gt;X2 -->\n",
       "<g id=\"edge2\" class=\"edge\">\n",
       "<title>U&#45;&gt;X2</title>\n",
       "<path fill=\"none\" stroke=\"black\" d=\"M135.39,-186.51C147.96,-196.08 165.18,-209.19 179.46,-220.07\"/>\n",
       "<polygon fill=\"black\" stroke=\"black\" points=\"177.07,-222.64 187.14,-225.92 181.31,-217.07 177.07,-222.64\"/>\n",
       "</g>\n",
       "<!-- S -->\n",
       "<g id=\"node5\" class=\"node\">\n",
       "<title>S</title>\n",
       "<ellipse fill=\"lightgrey\" stroke=\"lightgrey\" cx=\"387\" cy=\"-94.27\" rx=\"27\" ry=\"18\"/>\n",
       "<text text-anchor=\"middle\" x=\"387\" y=\"-89.22\" font-family=\"Times,serif\" font-size=\"14.00\">S</text>\n",
       "</g>\n",
       "<!-- U&#45;&gt;S -->\n",
       "<g id=\"edge5\" class=\"edge\">\n",
       "<title>U&#45;&gt;S</title>\n",
       "<path fill=\"none\" stroke=\"black\" stroke-dasharray=\"5,2\" d=\"M142.4,-180.25C182.64,-190.33 264.35,-204.73 324,-175.27 346.4,-164.21 362.94,-140.73 373.28,-121.89\"/>\n",
       "<polygon fill=\"black\" stroke=\"black\" points=\"376.35,-123.57 377.82,-113.08 370.13,-120.37 376.35,-123.57\"/>\n",
       "</g>\n",
       "<!-- Y -->\n",
       "<g id=\"node6\" class=\"node\">\n",
       "<title>Y</title>\n",
       "<ellipse fill=\"none\" stroke=\"black\" cx=\"207\" cy=\"-94.27\" rx=\"27\" ry=\"18\"/>\n",
       "<text text-anchor=\"middle\" x=\"207\" y=\"-89.22\" font-family=\"Times,serif\" font-size=\"14.00\">Y</text>\n",
       "</g>\n",
       "<!-- U&#45;&gt;Y -->\n",
       "<g id=\"edge4\" class=\"edge\">\n",
       "<title>U&#45;&gt;Y</title>\n",
       "<path fill=\"none\" stroke=\"black\" stroke-dasharray=\"5,2\" d=\"M133.73,-159.15C147.04,-147.2 166.33,-129.89 181.63,-116.15\"/>\n",
       "<polygon fill=\"black\" stroke=\"black\" points=\"183.88,-118.84 188.98,-109.55 179.2,-113.63 183.88,-118.84\"/>\n",
       "</g>\n",
       "<!-- X3 -->\n",
       "<g id=\"node7\" class=\"node\">\n",
       "<title>X3</title>\n",
       "<ellipse fill=\"none\" stroke=\"black\" cx=\"297\" cy=\"-148.27\" rx=\"27\" ry=\"18\"/>\n",
       "<text text-anchor=\"middle\" x=\"297\" y=\"-143.22\" font-family=\"Times,serif\" font-size=\"14.00\">X3</text>\n",
       "</g>\n",
       "<!-- U&#45;&gt;X3 -->\n",
       "<g id=\"edge6\" class=\"edge\">\n",
       "<title>U&#45;&gt;X3</title>\n",
       "<path fill=\"none\" stroke=\"black\" d=\"M143.88,-169.64C174.2,-165.38 224.66,-158.29 259.08,-153.46\"/>\n",
       "<polygon fill=\"black\" stroke=\"black\" points=\"259.17,-156.98 268.59,-152.12 258.2,-150.05 259.17,-156.98\"/>\n",
       "</g>\n",
       "<!-- X5 -->\n",
       "<g id=\"node4\" class=\"node\">\n",
       "<title>X5</title>\n",
       "<ellipse fill=\"none\" stroke=\"black\" cx=\"297\" cy=\"-40.27\" rx=\"27\" ry=\"18\"/>\n",
       "<text text-anchor=\"middle\" x=\"297\" y=\"-35.22\" font-family=\"Times,serif\" font-size=\"14.00\">X5</text>\n",
       "</g>\n",
       "<!-- X5&#45;&gt;S -->\n",
       "<g id=\"edge3\" class=\"edge\">\n",
       "<title>X5&#45;&gt;S</title>\n",
       "<path fill=\"none\" stroke=\"black\" d=\"M317.53,-52.26C329.15,-59.39 344.11,-68.57 357.08,-76.53\"/>\n",
       "<polygon fill=\"black\" stroke=\"black\" points=\"354.88,-79.28 365.23,-81.53 358.54,-73.32 354.88,-79.28\"/>\n",
       "</g>\n",
       "<!-- X4 -->\n",
       "<g id=\"node8\" class=\"node\">\n",
       "<title>X4</title>\n",
       "<ellipse fill=\"none\" stroke=\"black\" cx=\"297\" cy=\"-94.27\" rx=\"27\" ry=\"18\"/>\n",
       "<text text-anchor=\"middle\" x=\"297\" y=\"-89.22\" font-family=\"Times,serif\" font-size=\"14.00\">X4</text>\n",
       "</g>\n",
       "<!-- Y&#45;&gt;X4 -->\n",
       "<g id=\"edge8\" class=\"edge\">\n",
       "<title>Y&#45;&gt;X4</title>\n",
       "<path fill=\"none\" stroke=\"black\" d=\"M234.4,-94.27C241.89,-94.27 250.18,-94.27 258.2,-94.27\"/>\n",
       "<polygon fill=\"black\" stroke=\"black\" points=\"258.1,-97.77 268.1,-94.27 258.1,-90.77 258.1,-97.77\"/>\n",
       "</g>\n",
       "<!-- X3&#45;&gt;S -->\n",
       "<g id=\"edge7\" class=\"edge\">\n",
       "<title>X3&#45;&gt;S</title>\n",
       "<path fill=\"none\" stroke=\"black\" d=\"M317.53,-136.29C329.15,-129.16 344.11,-119.98 357.08,-112.02\"/>\n",
       "<polygon fill=\"black\" stroke=\"black\" points=\"358.54,-115.23 365.23,-107.01 354.88,-109.26 358.54,-115.23\"/>\n",
       "</g>\n",
       "<!-- X4&#45;&gt;S -->\n",
       "<g id=\"edge9\" class=\"edge\">\n",
       "<title>X4&#45;&gt;S</title>\n",
       "<path fill=\"none\" stroke=\"black\" d=\"M324.4,-94.27C331.89,-94.27 340.18,-94.27 348.2,-94.27\"/>\n",
       "<polygon fill=\"black\" stroke=\"black\" points=\"348.1,-97.77 358.1,-94.27 348.1,-90.77 348.1,-97.77\"/>\n",
       "</g>\n",
       "<!-- T -->\n",
       "<g id=\"node9\" class=\"node\">\n",
       "<title>T</title>\n",
       "<ellipse fill=\"none\" stroke=\"black\" cx=\"117\" cy=\"-40.27\" rx=\"27\" ry=\"18\"/>\n",
       "<text text-anchor=\"middle\" x=\"117\" y=\"-35.22\" font-family=\"Times,serif\" font-size=\"14.00\">T</text>\n",
       "</g>\n",
       "<!-- T&#45;&gt;X5 -->\n",
       "<g id=\"edge10\" class=\"edge\">\n",
       "<title>T&#45;&gt;X5</title>\n",
       "<path fill=\"none\" stroke=\"black\" d=\"M144.26,-40.27C174.37,-40.27 223.96,-40.27 258.21,-40.27\"/>\n",
       "<polygon fill=\"black\" stroke=\"black\" points=\"258.11,-43.77 268.11,-40.27 258.11,-36.77 258.11,-43.77\"/>\n",
       "</g>\n",
       "<!-- T&#45;&gt;S -->\n",
       "<g id=\"edge12\" class=\"edge\">\n",
       "<title>T&#45;&gt;S</title>\n",
       "<path fill=\"none\" stroke=\"black\" stroke-dasharray=\"5,2\" d=\"M139.46,-29.9C178.4,-12.65 262.39,17.16 324,-13.27 346.4,-24.34 362.94,-47.81 373.28,-66.65\"/>\n",
       "<polygon fill=\"black\" stroke=\"black\" points=\"370.13,-68.18 377.82,-75.46 376.35,-64.97 370.13,-68.18\"/>\n",
       "</g>\n",
       "<!-- T&#45;&gt;Y -->\n",
       "<g id=\"edge11\" class=\"edge\">\n",
       "<title>T&#45;&gt;Y</title>\n",
       "<path fill=\"none\" stroke=\"black\" d=\"M137.53,-52.26C149.15,-59.39 164.11,-68.57 177.08,-76.53\"/>\n",
       "<polygon fill=\"black\" stroke=\"black\" points=\"174.88,-79.28 185.23,-81.53 178.54,-73.32 174.88,-79.28\"/>\n",
       "</g>\n",
       "</g>\n",
       "</svg>\n"
      ],
      "text/plain": [
       "<graphviz.graphs.Digraph at 0x17ed5ebd0>"
      ]
     },
     "execution_count": 38,
     "metadata": {},
     "output_type": "execute_result"
    }
   ],
   "source": [
    "g = gr.Digraph(graph_attr={\"rankdir\": \"LR\"})\n",
    "\n",
    "g.edge(\"X1\", \"U\")\n",
    "g.edge(\"U\", \"X2\")\n",
    "g.edge(\"X5\", \"S\")\n",
    "g.edge(\"U\", \"Y\",style=\"dashed\")\n",
    "g.edge(\"U\", \"S\",style=\"dashed\")\n",
    "g.edge(\"U\", \"X3\")\n",
    "g.edge(\"X3\", \"S\")\n",
    "g.edge(\"Y\", \"X4\")\n",
    "g.edge(\"X4\", \"S\")\n",
    "g.edge(\"T\", \"X5\")\n",
    "g.edge(\"T\", \"Y\")\n",
    "g.edge(\"T\", \"S\", style=\"dashed\")\n",
    "g.node(\"S\", color=\"lightgrey\", style=\"filled\")\n",
    "\n",
    "g"
   ]
  },
  {
   "cell_type": "code",
   "execution_count": 39,
   "metadata": {
    "ExecuteTime": {
     "end_time": "2023-06-25T15:09:33.083084Z",
     "start_time": "2023-06-25T15:09:33.079557Z"
    },
    "tags": [
     "hide-input"
    ]
   },
   "outputs": [],
   "source": [
    "g = gr.Digraph(graph_attr={\"rankdir\":\"LR\"})\n",
    "\n",
    "g.edge(\"Y\", \"X\")\n",
    "g.edge(\"T\", \"X\")\n",
    "g.edge(\"T\", \"Y\")\n",
    "\n",
    "g;"
   ]
  },
  {
   "cell_type": "markdown",
   "metadata": {},
   "source": [
    "### Conditioning on a Mediator\n"
   ]
  },
  {
   "cell_type": "code",
   "execution_count": 40,
   "metadata": {
    "ExecuteTime": {
     "end_time": "2023-06-25T15:09:33.283592Z",
     "start_time": "2023-06-25T15:09:33.084471Z"
    },
    "tags": [
     "hide-input"
    ]
   },
   "outputs": [
    {
     "data": {
      "image/svg+xml": [
       "<?xml version=\"1.0\" encoding=\"UTF-8\" standalone=\"no\"?>\n",
       "<!DOCTYPE svg PUBLIC \"-//W3C//DTD SVG 1.1//EN\"\n",
       " \"http://www.w3.org/Graphics/SVG/1.1/DTD/svg11.dtd\">\n",
       "<!-- Generated by graphviz version 10.0.1 (20240210.2158)\n",
       " -->\n",
       "<!-- Pages: 1 -->\n",
       "<svg width=\"309pt\" height=\"166pt\"\n",
       " viewBox=\"0.00 0.00 309.29 166.00\" xmlns=\"http://www.w3.org/2000/svg\" xmlns:xlink=\"http://www.w3.org/1999/xlink\">\n",
       "<g id=\"graph0\" class=\"graph\" transform=\"scale(1 1) rotate(0) translate(4 162)\">\n",
       "<polygon fill=\"white\" stroke=\"none\" points=\"-4,4 -4,-162 305.29,-162 305.29,4 -4,4\"/>\n",
       "<!-- T -->\n",
       "<g id=\"node1\" class=\"node\">\n",
       "<title>T</title>\n",
       "<ellipse fill=\"none\" stroke=\"black\" cx=\"38.56\" cy=\"-34\" rx=\"27\" ry=\"18\"/>\n",
       "<text text-anchor=\"middle\" x=\"38.56\" y=\"-28.95\" font-family=\"Times,serif\" font-size=\"14.00\">T</text>\n",
       "</g>\n",
       "<!-- M -->\n",
       "<g id=\"node2\" class=\"node\">\n",
       "<title>M</title>\n",
       "<ellipse fill=\"lightgrey\" stroke=\"lightgrey\" cx=\"156.27\" cy=\"-41\" rx=\"27\" ry=\"18\"/>\n",
       "<text text-anchor=\"middle\" x=\"156.27\" y=\"-35.95\" font-family=\"Times,serif\" font-size=\"14.00\">M</text>\n",
       "</g>\n",
       "<!-- T&#45;&gt;M -->\n",
       "<g id=\"edge1\" class=\"edge\">\n",
       "<title>T&#45;&gt;M</title>\n",
       "<path fill=\"none\" stroke=\"black\" d=\"M65.81,-35.59C81.2,-36.52 100.89,-37.71 117.88,-38.74\"/>\n",
       "<polygon fill=\"black\" stroke=\"black\" points=\"117.42,-42.22 127.61,-39.33 117.84,-35.23 117.42,-42.22\"/>\n",
       "</g>\n",
       "<!-- Y -->\n",
       "<g id=\"node3\" class=\"node\">\n",
       "<title>Y</title>\n",
       "<ellipse fill=\"none\" stroke=\"black\" cx=\"268.36\" cy=\"-18\" rx=\"27\" ry=\"18\"/>\n",
       "<text text-anchor=\"middle\" x=\"268.36\" y=\"-12.95\" font-family=\"Times,serif\" font-size=\"14.00\">Y</text>\n",
       "</g>\n",
       "<!-- T&#45;&gt;Y -->\n",
       "<g id=\"edge2\" class=\"edge\">\n",
       "<title>T&#45;&gt;Y</title>\n",
       "<path fill=\"none\" stroke=\"black\" d=\"M63.08,-25.89C77.36,-21.4 96.06,-16.28 113.11,-14 152.79,-8.7 198.69,-10.95 230.04,-13.74\"/>\n",
       "<polygon fill=\"black\" stroke=\"black\" points=\"229.51,-17.21 239.8,-14.68 230.18,-10.24 229.51,-17.21\"/>\n",
       "</g>\n",
       "<!-- M&#45;&gt;Y -->\n",
       "<g id=\"edge3\" class=\"edge\">\n",
       "<title>M&#45;&gt;Y</title>\n",
       "<path fill=\"none\" stroke=\"black\" d=\"M182.53,-35.72C196.94,-32.71 215.24,-28.89 231.15,-25.57\"/>\n",
       "<polygon fill=\"black\" stroke=\"black\" points=\"231.67,-29.03 240.74,-23.56 230.24,-22.18 231.67,-29.03\"/>\n",
       "</g>\n",
       "<!-- woman -->\n",
       "<g id=\"node4\" class=\"node\">\n",
       "<title>woman</title>\n",
       "<ellipse fill=\"none\" stroke=\"black\" cx=\"38.56\" cy=\"-107\" rx=\"38.56\" ry=\"18\"/>\n",
       "<text text-anchor=\"middle\" x=\"38.56\" y=\"-101.95\" font-family=\"Times,serif\" font-size=\"14.00\">woman</text>\n",
       "</g>\n",
       "<!-- seniority -->\n",
       "<g id=\"node5\" class=\"node\">\n",
       "<title>seniority</title>\n",
       "<ellipse fill=\"lightgrey\" stroke=\"lightgrey\" cx=\"156.27\" cy=\"-140\" rx=\"43.16\" ry=\"18\"/>\n",
       "<text text-anchor=\"middle\" x=\"156.27\" y=\"-134.95\" font-family=\"Times,serif\" font-size=\"14.00\">seniority</text>\n",
       "</g>\n",
       "<!-- woman&#45;&gt;seniority -->\n",
       "<g id=\"edge4\" class=\"edge\">\n",
       "<title>woman&#45;&gt;seniority</title>\n",
       "<path fill=\"none\" stroke=\"black\" d=\"M72.1,-116.28C83.68,-119.58 96.95,-123.37 109.43,-126.93\"/>\n",
       "<polygon fill=\"black\" stroke=\"black\" points=\"108.11,-130.19 118.69,-129.57 110.03,-123.46 108.11,-130.19\"/>\n",
       "</g>\n",
       "<!-- salary -->\n",
       "<g id=\"node6\" class=\"node\">\n",
       "<title>salary</title>\n",
       "<ellipse fill=\"none\" stroke=\"black\" cx=\"268.36\" cy=\"-117\" rx=\"32.93\" ry=\"18\"/>\n",
       "<text text-anchor=\"middle\" x=\"268.36\" y=\"-111.95\" font-family=\"Times,serif\" font-size=\"14.00\">salary</text>\n",
       "</g>\n",
       "<!-- woman&#45;&gt;salary -->\n",
       "<g id=\"edge5\" class=\"edge\">\n",
       "<title>woman&#45;&gt;salary</title>\n",
       "<path fill=\"none\" stroke=\"black\" d=\"M77.36,-108.19C109.76,-109.27 157.68,-110.99 199.44,-113 207.38,-113.38 215.84,-113.84 223.99,-114.31\"/>\n",
       "<polygon fill=\"black\" stroke=\"black\" points=\"223.54,-117.79 233.73,-114.88 223.95,-110.8 223.54,-117.79\"/>\n",
       "</g>\n",
       "<!-- seniority&#45;&gt;salary -->\n",
       "<g id=\"edge6\" class=\"edge\">\n",
       "<title>seniority&#45;&gt;salary</title>\n",
       "<path fill=\"none\" stroke=\"black\" d=\"M195.47,-132.02C205.4,-129.95 216.13,-127.7 226.2,-125.6\"/>\n",
       "<polygon fill=\"black\" stroke=\"black\" points=\"226.66,-129.08 235.73,-123.61 225.23,-122.23 226.66,-129.08\"/>\n",
       "</g>\n",
       "</g>\n",
       "</svg>\n"
      ],
      "text/plain": [
       "<graphviz.graphs.Digraph at 0x17ed5e990>"
      ]
     },
     "execution_count": 40,
     "metadata": {},
     "output_type": "execute_result"
    }
   ],
   "source": [
    "g = gr.Digraph(graph_attr={\"rankdir\": \"LR\"})\n",
    "g.edge(\"T\", \"M\")\n",
    "g.edge(\"T\", \"Y\")\n",
    "g.edge(\"M\", \"Y\")\n",
    "g.node(\"M\", color=\"lightgrey\", style=\"filled\")\n",
    "\n",
    "g.edge(\"woman\", \"seniority\")\n",
    "g.edge(\"woman\", \"salary\")\n",
    "g.edge(\"seniority\", \"salary\")\n",
    "g.node(\"seniority\", color=\"lightgrey\", style=\"filled\")\n",
    "\n",
    "g"
   ]
  },
  {
   "cell_type": "code",
   "execution_count": 41,
   "metadata": {
    "ExecuteTime": {
     "end_time": "2023-06-25T15:09:33.488061Z",
     "start_time": "2023-06-25T15:09:33.285736Z"
    },
    "tags": [
     "hide-input"
    ]
   },
   "outputs": [
    {
     "data": {
      "image/svg+xml": [
       "<?xml version=\"1.0\" encoding=\"UTF-8\" standalone=\"no\"?>\n",
       "<!DOCTYPE svg PUBLIC \"-//W3C//DTD SVG 1.1//EN\"\n",
       " \"http://www.w3.org/Graphics/SVG/1.1/DTD/svg11.dtd\">\n",
       "<!-- Generated by graphviz version 10.0.1 (20240210.2158)\n",
       " -->\n",
       "<!-- Pages: 1 -->\n",
       "<svg width=\"242pt\" height=\"98pt\"\n",
       " viewBox=\"0.00 0.00 242.00 98.00\" xmlns=\"http://www.w3.org/2000/svg\" xmlns:xlink=\"http://www.w3.org/1999/xlink\">\n",
       "<g id=\"graph0\" class=\"graph\" transform=\"scale(1 1) rotate(0) translate(4 94)\">\n",
       "<polygon fill=\"white\" stroke=\"none\" points=\"-4,4 -4,-94 238,-94 238,4 -4,4\"/>\n",
       "<!-- T -->\n",
       "<g id=\"node1\" class=\"node\">\n",
       "<title>T</title>\n",
       "<ellipse fill=\"none\" stroke=\"black\" cx=\"27\" cy=\"-49\" rx=\"27\" ry=\"18\"/>\n",
       "<text text-anchor=\"middle\" x=\"27\" y=\"-43.95\" font-family=\"Times,serif\" font-size=\"14.00\">T</text>\n",
       "</g>\n",
       "<!-- M -->\n",
       "<g id=\"node2\" class=\"node\">\n",
       "<title>M</title>\n",
       "<ellipse fill=\"none\" stroke=\"black\" cx=\"117\" cy=\"-26\" rx=\"27\" ry=\"18\"/>\n",
       "<text text-anchor=\"middle\" x=\"117\" y=\"-20.95\" font-family=\"Times,serif\" font-size=\"14.00\">M</text>\n",
       "</g>\n",
       "<!-- T&#45;&gt;M -->\n",
       "<g id=\"edge1\" class=\"edge\">\n",
       "<title>T&#45;&gt;M</title>\n",
       "<path fill=\"none\" stroke=\"black\" d=\"M52.51,-42.59C61.12,-40.34 70.97,-37.77 80.3,-35.33\"/>\n",
       "<polygon fill=\"black\" stroke=\"black\" points=\"81.06,-38.75 89.85,-32.83 79.29,-31.98 81.06,-38.75\"/>\n",
       "</g>\n",
       "<!-- Y -->\n",
       "<g id=\"node3\" class=\"node\">\n",
       "<title>Y</title>\n",
       "<ellipse fill=\"none\" stroke=\"black\" cx=\"207\" cy=\"-72\" rx=\"27\" ry=\"18\"/>\n",
       "<text text-anchor=\"middle\" x=\"207\" y=\"-66.95\" font-family=\"Times,serif\" font-size=\"14.00\">Y</text>\n",
       "</g>\n",
       "<!-- T&#45;&gt;Y -->\n",
       "<g id=\"edge2\" class=\"edge\">\n",
       "<title>T&#45;&gt;Y</title>\n",
       "<path fill=\"none\" stroke=\"black\" d=\"M53.88,-52.34C84.2,-56.26 134.66,-62.78 169.08,-67.23\"/>\n",
       "<polygon fill=\"black\" stroke=\"black\" points=\"168.22,-70.65 178.58,-68.46 169.12,-63.7 168.22,-70.65\"/>\n",
       "</g>\n",
       "<!-- M&#45;&gt;Y -->\n",
       "<g id=\"edge3\" class=\"edge\">\n",
       "<title>M&#45;&gt;Y</title>\n",
       "<path fill=\"none\" stroke=\"black\" d=\"M138.85,-36.9C149.63,-42.53 162.98,-49.51 174.94,-55.77\"/>\n",
       "<polygon fill=\"black\" stroke=\"black\" points=\"173.16,-58.79 183.65,-60.32 176.41,-52.58 173.16,-58.79\"/>\n",
       "</g>\n",
       "<!-- X -->\n",
       "<g id=\"node4\" class=\"node\">\n",
       "<title>X</title>\n",
       "<ellipse fill=\"lightgrey\" stroke=\"lightgrey\" cx=\"207\" cy=\"-18\" rx=\"27\" ry=\"18\"/>\n",
       "<text text-anchor=\"middle\" x=\"207\" y=\"-12.95\" font-family=\"Times,serif\" font-size=\"14.00\">X</text>\n",
       "</g>\n",
       "<!-- M&#45;&gt;X -->\n",
       "<g id=\"edge4\" class=\"edge\">\n",
       "<title>M&#45;&gt;X</title>\n",
       "<path fill=\"none\" stroke=\"black\" d=\"M143.93,-23.64C151.65,-22.94 160.26,-22.16 168.56,-21.4\"/>\n",
       "<polygon fill=\"black\" stroke=\"black\" points=\"168.8,-24.9 178.45,-20.5 168.17,-17.92 168.8,-24.9\"/>\n",
       "</g>\n",
       "</g>\n",
       "</svg>\n"
      ],
      "text/plain": [
       "<graphviz.graphs.Digraph at 0x17ed5f150>"
      ]
     },
     "execution_count": 41,
     "metadata": {},
     "output_type": "execute_result"
    }
   ],
   "source": [
    "g = gr.Digraph(graph_attr={\"rankdir\": \"LR\"})\n",
    "g.edge(\"T\", \"M\")\n",
    "g.edge(\"T\", \"Y\")\n",
    "g.edge(\"M\", \"Y\")\n",
    "g.edge(\"M\", \"X\")\n",
    "g.node(\"X\", color=\"lightgrey\", style=\"filled\")\n",
    "\n",
    "g"
   ]
  },
  {
   "cell_type": "markdown",
   "metadata": {},
   "source": [
    "## Key Ideas\n"
   ]
  },
  {
   "cell_type": "code",
   "execution_count": 42,
   "metadata": {
    "ExecuteTime": {
     "end_time": "2023-06-25T15:09:33.691694Z",
     "start_time": "2023-06-25T15:09:33.489722Z"
    },
    "tags": [
     "hide-input"
    ]
   },
   "outputs": [
    {
     "data": {
      "image/svg+xml": [
       "<?xml version=\"1.0\" encoding=\"UTF-8\" standalone=\"no\"?>\n",
       "<!DOCTYPE svg PUBLIC \"-//W3C//DTD SVG 1.1//EN\"\n",
       " \"http://www.w3.org/Graphics/SVG/1.1/DTD/svg11.dtd\">\n",
       "<!-- Generated by graphviz version 10.0.1 (20240210.2158)\n",
       " -->\n",
       "<!-- Pages: 1 -->\n",
       "<svg width=\"242pt\" height=\"78pt\"\n",
       " viewBox=\"0.00 0.00 242.00 78.20\" xmlns=\"http://www.w3.org/2000/svg\" xmlns:xlink=\"http://www.w3.org/1999/xlink\">\n",
       "<g id=\"graph0\" class=\"graph\" transform=\"scale(1 1) rotate(0) translate(4 74.2)\">\n",
       "<polygon fill=\"white\" stroke=\"none\" points=\"-4,4 -4,-74.2 238,-74.2 238,4 -4,4\"/>\n",
       "<!-- U -->\n",
       "<g id=\"node1\" class=\"node\">\n",
       "<title>U</title>\n",
       "<ellipse fill=\"none\" stroke=\"black\" cx=\"27\" cy=\"-21.05\" rx=\"27\" ry=\"18\"/>\n",
       "<text text-anchor=\"middle\" x=\"27\" y=\"-16\" font-family=\"Times,serif\" font-size=\"14.00\">U</text>\n",
       "</g>\n",
       "<!-- T -->\n",
       "<g id=\"node2\" class=\"node\">\n",
       "<title>T</title>\n",
       "<ellipse fill=\"none\" stroke=\"black\" cx=\"117\" cy=\"-49.05\" rx=\"27\" ry=\"18\"/>\n",
       "<text text-anchor=\"middle\" x=\"117\" y=\"-44\" font-family=\"Times,serif\" font-size=\"14.00\">T</text>\n",
       "</g>\n",
       "<!-- U&#45;&gt;T -->\n",
       "<g id=\"edge1\" class=\"edge\">\n",
       "<title>U&#45;&gt;T</title>\n",
       "<path fill=\"none\" stroke=\"black\" d=\"M51.58,-28.55C60.68,-31.45 71.28,-34.82 81.22,-37.98\"/>\n",
       "<polygon fill=\"black\" stroke=\"black\" points=\"80.01,-41.27 90.6,-40.97 82.14,-34.6 80.01,-41.27\"/>\n",
       "</g>\n",
       "<!-- Y -->\n",
       "<g id=\"node3\" class=\"node\">\n",
       "<title>Y</title>\n",
       "<ellipse fill=\"none\" stroke=\"black\" cx=\"207\" cy=\"-21.05\" rx=\"27\" ry=\"18\"/>\n",
       "<text text-anchor=\"middle\" x=\"207\" y=\"-16\" font-family=\"Times,serif\" font-size=\"14.00\">Y</text>\n",
       "</g>\n",
       "<!-- U&#45;&gt;Y -->\n",
       "<g id=\"edge2\" class=\"edge\">\n",
       "<title>U&#45;&gt;Y</title>\n",
       "<path fill=\"none\" stroke=\"black\" d=\"M54.26,-21.05C84.37,-21.05 133.96,-21.05 168.21,-21.05\"/>\n",
       "<polygon fill=\"black\" stroke=\"black\" points=\"168.11,-24.55 178.11,-21.05 168.11,-17.55 168.11,-24.55\"/>\n",
       "</g>\n",
       "<!-- T&#45;&gt;Y -->\n",
       "<g id=\"edge3\" class=\"edge\">\n",
       "<title>T&#45;&gt;Y</title>\n",
       "<path fill=\"none\" stroke=\"black\" d=\"M141.58,-41.55C150.68,-38.65 161.28,-35.28 171.22,-32.12\"/>\n",
       "<polygon fill=\"black\" stroke=\"black\" points=\"172.14,-35.5 180.6,-29.13 170.01,-28.83 172.14,-35.5\"/>\n",
       "</g>\n",
       "</g>\n",
       "</svg>\n"
      ],
      "text/plain": [
       "<graphviz.graphs.Digraph at 0x17ed4d590>"
      ]
     },
     "execution_count": 42,
     "metadata": {},
     "output_type": "execute_result"
    }
   ],
   "source": [
    "g = gr.Digraph(graph_attr={\"rankdir\":\"LR\", \"ratio\": \"0.3\"})\n",
    "g.edge(\"U\", \"T\")\n",
    "g.edge(\"U\", \"Y\")\n",
    "g.edge(\"T\", \"Y\")\n",
    "\n",
    "g"
   ]
  },
  {
   "cell_type": "code",
   "execution_count": 43,
   "metadata": {
    "ExecuteTime": {
     "end_time": "2023-06-25T15:09:33.906872Z",
     "start_time": "2023-06-25T15:09:33.693870Z"
    },
    "tags": [
     "hide-input"
    ]
   },
   "outputs": [
    {
     "data": {
      "image/svg+xml": [
       "<?xml version=\"1.0\" encoding=\"UTF-8\" standalone=\"no\"?>\n",
       "<!DOCTYPE svg PUBLIC \"-//W3C//DTD SVG 1.1//EN\"\n",
       " \"http://www.w3.org/Graphics/SVG/1.1/DTD/svg11.dtd\">\n",
       "<!-- Generated by graphviz version 10.0.1 (20240210.2158)\n",
       " -->\n",
       "<!-- Pages: 1 -->\n",
       "<svg width=\"332pt\" height=\"105pt\"\n",
       " viewBox=\"0.00 0.00 332.00 105.00\" xmlns=\"http://www.w3.org/2000/svg\" xmlns:xlink=\"http://www.w3.org/1999/xlink\">\n",
       "<g id=\"graph0\" class=\"graph\" transform=\"scale(1 1) rotate(0) translate(4 101)\">\n",
       "<polygon fill=\"white\" stroke=\"none\" points=\"-4,4 -4,-101 328,-101 328,4 -4,4\"/>\n",
       "<!-- T -->\n",
       "<g id=\"node1\" class=\"node\">\n",
       "<title>T</title>\n",
       "<ellipse fill=\"none\" stroke=\"black\" cx=\"27\" cy=\"-33\" rx=\"27\" ry=\"18\"/>\n",
       "<text text-anchor=\"middle\" x=\"27\" y=\"-27.95\" font-family=\"Times,serif\" font-size=\"14.00\">T</text>\n",
       "</g>\n",
       "<!-- M -->\n",
       "<g id=\"node2\" class=\"node\">\n",
       "<title>M</title>\n",
       "<ellipse fill=\"lightgrey\" stroke=\"lightgrey\" cx=\"117\" cy=\"-79\" rx=\"27\" ry=\"18\"/>\n",
       "<text text-anchor=\"middle\" x=\"117\" y=\"-73.95\" font-family=\"Times,serif\" font-size=\"14.00\">M</text>\n",
       "</g>\n",
       "<!-- T&#45;&gt;M -->\n",
       "<g id=\"edge1\" class=\"edge\">\n",
       "<title>T&#45;&gt;M</title>\n",
       "<path fill=\"none\" stroke=\"black\" d=\"M48.85,-43.9C59.63,-49.53 72.98,-56.51 84.94,-62.77\"/>\n",
       "<polygon fill=\"black\" stroke=\"black\" points=\"83.16,-65.79 93.65,-67.32 86.41,-59.58 83.16,-65.79\"/>\n",
       "</g>\n",
       "<!-- Y -->\n",
       "<g id=\"node3\" class=\"node\">\n",
       "<title>Y</title>\n",
       "<ellipse fill=\"none\" stroke=\"black\" cx=\"207\" cy=\"-41\" rx=\"27\" ry=\"18\"/>\n",
       "<text text-anchor=\"middle\" x=\"207\" y=\"-35.95\" font-family=\"Times,serif\" font-size=\"14.00\">Y</text>\n",
       "</g>\n",
       "<!-- T&#45;&gt;Y -->\n",
       "<g id=\"edge3\" class=\"edge\">\n",
       "<title>T&#45;&gt;Y</title>\n",
       "<path fill=\"none\" stroke=\"black\" d=\"M54.26,-34.18C84.37,-35.53 133.96,-37.76 168.21,-39.3\"/>\n",
       "<polygon fill=\"black\" stroke=\"black\" points=\"167.97,-42.79 178.12,-39.75 168.28,-35.8 167.97,-42.79\"/>\n",
       "</g>\n",
       "<!-- S -->\n",
       "<g id=\"node4\" class=\"node\">\n",
       "<title>S</title>\n",
       "<ellipse fill=\"lightgrey\" stroke=\"lightgrey\" cx=\"297\" cy=\"-18\" rx=\"27\" ry=\"18\"/>\n",
       "<text text-anchor=\"middle\" x=\"297\" y=\"-12.95\" font-family=\"Times,serif\" font-size=\"14.00\">S</text>\n",
       "</g>\n",
       "<!-- T&#45;&gt;S -->\n",
       "<g id=\"edge4\" class=\"edge\">\n",
       "<title>T&#45;&gt;S</title>\n",
       "<path fill=\"none\" stroke=\"black\" d=\"M53.73,-28.79C83.88,-24.09 135.41,-16.78 180,-14 203.95,-12.51 210.01,-13.23 234,-14 241.9,-14.25 250.35,-14.69 258.39,-15.18\"/>\n",
       "<polygon fill=\"black\" stroke=\"black\" points=\"258.05,-18.67 268.26,-15.83 258.51,-11.68 258.05,-18.67\"/>\n",
       "</g>\n",
       "<!-- M&#45;&gt;Y -->\n",
       "<g id=\"edge2\" class=\"edge\">\n",
       "<title>M&#45;&gt;Y</title>\n",
       "<path fill=\"none\" stroke=\"black\" d=\"M140.21,-69.41C150.21,-65.09 162.23,-59.9 173.24,-55.15\"/>\n",
       "<polygon fill=\"black\" stroke=\"black\" points=\"174.62,-58.36 182.41,-51.19 171.84,-51.94 174.62,-58.36\"/>\n",
       "</g>\n",
       "<!-- Y&#45;&gt;S -->\n",
       "<g id=\"edge5\" class=\"edge\">\n",
       "<title>Y&#45;&gt;S</title>\n",
       "<path fill=\"none\" stroke=\"black\" d=\"M232.51,-34.59C241.12,-32.34 250.97,-29.77 260.3,-27.33\"/>\n",
       "<polygon fill=\"black\" stroke=\"black\" points=\"261.06,-30.75 269.85,-24.83 259.29,-23.98 261.06,-30.75\"/>\n",
       "</g>\n",
       "</g>\n",
       "</svg>\n"
      ],
      "text/plain": [
       "<graphviz.graphs.Digraph at 0x17ed69110>"
      ]
     },
     "execution_count": 43,
     "metadata": {},
     "output_type": "execute_result"
    }
   ],
   "source": [
    "g = gr.Digraph(graph_attr={\"rankdir\":\"LR\"})\n",
    "g.edge(\"T\", \"M\")\n",
    "g.edge(\"M\", \"Y\")\n",
    "g.edge(\"T\", \"Y\")\n",
    "g.edge(\"T\", \"S\")\n",
    "g.edge(\"Y\", \"S\")\n",
    "\n",
    "g.node(\"M\", color=\"lightgrey\", style=\"filled\")\n",
    "g.node(\"S\", color=\"lightgrey\", style=\"filled\")\n",
    "\n",
    "g"
   ]
  },
  {
   "cell_type": "code",
   "execution_count": 44,
   "metadata": {
    "ExecuteTime": {
     "end_time": "2023-06-25T15:09:34.134806Z",
     "start_time": "2023-06-25T15:09:33.909096Z"
    },
    "tags": [
     "hide-input"
    ]
   },
   "outputs": [
    {
     "data": {
      "image/svg+xml": [
       "<?xml version=\"1.0\" encoding=\"UTF-8\" standalone=\"no\"?>\n",
       "<!DOCTYPE svg PUBLIC \"-//W3C//DTD SVG 1.1//EN\"\n",
       " \"http://www.w3.org/Graphics/SVG/1.1/DTD/svg11.dtd\">\n",
       "<!-- Generated by graphviz version 10.0.1 (20240210.2158)\n",
       " -->\n",
       "<!-- Pages: 1 -->\n",
       "<svg width=\"485pt\" height=\"67pt\"\n",
       " viewBox=\"0.00 0.00 484.76 67.00\" xmlns=\"http://www.w3.org/2000/svg\" xmlns:xlink=\"http://www.w3.org/1999/xlink\">\n",
       "<g id=\"graph0\" class=\"graph\" transform=\"scale(1 1) rotate(0) translate(4 63)\">\n",
       "<polygon fill=\"white\" stroke=\"none\" points=\"-4,4 -4,-63 480.76,-63 480.76,4 -4,4\"/>\n",
       "<!-- T -->\n",
       "<g id=\"node1\" class=\"node\">\n",
       "<title>T</title>\n",
       "<ellipse fill=\"none\" stroke=\"black\" cx=\"27\" cy=\"-18\" rx=\"27\" ry=\"18\"/>\n",
       "<text text-anchor=\"middle\" x=\"27\" y=\"-12.95\" font-family=\"Times,serif\" font-size=\"14.00\">T</text>\n",
       "</g>\n",
       "<!-- In&#45;Game Purchase -->\n",
       "<g id=\"node2\" class=\"node\">\n",
       "<title>In&#45;Game Purchase</title>\n",
       "<ellipse fill=\"none\" stroke=\"black\" cx=\"170.01\" cy=\"-41\" rx=\"80.01\" ry=\"18\"/>\n",
       "<text text-anchor=\"middle\" x=\"170.01\" y=\"-35.95\" font-family=\"Times,serif\" font-size=\"14.00\">In&#45;Game Purchase</text>\n",
       "</g>\n",
       "<!-- T&#45;&gt;In&#45;Game Purchase -->\n",
       "<g id=\"edge1\" class=\"edge\">\n",
       "<title>T&#45;&gt;In&#45;Game Purchase</title>\n",
       "<path fill=\"none\" stroke=\"black\" d=\"M53.54,-22.17C64.75,-23.99 78.56,-26.25 92.69,-28.55\"/>\n",
       "<polygon fill=\"black\" stroke=\"black\" points=\"92.11,-32 102.55,-30.16 93.24,-25.09 92.11,-32\"/>\n",
       "</g>\n",
       "<!-- In&#45;Game Purchase &gt; 0 -->\n",
       "<g id=\"node3\" class=\"node\">\n",
       "<title>In&#45;Game Purchase &gt; 0</title>\n",
       "<ellipse fill=\"lightgrey\" stroke=\"lightgrey\" cx=\"381.39\" cy=\"-18\" rx=\"95.37\" ry=\"18\"/>\n",
       "<text text-anchor=\"middle\" x=\"381.39\" y=\"-12.95\" font-family=\"Times,serif\" font-size=\"14.00\">In&#45;Game Purchase &gt; 0</text>\n",
       "</g>\n",
       "<!-- T&#45;&gt;In&#45;Game Purchase &gt; 0 -->\n",
       "<g id=\"edge2\" class=\"edge\">\n",
       "<title>T&#45;&gt;In&#45;Game Purchase &gt; 0</title>\n",
       "<path fill=\"none\" stroke=\"black\" d=\"M54.23,-15.93C65.26,-15.16 78.25,-14.38 90,-14 151.76,-12.01 220.94,-12.84 276.28,-14.25\"/>\n",
       "<polygon fill=\"black\" stroke=\"black\" points=\"275.92,-17.74 286.01,-14.51 276.1,-10.74 275.92,-17.74\"/>\n",
       "</g>\n",
       "<!-- In&#45;Game Purchase&#45;&gt;In&#45;Game Purchase &gt; 0 -->\n",
       "<g id=\"edge3\" class=\"edge\">\n",
       "<title>In&#45;Game Purchase&#45;&gt;In&#45;Game Purchase &gt; 0</title>\n",
       "<path fill=\"none\" stroke=\"black\" d=\"M242.78,-33.12C256.93,-31.56 271.97,-29.91 286.72,-28.29\"/>\n",
       "<polygon fill=\"black\" stroke=\"black\" points=\"286.86,-31.8 296.42,-27.22 286.09,-24.84 286.86,-31.8\"/>\n",
       "</g>\n",
       "</g>\n",
       "</svg>\n"
      ],
      "text/plain": [
       "<graphviz.graphs.Digraph at 0x17ed5ca10>"
      ]
     },
     "execution_count": 44,
     "metadata": {},
     "output_type": "execute_result"
    }
   ],
   "source": [
    "g = gr.Digraph(graph_attr={\"rankdir\":\"LR\"})\n",
    "g.edge(\"T\", \"In-Game Purchase\")\n",
    "g.edge(\"T\", \"In-Game Purchase > 0\")\n",
    "g.edge(\"In-Game Purchase\", \"In-Game Purchase > 0\")\n",
    "\n",
    "g.node(\"In-Game Purchase > 0\", color=\"lightgrey\", style=\"filled\")\n",
    "\n",
    "g"
   ]
  },
  {
   "cell_type": "code",
   "execution_count": 45,
   "metadata": {
    "ExecuteTime": {
     "end_time": "2023-06-25T15:09:34.357947Z",
     "start_time": "2023-06-25T15:09:34.136697Z"
    },
    "tags": [
     "hide-input"
    ]
   },
   "outputs": [
    {
     "data": {
      "image/svg+xml": [
       "<?xml version=\"1.0\" encoding=\"UTF-8\" standalone=\"no\"?>\n",
       "<!DOCTYPE svg PUBLIC \"-//W3C//DTD SVG 1.1//EN\"\n",
       " \"http://www.w3.org/Graphics/SVG/1.1/DTD/svg11.dtd\">\n",
       "<!-- Generated by graphviz version 10.0.1 (20240210.2158)\n",
       " -->\n",
       "<!-- Pages: 1 -->\n",
       "<svg width=\"640pt\" height=\"109pt\"\n",
       " viewBox=\"0.00 0.00 640.43 109.00\" xmlns=\"http://www.w3.org/2000/svg\" xmlns:xlink=\"http://www.w3.org/1999/xlink\">\n",
       "<g id=\"graph0\" class=\"graph\" transform=\"scale(1 1) rotate(0) translate(4 105)\">\n",
       "<polygon fill=\"white\" stroke=\"none\" points=\"-4,4 -4,-105 636.43,-105 636.43,4 -4,4\"/>\n",
       "<!-- loan amount -->\n",
       "<g id=\"node1\" class=\"node\">\n",
       "<title>loan amount</title>\n",
       "<ellipse fill=\"none\" stroke=\"black\" cx=\"57.49\" cy=\"-83\" rx=\"57.49\" ry=\"18\"/>\n",
       "<text text-anchor=\"middle\" x=\"57.49\" y=\"-77.95\" font-family=\"Times,serif\" font-size=\"14.00\">loan amount</text>\n",
       "</g>\n",
       "<!-- Default at yr=1 -->\n",
       "<g id=\"node2\" class=\"node\">\n",
       "<title>Default at yr=1</title>\n",
       "<ellipse fill=\"lightgrey\" stroke=\"lightgrey\" cx=\"219.23\" cy=\"-79\" rx=\"68.24\" ry=\"18\"/>\n",
       "<text text-anchor=\"middle\" x=\"219.23\" y=\"-73.95\" font-family=\"Times,serif\" font-size=\"14.00\">Default at yr=1</text>\n",
       "</g>\n",
       "<!-- loan amount&#45;&gt;Default at yr=1 -->\n",
       "<g id=\"edge1\" class=\"edge\">\n",
       "<title>loan amount&#45;&gt;Default at yr=1</title>\n",
       "<path fill=\"none\" stroke=\"black\" d=\"M115.26,-81.58C123.12,-81.38 131.31,-81.18 139.48,-80.97\"/>\n",
       "<polygon fill=\"black\" stroke=\"black\" points=\"139.57,-84.47 149.48,-80.72 139.4,-77.47 139.57,-84.47\"/>\n",
       "</g>\n",
       "<!-- Default at yr=2 -->\n",
       "<g id=\"node3\" class=\"node\">\n",
       "<title>Default at yr=2</title>\n",
       "<ellipse fill=\"darkgrey\" stroke=\"darkgrey\" cx=\"391.71\" cy=\"-41\" rx=\"68.24\" ry=\"18\"/>\n",
       "<text text-anchor=\"middle\" x=\"391.71\" y=\"-35.95\" font-family=\"Times,serif\" font-size=\"14.00\">Default at yr=2</text>\n",
       "</g>\n",
       "<!-- Default at yr=1&#45;&gt;Default at yr=2 -->\n",
       "<g id=\"edge2\" class=\"edge\">\n",
       "<title>Default at yr=1&#45;&gt;Default at yr=2</title>\n",
       "<path fill=\"none\" stroke=\"black\" d=\"M272.3,-67.39C289.66,-63.52 309.18,-59.17 327.3,-55.13\"/>\n",
       "<polygon fill=\"black\" stroke=\"black\" points=\"327.89,-58.59 336.89,-53 326.37,-51.76 327.89,-58.59\"/>\n",
       "</g>\n",
       "<!-- Default at yr=3 -->\n",
       "<g id=\"node4\" class=\"node\">\n",
       "<title>Default at yr=3</title>\n",
       "<ellipse fill=\"none\" stroke=\"black\" cx=\"564.19\" cy=\"-18\" rx=\"68.24\" ry=\"18\"/>\n",
       "<text text-anchor=\"middle\" x=\"564.19\" y=\"-12.95\" font-family=\"Times,serif\" font-size=\"14.00\">Default at yr=3</text>\n",
       "</g>\n",
       "<!-- Default at yr=2&#45;&gt;Default at yr=3 -->\n",
       "<g id=\"edge3\" class=\"edge\">\n",
       "<title>Default at yr=2&#45;&gt;Default at yr=3</title>\n",
       "<path fill=\"none\" stroke=\"black\" d=\"M453.3,-32.83C465.73,-31.15 478.93,-29.37 491.71,-27.64\"/>\n",
       "<polygon fill=\"black\" stroke=\"black\" points=\"491.86,-31.16 501.3,-26.35 490.92,-24.22 491.86,-31.16\"/>\n",
       "</g>\n",
       "<!-- U -->\n",
       "<g id=\"node5\" class=\"node\">\n",
       "<title>U</title>\n",
       "<ellipse fill=\"none\" stroke=\"black\" cx=\"57.49\" cy=\"-29\" rx=\"27\" ry=\"18\"/>\n",
       "<text text-anchor=\"middle\" x=\"57.49\" y=\"-23.95\" font-family=\"Times,serif\" font-size=\"14.00\">U</text>\n",
       "</g>\n",
       "<!-- U&#45;&gt;Default at yr=1 -->\n",
       "<g id=\"edge4\" class=\"edge\">\n",
       "<title>U&#45;&gt;Default at yr=1</title>\n",
       "<path fill=\"none\" stroke=\"black\" d=\"M82.41,-36.49C103.69,-43.15 135.63,-53.14 163.18,-61.77\"/>\n",
       "<polygon fill=\"black\" stroke=\"black\" points=\"161.86,-65.02 172.45,-64.67 163.95,-58.34 161.86,-65.02\"/>\n",
       "</g>\n",
       "<!-- U&#45;&gt;Default at yr=2 -->\n",
       "<g id=\"edge5\" class=\"edge\">\n",
       "<title>U&#45;&gt;Default at yr=2</title>\n",
       "<path fill=\"none\" stroke=\"black\" d=\"M84.84,-29.95C133.42,-31.71 238.86,-35.51 312.27,-38.17\"/>\n",
       "<polygon fill=\"black\" stroke=\"black\" points=\"312.13,-41.66 322.25,-38.53 312.38,-34.67 312.13,-41.66\"/>\n",
       "</g>\n",
       "<!-- U&#45;&gt;Default at yr=3 -->\n",
       "<g id=\"edge6\" class=\"edge\">\n",
       "<title>U&#45;&gt;Default at yr=3</title>\n",
       "<path fill=\"none\" stroke=\"black\" d=\"M84.8,-27.02C132.39,-23.54 235.96,-16.47 323.47,-14 384.1,-12.29 399.3,-12.83 459.95,-14 468.09,-14.16 476.58,-14.38 485.06,-14.65\"/>\n",
       "<polygon fill=\"black\" stroke=\"black\" points=\"484.93,-18.15 495.05,-14.99 485.17,-11.15 484.93,-18.15\"/>\n",
       "</g>\n",
       "</g>\n",
       "</svg>\n"
      ],
      "text/plain": [
       "<graphviz.graphs.Digraph at 0x17ec1a310>"
      ]
     },
     "execution_count": 45,
     "metadata": {},
     "output_type": "execute_result"
    }
   ],
   "source": [
    "g = gr.Digraph(graph_attr={\"rankdir\": \"LR\"})\n",
    "g.edge(\"loan amount\", \"Default at yr=1\")\n",
    "g.edge(\"Default at yr=1\", \"Default at yr=2\")\n",
    "g.edge(\"Default at yr=2\", \"Default at yr=3\")\n",
    "g.edge(\"U\", \"Default at yr=1\")\n",
    "g.edge(\"U\", \"Default at yr=2\")\n",
    "g.edge(\"U\", \"Default at yr=3\")\n",
    "\n",
    "g.node(\"Default at yr=1\", color=\"lightgrey\", style=\"filled\")\n",
    "g.node(\"Default at yr=2\", color=\"darkgrey\", style=\"filled\")\n",
    "\n",
    "g"
   ]
  },
  {
   "cell_type": "code",
   "execution_count": null,
   "metadata": {},
   "outputs": [],
   "source": []
  }
 ],
 "metadata": {
  "celltoolbar": "Tags",
  "kernelspec": {
   "display_name": "Python 3 (ipykernel)",
   "language": "python",
   "name": "python3"
  },
  "language_info": {
   "codemirror_mode": {
    "name": "ipython",
    "version": 3
   },
   "file_extension": ".py",
   "mimetype": "text/x-python",
   "name": "python",
   "nbconvert_exporter": "python",
   "pygments_lexer": "ipython3",
   "version": "3.11.8"
  },
  "toc": {
   "base_numbering": 1,
   "nav_menu": {},
   "number_sections": true,
   "sideBar": true,
   "skip_h1_title": false,
   "title_cell": "Table of Contents",
   "title_sidebar": "Contents",
   "toc_cell": false,
   "toc_position": {},
   "toc_section_display": true,
   "toc_window_display": false
  },
  "varInspector": {
   "cols": {
    "lenName": 16,
    "lenType": 16,
    "lenVar": 40
   },
   "kernels_config": {
    "python": {
     "delete_cmd_postfix": "",
     "delete_cmd_prefix": "del ",
     "library": "var_list.py",
     "varRefreshCmd": "print(var_dic_list())"
    },
    "r": {
     "delete_cmd_postfix": ") ",
     "delete_cmd_prefix": "rm(",
     "library": "var_list.r",
     "varRefreshCmd": "cat(var_dic_list()) "
    }
   },
   "types_to_exclude": [
    "module",
    "function",
    "builtin_function_or_method",
    "instance",
    "_Feature"
   ],
   "window_display": false
  }
 },
 "nbformat": 4,
 "nbformat_minor": 2
}
