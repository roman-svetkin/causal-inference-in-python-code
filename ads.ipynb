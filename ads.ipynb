{
 "cells": [
  {
   "cell_type": "code",
   "execution_count": 17,
   "metadata": {},
   "outputs": [
    {
     "name": "stdout",
     "output_type": "stream",
     "text": [
      "Target not found in list\n"
     ]
    }
   ],
   "source": [
    "def linear_search(list: list[int], target: int) -> int | None:\n",
    "    \"\"\"\n",
    "    Returns the index position of the target if found, else returns None\n",
    "\n",
    "    Parameters:\n",
    "        list (list[int]): asdasd\n",
    "        target (int): asdasd\n",
    "\n",
    "    Returns:\n",
    "        int | None\n",
    "    \"\"\"\n",
    "\n",
    "    for i in range (len(list)):\n",
    "        if list[i] == target:\n",
    "            return i\n",
    "    return None\n",
    "    \n",
    "def verify(index: int) -> str:\n",
    "    \"\"\"\n",
    "    Verify linear_search\n",
    "    \"\"\"\n",
    "    if index is not None:\n",
    "        print(f\"Target found at {index}\")\n",
    "    else:\n",
    "        print(\"Target not found in list\")\n",
    "\n",
    "numbers = [i for i in range(1, 11)]\n",
    "\n",
    "verify(linear_search(numbers, 11))"
   ]
  },
  {
   "cell_type": "code",
   "execution_count": 92,
   "metadata": {},
   "outputs": [],
   "source": [
    "def binary_search(target: int, min: int, max: int) -> str:\n",
    "    \"\"\"Perform binary search\"\"\"\n",
    "    if min > max:\n",
    "        return \"incorrect settings\"\n",
    "    n = min + (max - min) // 2\n",
    "    if n == target:\n",
    "        print(f\"Done, {n} target found\")\n",
    "    elif n > target:\n",
    "        s = int(n / 2)\n",
    "        print(target, n, s, max)\n",
    "        if s == target:\n",
    "            print(f\"Done, {s} target found\")\n",
    "        elif target > s:\n",
    "            binary_search(target, s, n)\n",
    "        elif target < s:\n",
    "            binary_search(target, min, s)\n",
    "    elif n < target:\n",
    "        s = int((max + n) / 2)\n",
    "        print(target, n, s, max)\n",
    "        if s == target:\n",
    "            print(f\"Done, {s} target found\")\n",
    "        elif target > n:\n",
    "            binary_search(target, s, max)\n",
    "        elif target < n:\n",
    "            binary_search(target, n, s)\n"
   ]
  },
  {
   "cell_type": "code",
   "execution_count": 101,
   "metadata": {},
   "outputs": [],
   "source": [
    "def binary_search(target: int, min: int, max: int) -> bool:\n",
    "    \"\"\"Perform binary search\"\"\"\n",
    "    if min > max:\n",
    "        return False\n",
    "    mid = min + (max - min) // 2\n",
    "    print(mid)\n",
    "    if target == mid:\n",
    "        print(f\"{target} target is found by {mid} mid\")\n",
    "        return True\n",
    "    if mid > target:\n",
    "        print(target, min, mid - 1)\n",
    "        return binary_search(target, min, mid - 1)\n",
    "    if mid < target:\n",
    "        print(target, mid + 1, max)\n",
    "        return binary_search(target, mid + 1, max) "
   ]
  },
  {
   "cell_type": "code",
   "execution_count": 103,
   "metadata": {},
   "outputs": [
    {
     "name": "stdout",
     "output_type": "stream",
     "text": [
      "50\n",
      "99 51 100\n",
      "75\n",
      "99 76 100\n",
      "88\n",
      "99 89 100\n",
      "94\n",
      "99 95 100\n",
      "97\n",
      "99 98 100\n",
      "99\n",
      "99 target is found by 99 mid\n"
     ]
    },
    {
     "data": {
      "text/plain": [
       "True"
      ]
     },
     "execution_count": 103,
     "metadata": {},
     "output_type": "execute_result"
    }
   ],
   "source": [
    "binary_search(99, 0, 100)"
   ]
  },
  {
   "cell_type": "code",
   "execution_count": 3,
   "metadata": {},
   "outputs": [
    {
     "name": "stdout",
     "output_type": "stream",
     "text": [
      "Target found at 3\n"
     ]
    }
   ],
   "source": [
    "def binary_search(list: list[int], target: int) -> int | None:\n",
    "    \"\"\"\n",
    "    bibary_search\n",
    "    \"\"\"\n",
    "    first = 0\n",
    "    last = len(list) - 1\n",
    "    \n",
    "    while first <= last:\n",
    "        midpoint = (first + last) // 2\n",
    "\n",
    "        if list[midpoint] == target:\n",
    "            return midpoint\n",
    "        elif list[midpoint] < target:\n",
    "            first = midpoint + 1\n",
    "        else:   \n",
    "            last = midpoint - 1\n",
    "    \n",
    "    return None\n",
    "\n",
    "def verify(index: int) -> str:\n",
    "    \"\"\"\n",
    "    Verify linear_search\n",
    "    \"\"\"\n",
    "    if index is not None:\n",
    "        print(f\"Target found at {index}\")\n",
    "    else:\n",
    "        print(\"Target not found in list\")\n",
    "\n",
    "numbers = [i for i in range(1, 11)]\n",
    "\n",
    "verify(binary_search(numbers, 4))"
   ]
  },
  {
   "cell_type": "code",
   "execution_count": 7,
   "metadata": {},
   "outputs": [],
   "source": [
    "def binary_search(list: list[int], target: int) -> bool:\n",
    "    if len(list) == 0:\n",
    "        return False\n",
    "    else:\n",
    "        midpoint = (len(list)) // 2\n",
    "\n",
    "        if list[midpoint] == target:\n",
    "            return True\n",
    "        else:\n",
    "            if list[midpoint] < target:\n",
    "                return binary_search(list[(midpoint+1):], target)\n",
    "            else:\n",
    "                return binary_search(list[:(midpoint)], target)\n",
    "            \n",
    "def verify(result: bool):\n",
    "    if result == True:\n",
    "        True\n",
    "    else: \n",
    "        None\n"
   ]
  },
  {
   "cell_type": "code",
   "execution_count": 6,
   "metadata": {},
   "outputs": [
    {
     "data": {
      "text/plain": [
       "False"
      ]
     },
     "execution_count": 6,
     "metadata": {},
     "output_type": "execute_result"
    }
   ],
   "source": [
    "binary_search(numbers, 15)"
   ]
  },
  {
   "cell_type": "code",
   "execution_count": null,
   "metadata": {},
   "outputs": [],
   "source": []
  }
 ],
 "metadata": {
  "kernelspec": {
   "display_name": "Python 3",
   "language": "python",
   "name": "python3"
  },
  "language_info": {
   "codemirror_mode": {
    "name": "ipython",
    "version": 3
   },
   "file_extension": ".py",
   "mimetype": "text/x-python",
   "name": "python",
   "nbconvert_exporter": "python",
   "pygments_lexer": "ipython3",
   "version": "3.12.2"
  }
 },
 "nbformat": 4,
 "nbformat_minor": 2
}
